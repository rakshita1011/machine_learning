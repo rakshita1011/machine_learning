{
 "cells": [
  {
   "cell_type": "code",
   "execution_count": 1,
   "id": "2d181016",
   "metadata": {},
   "outputs": [
    {
     "name": "stdout",
     "output_type": "stream",
     "text": [
      "Collecting package metadata (current_repodata.json): ...working... failed\n",
      "\n",
      "Note: you may need to restart the kernel to use updated packages.\n"
     ]
    },
    {
     "name": "stderr",
     "output_type": "stream",
     "text": [
      "\n",
      "# >>>>>>>>>>>>>>>>>>>>>> ERROR REPORT <<<<<<<<<<<<<<<<<<<<<<\n",
      "\n",
      "    Traceback (most recent call last):\n",
      "      File \"C:\\Users\\raksh\\anaconda3\\lib\\site-packages\\urllib3\\response.py\", line 438, in _error_catcher\n",
      "        yield\n",
      "      File \"C:\\Users\\raksh\\anaconda3\\lib\\site-packages\\urllib3\\response.py\", line 767, in read_chunked\n",
      "        chunk = self._handle_chunk(amt)\n",
      "      File \"C:\\Users\\raksh\\anaconda3\\lib\\site-packages\\urllib3\\response.py\", line 720, in _handle_chunk\n",
      "        returned_chunk = self._fp._safe_read(self.chunk_left)\n",
      "      File \"C:\\Users\\raksh\\anaconda3\\lib\\http\\client.py\", line 612, in _safe_read\n",
      "        data = self.fp.read(amt)\n",
      "      File \"C:\\Users\\raksh\\anaconda3\\lib\\socket.py\", line 669, in readinto\n",
      "        return self._sock.recv_into(b)\n",
      "      File \"C:\\Users\\raksh\\anaconda3\\lib\\ssl.py\", line 1241, in recv_into\n",
      "        return self.read(nbytes, buffer)\n",
      "      File \"C:\\Users\\raksh\\anaconda3\\lib\\ssl.py\", line 1099, in read\n",
      "        return self._sslobj.read(len, buffer)\n",
      "    ConnectionResetError: [WinError 10054] An existing connection was forcibly closed by the remote host\n",
      "    \n",
      "    During handling of the above exception, another exception occurred:\n",
      "    \n",
      "    Traceback (most recent call last):\n",
      "      File \"C:\\Users\\raksh\\anaconda3\\lib\\site-packages\\requests\\models.py\", line 753, in generate\n",
      "        for chunk in self.raw.stream(chunk_size, decode_content=True):\n",
      "      File \"C:\\Users\\raksh\\anaconda3\\lib\\site-packages\\urllib3\\response.py\", line 572, in stream\n",
      "        for line in self.read_chunked(amt, decode_content=decode_content):\n",
      "      File \"C:\\Users\\raksh\\anaconda3\\lib\\site-packages\\urllib3\\response.py\", line 793, in read_chunked\n",
      "        self._original_response.close()\n",
      "      File \"C:\\Users\\raksh\\anaconda3\\lib\\contextlib.py\", line 131, in __exit__\n",
      "        self.gen.throw(type, value, traceback)\n",
      "      File \"C:\\Users\\raksh\\anaconda3\\lib\\site-packages\\urllib3\\response.py\", line 455, in _error_catcher\n",
      "        raise ProtocolError(\"Connection broken: %r\" % e, e)\n",
      "    urllib3.exceptions.ProtocolError: (\"Connection broken: ConnectionResetError(10054, 'An existing connection was forcibly closed by the remote host', None, 10054, None)\", ConnectionResetError(10054, 'An existing connection was forcibly closed by the remote host', None, 10054, None))\n",
      "    \n",
      "    During handling of the above exception, another exception occurred:\n",
      "    \n",
      "    Traceback (most recent call last):\n",
      "      File \"C:\\Users\\raksh\\anaconda3\\lib\\site-packages\\conda\\exceptions.py\", line 1079, in __call__\n",
      "        return func(*args, **kwargs)\n",
      "      File \"C:\\Users\\raksh\\anaconda3\\lib\\site-packages\\conda\\cli\\main.py\", line 84, in _main\n",
      "        exit_code = do_call(args, p)\n",
      "      File \"C:\\Users\\raksh\\anaconda3\\lib\\site-packages\\conda\\cli\\conda_argparse.py\", line 83, in do_call\n",
      "        return getattr(module, func_name)(args, parser)\n",
      "      File \"C:\\Users\\raksh\\anaconda3\\lib\\site-packages\\conda\\cli\\main_install.py\", line 20, in execute\n",
      "        install(args, parser, 'install')\n",
      "      File \"C:\\Users\\raksh\\anaconda3\\lib\\site-packages\\conda\\cli\\install.py\", line 261, in install\n",
      "        unlink_link_transaction = solver.solve_for_transaction(\n",
      "      File \"C:\\Users\\raksh\\anaconda3\\lib\\site-packages\\conda\\core\\solve.py\", line 114, in solve_for_transaction\n",
      "        unlink_precs, link_precs = self.solve_for_diff(update_modifier, deps_modifier,\n",
      "      File \"C:\\Users\\raksh\\anaconda3\\lib\\site-packages\\conda\\core\\solve.py\", line 157, in solve_for_diff\n",
      "        final_precs = self.solve_final_state(update_modifier, deps_modifier, prune, ignore_pinned,\n",
      "      File \"C:\\Users\\raksh\\anaconda3\\lib\\site-packages\\conda\\core\\solve.py\", line 262, in solve_final_state\n",
      "        ssc = self._collect_all_metadata(ssc)\n",
      "      File \"C:\\Users\\raksh\\anaconda3\\lib\\site-packages\\conda\\common\\io.py\", line 88, in decorated\n",
      "        return f(*args, **kwds)\n",
      "      File \"C:\\Users\\raksh\\anaconda3\\lib\\site-packages\\conda\\core\\solve.py\", line 425, in _collect_all_metadata\n",
      "        index, r = self._prepare(prepared_specs)\n",
      "      File \"C:\\Users\\raksh\\anaconda3\\lib\\site-packages\\conda\\core\\solve.py\", line 1020, in _prepare\n",
      "        reduced_index = get_reduced_index(self.prefix, self.channels,\n",
      "      File \"C:\\Users\\raksh\\anaconda3\\lib\\site-packages\\conda\\core\\index.py\", line 288, in get_reduced_index\n",
      "        new_records = SubdirData.query_all(spec, channels=channels, subdirs=subdirs,\n",
      "      File \"C:\\Users\\raksh\\anaconda3\\lib\\site-packages\\conda\\core\\subdir_data.py\", line 140, in query_all\n",
      "        result = tuple(concat(executor.map(subdir_query, channel_urls)))\n",
      "      File \"C:\\Users\\raksh\\anaconda3\\lib\\concurrent\\futures\\_base.py\", line 611, in result_iterator\n",
      "        yield fs.pop().result()\n",
      "      File \"C:\\Users\\raksh\\anaconda3\\lib\\concurrent\\futures\\_base.py\", line 432, in result\n",
      "        return self.__get_result()\n",
      "      File \"C:\\Users\\raksh\\anaconda3\\lib\\concurrent\\futures\\_base.py\", line 388, in __get_result\n",
      "        raise self._exception\n",
      "      File \"C:\\Users\\raksh\\anaconda3\\lib\\concurrent\\futures\\thread.py\", line 57, in run\n",
      "        result = self.fn(*self.args, **self.kwargs)\n",
      "      File \"C:\\Users\\raksh\\anaconda3\\lib\\site-packages\\conda\\core\\subdir_data.py\", line 132, in <lambda>\n",
      "        subdir_query = lambda url: tuple(SubdirData(Channel(url), repodata_fn=repodata_fn).query(\n",
      "      File \"C:\\Users\\raksh\\anaconda3\\lib\\site-packages\\conda\\core\\subdir_data.py\", line 145, in query\n",
      "        self.load()\n",
      "      File \"C:\\Users\\raksh\\anaconda3\\lib\\site-packages\\conda\\core\\subdir_data.py\", line 209, in load\n",
      "        _internal_state = self._load()\n",
      "      File \"C:\\Users\\raksh\\anaconda3\\lib\\site-packages\\conda\\core\\subdir_data.py\", line 371, in _load\n",
      "        raw_repodata_str = fetch_repodata_remote_request(\n",
      "      File \"C:\\Users\\raksh\\anaconda3\\lib\\site-packages\\conda\\core\\subdir_data.py\", line 694, in fetch_repodata_remote_request\n",
      "        resp = session.get(join_url(url, filename), headers=headers, proxies=session.proxies,\n",
      "      File \"C:\\Users\\raksh\\anaconda3\\lib\\site-packages\\requests\\sessions.py\", line 555, in get\n",
      "        return self.request('GET', url, **kwargs)\n",
      "      File \"C:\\Users\\raksh\\anaconda3\\lib\\site-packages\\requests\\sessions.py\", line 542, in request\n",
      "        resp = self.send(prep, **send_kwargs)\n",
      "      File \"C:\\Users\\raksh\\anaconda3\\lib\\site-packages\\requests\\sessions.py\", line 697, in send\n",
      "        r.content\n",
      "      File \"C:\\Users\\raksh\\anaconda3\\lib\\site-packages\\requests\\models.py\", line 831, in content\n",
      "        self._content = b''.join(self.iter_content(CONTENT_CHUNK_SIZE)) or b''\n",
      "      File \"C:\\Users\\raksh\\anaconda3\\lib\\site-packages\\requests\\models.py\", line 756, in generate\n",
      "        raise ChunkedEncodingError(e)\n",
      "    requests.exceptions.ChunkedEncodingError: (\"Connection broken: ConnectionResetError(10054, 'An existing connection was forcibly closed by the remote host', None, 10054, None)\", ConnectionResetError(10054, 'An existing connection was forcibly closed by the remote host', None, 10054, None))\n",
      "\n",
      "`$ C:\\Users\\raksh\\anaconda3\\Scripts\\conda-script.py install --yes --prefix C:\\Users\\raksh\\anaconda3 -c glemaitre imbalanced-learn`\n",
      "\n",
      "  environment variables:\n",
      "                 CIO_TEST=<not set>\n",
      "                CONDA_EXE=C:\\Users\\raksh\\anaconda3\\condabin\\..\\Scripts\\conda.exe\n",
      "               CONDA_EXES=\"C:\\Users\\raksh\\anaconda3\\condabin\\..\\Scripts\\conda.exe\"\n",
      "             CONDA_PREFIX=C:\\Users\\raksh\\anaconda3\n",
      "               CONDA_ROOT=C:\\Users\\raksh\\anaconda3\n",
      "           CURL_CA_BUNDLE=<not set>\n",
      "                 HOMEPATH=\\Users\\raksh\n",
      "                     PATH=C:\\Users\\raksh\\anaconda3;C:\\Users\\raksh\\anaconda3\\Library\\mingw-w64\\bi\n",
      "                          n;C:\\Users\\raksh\\anaconda3\\Library\\usr\\bin;C:\\Users\\raksh\\anaconda3\\Li\n",
      "                          brary\\bin;C:\\Users\\raksh\\anaconda3\\Scripts;C:\\Users\\raksh\\anaconda3\\bi\n",
      "                          n;C:\\Users\\raksh\\anaconda3;C:\\Users\\raksh\\anaconda3\\Library\\mingw-w64\\\n",
      "                          bin;C:\\Users\\raksh\\anaconda3\\Library\\usr\\bin;C:\\Users\\raksh\\anaconda3\\\n",
      "                          Library\\bin;C:\\Users\\raksh\\anaconda3\\Scripts;C:\\Program Files\\Common\n",
      "                          Files\\Oracle\\Java\\javapath;C:\\Program\n",
      "                          Files\\Python310\\Scripts\\;C:\\Program Files\\Python310\\;C:\\Windows\\system\n",
      "                          32;C:\\Windows;C:\\Windows\\System32\\Wbem;C:\\Windows\\System32\\WindowsPowe\n",
      "                          rShell\\v1.0\\;C:\\Windows\\System32\\OpenSSH\\;C:\\Program Files\n",
      "                          (x86)\\NVIDIA Corporation\\PhysX\\Common;C:\\Program Files\\NVIDIA\n",
      "                          Corporation\\NVIDIA NvDLISR;C:\\WINDOWS\\system32;C:\\WINDOWS;C:\\WINDOWS\\S\n",
      "                          ystem32\\Wbem;C:\\WINDOWS\\System32\\WindowsPowerShell\\v1.0\\;C:\\WINDOWS\\Sy\n",
      "                          stem32\\OpenSSH\\;C:\\Program Files\\MySQL\\MySQL Shell 8.0\\bin\\;C:\\Users\\r\n",
      "                          aksh\\anaconda3;C:\\Users\\raksh\\anaconda3\\Library\\mingw-w64\\bin;C:\\Users\n",
      "                          \\raksh\\anaconda3\\Library\\usr\\bin;C:\\Users\\raksh\\anaconda3\\Library\\bin;\n",
      "                          C:\\Users\\raksh\\anaconda3\\Scripts;C:\\Users\\raksh\\AppData\\Local\\Microsof\n",
      "                          t\\WindowsApps;C:\\Program Files\\JetBrains\\PyCharm Community Edition\n",
      "                          2021.3.2\\bin;\n",
      "             PSMODULEPATH=C:\\Program Files\\WindowsPowerShell\\Modules;C:\\WINDOWS\\system32\\Windows\n",
      "                          PowerShell\\v1.0\\Modules\n",
      "       REQUESTS_CA_BUNDLE=<not set>\n",
      "            SSL_CERT_FILE=<not set>\n",
      "\n",
      "     active environment : base\n",
      "    active env location : C:\\Users\\raksh\\anaconda3\n",
      "       user config file : C:\\Users\\raksh\\.condarc\n",
      " populated config files : \n",
      "          conda version : 4.10.1\n",
      "    conda-build version : 3.21.4\n",
      "         python version : 3.8.8.final.0\n",
      "       virtual packages : __cuda=11.0=0\n",
      "                          __win=0=0\n",
      "                          __archspec=1=x86_64\n",
      "       base environment : C:\\Users\\raksh\\anaconda3  (writable)\n",
      "      conda av data dir : C:\\Users\\raksh\\anaconda3\\etc\\conda\n",
      "  conda av metadata url : https://repo.anaconda.com/pkgs/main\n",
      "           channel URLs : https://conda.anaconda.org/glemaitre/win-64\n",
      "                          https://conda.anaconda.org/glemaitre/noarch\n",
      "                          https://repo.anaconda.com/pkgs/main/win-64\n",
      "                          https://repo.anaconda.com/pkgs/main/noarch\n",
      "                          https://repo.anaconda.com/pkgs/r/win-64\n",
      "                          https://repo.anaconda.com/pkgs/r/noarch\n",
      "                          https://repo.anaconda.com/pkgs/msys2/win-64\n",
      "                          https://repo.anaconda.com/pkgs/msys2/noarch\n",
      "          package cache : C:\\Users\\raksh\\anaconda3\\pkgs\n",
      "                          C:\\Users\\raksh\\.conda\\pkgs\n",
      "                          C:\\Users\\raksh\\AppData\\Local\\conda\\conda\\pkgs\n",
      "       envs directories : C:\\Users\\raksh\\anaconda3\\envs\n",
      "                          C:\\Users\\raksh\\.conda\\envs\n",
      "                          C:\\Users\\raksh\\AppData\\Local\\conda\\conda\\envs\n",
      "               platform : win-64\n",
      "             user-agent : conda/4.10.1 requests/2.25.1 CPython/3.8.8 Windows/10 Windows/10.0.22000\n",
      "          administrator : False\n",
      "             netrc file : None\n",
      "           offline mode : False\n",
      "\n",
      "\n",
      "An unexpected error has occurred. Conda has prepared the above report.\n",
      "\n",
      "Upload did not complete.\n"
     ]
    }
   ],
   "source": [
    "conda install -c glemaitre imbalanced-learn"
   ]
  },
  {
   "cell_type": "code",
   "execution_count": 2,
   "id": "8bdfaf41",
   "metadata": {},
   "outputs": [
    {
     "name": "stdout",
     "output_type": "stream",
     "text": [
      "Requirement already satisfied: imblearn in c:\\users\\raksh\\anaconda3\\lib\\site-packages (0.0)\n",
      "Requirement already satisfied: imbalanced-learn in c:\\users\\raksh\\anaconda3\\lib\\site-packages (from imblearn) (0.9.1)\n",
      "Requirement already satisfied: scipy>=1.3.2 in c:\\users\\raksh\\anaconda3\\lib\\site-packages (from imbalanced-learn->imblearn) (1.6.2)\n",
      "Requirement already satisfied: joblib>=1.0.0 in c:\\users\\raksh\\anaconda3\\lib\\site-packages (from imbalanced-learn->imblearn) (1.0.1)\n",
      "Requirement already satisfied: threadpoolctl>=2.0.0 in c:\\users\\raksh\\anaconda3\\lib\\site-packages (from imbalanced-learn->imblearn) (2.1.0)\n",
      "Requirement already satisfied: scikit-learn>=1.1.0 in c:\\users\\raksh\\anaconda3\\lib\\site-packages (from imbalanced-learn->imblearn) (1.1.1)\n",
      "Requirement already satisfied: numpy>=1.17.3 in c:\\users\\raksh\\anaconda3\\lib\\site-packages (from imbalanced-learn->imblearn) (1.20.1)\n"
     ]
    }
   ],
   "source": [
    "!pip install imblearn"
   ]
  },
  {
   "cell_type": "code",
   "execution_count": 3,
   "id": "5d6cb5fe",
   "metadata": {},
   "outputs": [
    {
     "name": "stdout",
     "output_type": "stream",
     "text": [
      "Requirement already satisfied: imbalanced-learn in c:\\users\\raksh\\anaconda3\\lib\\site-packages (0.9.1)\n",
      "Requirement already satisfied: numpy>=1.17.3 in c:\\users\\raksh\\anaconda3\\lib\\site-packages (from imbalanced-learn) (1.20.1)\n",
      "Requirement already satisfied: scipy>=1.3.2 in c:\\users\\raksh\\anaconda3\\lib\\site-packages (from imbalanced-learn) (1.6.2)\n",
      "Requirement already satisfied: scikit-learn>=1.1.0 in c:\\users\\raksh\\anaconda3\\lib\\site-packages (from imbalanced-learn) (1.1.1)\n",
      "Requirement already satisfied: threadpoolctl>=2.0.0 in c:\\users\\raksh\\anaconda3\\lib\\site-packages (from imbalanced-learn) (2.1.0)\n",
      "Requirement already satisfied: joblib>=1.0.0 in c:\\users\\raksh\\anaconda3\\lib\\site-packages (from imbalanced-learn) (1.0.1)\n"
     ]
    }
   ],
   "source": [
    "! pip install imbalanced-learn"
   ]
  },
  {
   "cell_type": "markdown",
   "id": "7ea2bb7b",
   "metadata": {},
   "source": [
    "# Credit Card Fraud Detection"
   ]
  },
  {
   "cell_type": "code",
   "execution_count": 4,
   "id": "199d70ab",
   "metadata": {},
   "outputs": [],
   "source": [
    "#importing necessary modules\n",
    "\n",
    "import numpy as np\n",
    "import pandas as pd\n",
    "import matplotlib.pyplot as plt\n",
    "import itertools\n",
    "\n",
    "from collections import Counter\n",
    "from sklearn.preprocessing import StandardScaler\n",
    "from sklearn.model_selection import train_test_split\n",
    "from sklearn.ensemble import RandomForestClassifier\n",
    "from sklearn.neighbors import KNeighborsClassifier, KNeighborsRegressor\n",
    "from sklearn.tree import DecisionTreeClassifier\n",
    "\n",
    "from sklearn.metrics import accuracy_score, precision_score, confusion_matrix, f1_score"
   ]
  },
  {
   "cell_type": "code",
   "execution_count": 5,
   "id": "2dec0b99",
   "metadata": {},
   "outputs": [
    {
     "data": {
      "text/html": [
       "<div>\n",
       "<style scoped>\n",
       "    .dataframe tbody tr th:only-of-type {\n",
       "        vertical-align: middle;\n",
       "    }\n",
       "\n",
       "    .dataframe tbody tr th {\n",
       "        vertical-align: top;\n",
       "    }\n",
       "\n",
       "    .dataframe thead th {\n",
       "        text-align: right;\n",
       "    }\n",
       "</style>\n",
       "<table border=\"1\" class=\"dataframe\">\n",
       "  <thead>\n",
       "    <tr style=\"text-align: right;\">\n",
       "      <th></th>\n",
       "      <th>Time</th>\n",
       "      <th>V1</th>\n",
       "      <th>V2</th>\n",
       "      <th>V3</th>\n",
       "      <th>V4</th>\n",
       "      <th>V5</th>\n",
       "      <th>V6</th>\n",
       "      <th>V7</th>\n",
       "      <th>V8</th>\n",
       "      <th>V9</th>\n",
       "      <th>...</th>\n",
       "      <th>V21</th>\n",
       "      <th>V22</th>\n",
       "      <th>V23</th>\n",
       "      <th>V24</th>\n",
       "      <th>V25</th>\n",
       "      <th>V26</th>\n",
       "      <th>V27</th>\n",
       "      <th>V28</th>\n",
       "      <th>Amount</th>\n",
       "      <th>Class</th>\n",
       "    </tr>\n",
       "  </thead>\n",
       "  <tbody>\n",
       "    <tr>\n",
       "      <th>0</th>\n",
       "      <td>0.0</td>\n",
       "      <td>-1.359807</td>\n",
       "      <td>-0.072781</td>\n",
       "      <td>2.536347</td>\n",
       "      <td>1.378155</td>\n",
       "      <td>-0.338321</td>\n",
       "      <td>0.462388</td>\n",
       "      <td>0.239599</td>\n",
       "      <td>0.098698</td>\n",
       "      <td>0.363787</td>\n",
       "      <td>...</td>\n",
       "      <td>-0.018307</td>\n",
       "      <td>0.277838</td>\n",
       "      <td>-0.110474</td>\n",
       "      <td>0.066928</td>\n",
       "      <td>0.128539</td>\n",
       "      <td>-0.189115</td>\n",
       "      <td>0.133558</td>\n",
       "      <td>-0.021053</td>\n",
       "      <td>149.62</td>\n",
       "      <td>0</td>\n",
       "    </tr>\n",
       "    <tr>\n",
       "      <th>1</th>\n",
       "      <td>0.0</td>\n",
       "      <td>1.191857</td>\n",
       "      <td>0.266151</td>\n",
       "      <td>0.166480</td>\n",
       "      <td>0.448154</td>\n",
       "      <td>0.060018</td>\n",
       "      <td>-0.082361</td>\n",
       "      <td>-0.078803</td>\n",
       "      <td>0.085102</td>\n",
       "      <td>-0.255425</td>\n",
       "      <td>...</td>\n",
       "      <td>-0.225775</td>\n",
       "      <td>-0.638672</td>\n",
       "      <td>0.101288</td>\n",
       "      <td>-0.339846</td>\n",
       "      <td>0.167170</td>\n",
       "      <td>0.125895</td>\n",
       "      <td>-0.008983</td>\n",
       "      <td>0.014724</td>\n",
       "      <td>2.69</td>\n",
       "      <td>0</td>\n",
       "    </tr>\n",
       "    <tr>\n",
       "      <th>2</th>\n",
       "      <td>1.0</td>\n",
       "      <td>-1.358354</td>\n",
       "      <td>-1.340163</td>\n",
       "      <td>1.773209</td>\n",
       "      <td>0.379780</td>\n",
       "      <td>-0.503198</td>\n",
       "      <td>1.800499</td>\n",
       "      <td>0.791461</td>\n",
       "      <td>0.247676</td>\n",
       "      <td>-1.514654</td>\n",
       "      <td>...</td>\n",
       "      <td>0.247998</td>\n",
       "      <td>0.771679</td>\n",
       "      <td>0.909412</td>\n",
       "      <td>-0.689281</td>\n",
       "      <td>-0.327642</td>\n",
       "      <td>-0.139097</td>\n",
       "      <td>-0.055353</td>\n",
       "      <td>-0.059752</td>\n",
       "      <td>378.66</td>\n",
       "      <td>0</td>\n",
       "    </tr>\n",
       "    <tr>\n",
       "      <th>3</th>\n",
       "      <td>1.0</td>\n",
       "      <td>-0.966272</td>\n",
       "      <td>-0.185226</td>\n",
       "      <td>1.792993</td>\n",
       "      <td>-0.863291</td>\n",
       "      <td>-0.010309</td>\n",
       "      <td>1.247203</td>\n",
       "      <td>0.237609</td>\n",
       "      <td>0.377436</td>\n",
       "      <td>-1.387024</td>\n",
       "      <td>...</td>\n",
       "      <td>-0.108300</td>\n",
       "      <td>0.005274</td>\n",
       "      <td>-0.190321</td>\n",
       "      <td>-1.175575</td>\n",
       "      <td>0.647376</td>\n",
       "      <td>-0.221929</td>\n",
       "      <td>0.062723</td>\n",
       "      <td>0.061458</td>\n",
       "      <td>123.50</td>\n",
       "      <td>0</td>\n",
       "    </tr>\n",
       "    <tr>\n",
       "      <th>4</th>\n",
       "      <td>2.0</td>\n",
       "      <td>-1.158233</td>\n",
       "      <td>0.877737</td>\n",
       "      <td>1.548718</td>\n",
       "      <td>0.403034</td>\n",
       "      <td>-0.407193</td>\n",
       "      <td>0.095921</td>\n",
       "      <td>0.592941</td>\n",
       "      <td>-0.270533</td>\n",
       "      <td>0.817739</td>\n",
       "      <td>...</td>\n",
       "      <td>-0.009431</td>\n",
       "      <td>0.798278</td>\n",
       "      <td>-0.137458</td>\n",
       "      <td>0.141267</td>\n",
       "      <td>-0.206010</td>\n",
       "      <td>0.502292</td>\n",
       "      <td>0.219422</td>\n",
       "      <td>0.215153</td>\n",
       "      <td>69.99</td>\n",
       "      <td>0</td>\n",
       "    </tr>\n",
       "  </tbody>\n",
       "</table>\n",
       "<p>5 rows × 31 columns</p>\n",
       "</div>"
      ],
      "text/plain": [
       "   Time        V1        V2        V3        V4        V5        V6        V7  \\\n",
       "0   0.0 -1.359807 -0.072781  2.536347  1.378155 -0.338321  0.462388  0.239599   \n",
       "1   0.0  1.191857  0.266151  0.166480  0.448154  0.060018 -0.082361 -0.078803   \n",
       "2   1.0 -1.358354 -1.340163  1.773209  0.379780 -0.503198  1.800499  0.791461   \n",
       "3   1.0 -0.966272 -0.185226  1.792993 -0.863291 -0.010309  1.247203  0.237609   \n",
       "4   2.0 -1.158233  0.877737  1.548718  0.403034 -0.407193  0.095921  0.592941   \n",
       "\n",
       "         V8        V9  ...       V21       V22       V23       V24       V25  \\\n",
       "0  0.098698  0.363787  ... -0.018307  0.277838 -0.110474  0.066928  0.128539   \n",
       "1  0.085102 -0.255425  ... -0.225775 -0.638672  0.101288 -0.339846  0.167170   \n",
       "2  0.247676 -1.514654  ...  0.247998  0.771679  0.909412 -0.689281 -0.327642   \n",
       "3  0.377436 -1.387024  ... -0.108300  0.005274 -0.190321 -1.175575  0.647376   \n",
       "4 -0.270533  0.817739  ... -0.009431  0.798278 -0.137458  0.141267 -0.206010   \n",
       "\n",
       "        V26       V27       V28  Amount  Class  \n",
       "0 -0.189115  0.133558 -0.021053  149.62      0  \n",
       "1  0.125895 -0.008983  0.014724    2.69      0  \n",
       "2 -0.139097 -0.055353 -0.059752  378.66      0  \n",
       "3 -0.221929  0.062723  0.061458  123.50      0  \n",
       "4  0.502292  0.219422  0.215153   69.99      0  \n",
       "\n",
       "[5 rows x 31 columns]"
      ]
     },
     "execution_count": 5,
     "metadata": {},
     "output_type": "execute_result"
    }
   ],
   "source": [
    "#loading dataframe\n",
    "\n",
    "df= pd.read_csv(\"creditcard.csv\")\n",
    "df.head()"
   ]
  },
  {
   "cell_type": "code",
   "execution_count": 6,
   "id": "f52ea415",
   "metadata": {},
   "outputs": [
    {
     "name": "stdout",
     "output_type": "stream",
     "text": [
      "<class 'pandas.core.frame.DataFrame'>\n",
      "RangeIndex: 284807 entries, 0 to 284806\n",
      "Data columns (total 31 columns):\n",
      " #   Column  Non-Null Count   Dtype  \n",
      "---  ------  --------------   -----  \n",
      " 0   Time    284807 non-null  float64\n",
      " 1   V1      284807 non-null  float64\n",
      " 2   V2      284807 non-null  float64\n",
      " 3   V3      284807 non-null  float64\n",
      " 4   V4      284807 non-null  float64\n",
      " 5   V5      284807 non-null  float64\n",
      " 6   V6      284807 non-null  float64\n",
      " 7   V7      284807 non-null  float64\n",
      " 8   V8      284807 non-null  float64\n",
      " 9   V9      284807 non-null  float64\n",
      " 10  V10     284807 non-null  float64\n",
      " 11  V11     284807 non-null  float64\n",
      " 12  V12     284807 non-null  float64\n",
      " 13  V13     284807 non-null  float64\n",
      " 14  V14     284807 non-null  float64\n",
      " 15  V15     284807 non-null  float64\n",
      " 16  V16     284807 non-null  float64\n",
      " 17  V17     284807 non-null  float64\n",
      " 18  V18     284807 non-null  float64\n",
      " 19  V19     284807 non-null  float64\n",
      " 20  V20     284807 non-null  float64\n",
      " 21  V21     284807 non-null  float64\n",
      " 22  V22     284807 non-null  float64\n",
      " 23  V23     284807 non-null  float64\n",
      " 24  V24     284807 non-null  float64\n",
      " 25  V25     284807 non-null  float64\n",
      " 26  V26     284807 non-null  float64\n",
      " 27  V27     284807 non-null  float64\n",
      " 28  V28     284807 non-null  float64\n",
      " 29  Amount  284807 non-null  float64\n",
      " 30  Class   284807 non-null  int64  \n",
      "dtypes: float64(30), int64(1)\n",
      "memory usage: 67.4 MB\n"
     ]
    }
   ],
   "source": [
    "df.info()"
   ]
  },
  {
   "cell_type": "code",
   "execution_count": 7,
   "id": "ca828489",
   "metadata": {},
   "outputs": [
    {
     "data": {
      "text/plain": [
       "False"
      ]
     },
     "execution_count": 7,
     "metadata": {},
     "output_type": "execute_result"
    }
   ],
   "source": [
    "df.isnull ().values.any ()"
   ]
  },
  {
   "cell_type": "code",
   "execution_count": 8,
   "id": "44795db1",
   "metadata": {},
   "outputs": [
    {
     "data": {
      "text/plain": [
       "count    284807.000000\n",
       "mean         88.349619\n",
       "std         250.120109\n",
       "min           0.000000\n",
       "25%           5.600000\n",
       "50%          22.000000\n",
       "75%          77.165000\n",
       "max       25691.160000\n",
       "Name: Amount, dtype: float64"
      ]
     },
     "execution_count": 8,
     "metadata": {},
     "output_type": "execute_result"
    }
   ],
   "source": [
    "df[\"Amount\"].describe()"
   ]
  },
  {
   "cell_type": "code",
   "execution_count": 10,
   "id": "9b4824b8",
   "metadata": {},
   "outputs": [
    {
     "name": "stdout",
     "output_type": "stream",
     "text": [
      "Number of Genuine transactions:  284315\n",
      "Number of Fraudulent transactions:  492\n",
      "Percentage of Fraudulent transactions: 0.1727\n"
     ]
    }
   ],
   "source": [
    "not_fraud = len(df[df.Class == 0])\n",
    "fraud = len(df[df.Class == 1])\n",
    "percentage_fraud = (fraud / (fraud + not_fraud) ) * 100\n",
    "\n",
    "print(\"Number of Genuine transactions: \", not_fraud)\n",
    "print(\"Number of Fraudulent transactions: \", fraud)\n",
    "print(\"Percentage of Fraudulent transactions: {:.4f}\". format(percentage_fraud))"
   ]
  },
  {
   "cell_type": "code",
   "execution_count": 12,
   "id": "9820f1e8",
   "metadata": {},
   "outputs": [
    {
     "data": {
      "image/png": "[encoded data removed]",
      "text/plain": [
       "<Figure size 432x288 with 1 Axes>"
      ]
     },
     "metadata": {
      "needs_background": "light"
     },
     "output_type": "display_data"
    }
   ],
   "source": [
    "#ploting information using matplotlib\n",
    "\n",
    "labels = [\"Genuine\", \"Fraud\"]\n",
    "count_classes = df.value_counts(df['Class'], sort= True)\n",
    "count_classes.plot(kind = \"bar\", rot = 0)\n",
    "plt.title(\"Visualization of Labels\")\n",
    "plt.ylabel(\"Count\")\n",
    "plt.xticks(range(2), labels)\n",
    "plt.show()"
   ]
  },
  {
   "cell_type": "markdown",
   "id": "29f85314",
   "metadata": {},
   "source": [
    "Through above visualization, the difference between geniuine and fraud transaction shows the need for scaling of data.Scaling technique is applied to 'Amount' feature, adding new column with scaled values and dropping irrelevant data"
   ]
  },
  {
   "cell_type": "code",
   "execution_count": 13,
   "id": "f4121e9e",
   "metadata": {},
   "outputs": [],
   "source": [
    "scaler = StandardScaler()\n",
    "df[\"ScaledAmount\"] = scaler.fit_transform(df[\"Amount\"].values.reshape(-1, 1))\n",
    "df.drop([\"Amount\", \"Time\"], inplace=True, axis= 1)\n",
    "Y = df[\"Class\"]\n",
    "X = df.drop([\"Class\"], axis= 1)"
   ]
  },
  {
   "cell_type": "markdown",
   "id": "bec670fa",
   "metadata": {},
   "source": [
    "Train and Test Split of 70-30"
   ]
  },
  {
   "cell_type": "code",
   "execution_count": 15,
   "id": "cd14633e",
   "metadata": {},
   "outputs": [
    {
     "name": "stdout",
     "output_type": "stream",
     "text": [
      "Shape of train_X:  (199364, 29)\n",
      "Shape of test_X:  (85443, 29)\n"
     ]
    }
   ],
   "source": [
    "(train_X, test_X, train_Y, test_Y) = train_test_split(X, Y, test_size = 0.30, random_state = 40)\n",
    "\n",
    "print(\"Shape of train_X: \" ,train_X.shape)\n",
    "print(\"Shape of test_X: \" ,test_X.shape)"
   ]
  },
  {
   "cell_type": "markdown",
   "id": "8117182c",
   "metadata": {},
   "source": [
    "## Applying Machine Learning Algorithms"
   ]
  },
  {
   "cell_type": "markdown",
   "id": "0d7a7039",
   "metadata": {},
   "source": [
    "### Decision Tree"
   ]
  },
  {
   "cell_type": "code",
   "execution_count": 16,
   "id": "ff2b0b51",
   "metadata": {},
   "outputs": [],
   "source": [
    "dt = DecisionTreeClassifier()\n",
    "dt.fit(train_X, train_Y)\n",
    "dt_predict = dt.predict(test_X)\n"
   ]
  },
  {
   "cell_type": "code",
   "execution_count": 17,
   "id": "7d9b9189",
   "metadata": {},
   "outputs": [
    {
     "name": "stdout",
     "output_type": "stream",
     "text": [
      "precision score of Decision tree model : 0.7552447552447552\n",
      "Accuracy of Decision tree model : 0.9992392589211521\n",
      "F1 score of Decision tree model : 0.7686832740213522\n"
     ]
    },
    {
     "data": {
      "text/plain": [
       "array([[85270,    35],\n",
       "       [   30,   108]], dtype=int64)"
      ]
     },
     "execution_count": 17,
     "metadata": {},
     "output_type": "execute_result"
    }
   ],
   "source": [
    "accuracy_dt = accuracy_score(test_Y, dt_predict)\n",
    "f1_score_dt = f1_score(test_Y, dt_predict)\n",
    "precision_score_dt = precision_score(test_Y, dt_predict)\n",
    "print(\"precision score of Decision tree model :\" , precision_score_dt)\n",
    "print(\"Accuracy of Decision tree model :\" , accuracy_dt)\n",
    "print(\"F1 score of Decision tree model :\" , f1_score_dt)\n",
    "confusion_matrix(test_Y, dt_predict, labels = [0,1])"
   ]
  },
  {
   "cell_type": "markdown",
   "id": "6fa2e3fc",
   "metadata": {},
   "source": [
    "the first row of array represents positive and the second row represents negative. so, above are 85270 as true positive and 35 are false positive, meaning, out of 85270+35=85305, we have 85270 that are successfully classified as a normal transaction and 35 were falsely classified as normal — but they were fraudulent."
   ]
  },
  {
   "cell_type": "markdown",
   "id": "7d23f725",
   "metadata": {},
   "source": [
    "### Random Forest"
   ]
  },
  {
   "cell_type": "code",
   "execution_count": 18,
   "id": "2e918920",
   "metadata": {},
   "outputs": [],
   "source": [
    "rf = RandomForestClassifier()\n",
    "rf.fit(train_X, train_Y)\n",
    "rf_predict = rf.predict(test_X)"
   ]
  },
  {
   "cell_type": "code",
   "execution_count": 19,
   "id": "ea500dfe",
   "metadata": {},
   "outputs": [
    {
     "name": "stdout",
     "output_type": "stream",
     "text": [
      "precision score of Random Forest model : 0.9576271186440678\n",
      "Accuracy of Random Forest model : 0.9996488887328394\n",
      "F1 score of Random Forest model : 0.8828125\n"
     ]
    },
    {
     "data": {
      "text/plain": [
       "array([[85300,     5],\n",
       "       [   25,   113]], dtype=int64)"
      ]
     },
     "execution_count": 19,
     "metadata": {},
     "output_type": "execute_result"
    }
   ],
   "source": [
    "accuracy_rf = accuracy_score(test_Y, rf_predict)\n",
    "f1_score_rf = f1_score(test_Y, rf_predict)\n",
    "precision_score_rf = precision_score(test_Y, rf_predict)\n",
    "print(\"precision score of Random Forest model :\" , precision_score_rf)\n",
    "print(\"Accuracy of Random Forest model :\" , accuracy_rf)\n",
    "print(\"F1 score of Random Forest model :\" , f1_score_rf)\n",
    "confusion_matrix(test_Y, rf_predict, labels = [0,1])"
   ]
  },
  {
   "cell_type": "markdown",
   "id": "889429c5",
   "metadata": {},
   "source": [
    "### K-Nearesrt Neighbor"
   ]
  },
  {
   "cell_type": "code",
   "execution_count": 20,
   "id": "0e5f7fcf",
   "metadata": {},
   "outputs": [],
   "source": [
    "n = 7\n",
    "knn = KNeighborsClassifier(n_neighbors = n)\n",
    "knn.fit(train_X, train_Y)\n",
    "knn_predict = knn.predict(test_X)"
   ]
  },
  {
   "cell_type": "code",
   "execution_count": 21,
   "id": "a73fc9fb",
   "metadata": {},
   "outputs": [
    {
     "name": "stdout",
     "output_type": "stream",
     "text": [
      "precision score of KNN model : 0.940677966101695\n",
      "Accuracy of KNN model : 0.999602073897218\n",
      "F1 score of KNN model : 0.8671875\n"
     ]
    },
    {
     "data": {
      "text/plain": [
       "array([[85300,     5],\n",
       "       [   25,   113]], dtype=int64)"
      ]
     },
     "execution_count": 21,
     "metadata": {},
     "output_type": "execute_result"
    }
   ],
   "source": [
    "accuracy_knn = accuracy_score(test_Y, knn_predict)\n",
    "f1_score_knn = f1_score(test_Y, knn_predict)\n",
    "precision_score_knn = precision_score(test_Y, knn_predict)\n",
    "print(\"precision score of KNN model :\" , precision_score_knn)\n",
    "print(\"Accuracy of KNN model :\" , accuracy_knn)\n",
    "print(\"F1 score of KNN model :\" , f1_score_knn)\n",
    "confusion_matrix(test_Y, rf_predict, labels = [0,1])"
   ]
  },
  {
   "cell_type": "markdown",
   "id": "b96fb03f",
   "metadata": {},
   "source": [
    "Clearly, RANDOM FOREST works better than other 2 models."
   ]
  },
  {
   "cell_type": "markdown",
   "id": "2f556f5e",
   "metadata": {},
   "source": [
    "The dataset suffers the problem of class imbalance. The genuine (not fraudulent) transactions are more than 99% with the fraudulent transactions constituting of 0.17%.\n",
    "\n",
    "With such kind of distribution, if we train our model without taking care of the imbalance issues, it predicts the label with higher importance given to genuine transactions (as there are more data about them) and hence obtains more accuracy.\n",
    "\n",
    "The class imbalance problem can be solved by various techniques. Over sampling is one of them.\n",
    "\n",
    "One approach to addressing imbalanced datasets is to oversample the minority class. The simplest approach involves duplicating examples in the minority class, although these examples don’t add any new information to the model."
   ]
  },
  {
   "cell_type": "code",
   "execution_count": 22,
   "id": "44761fb3",
   "metadata": {},
   "outputs": [],
   "source": [
    "from imblearn.over_sampling import SMOTE"
   ]
  },
  {
   "cell_type": "code",
   "execution_count": 23,
   "id": "49d565e6",
   "metadata": {},
   "outputs": [
    {
     "name": "stdout",
     "output_type": "stream",
     "text": [
      "Resampled shape of X:  (568630, 29)\n",
      "Resampled shape of Y:  (568630,)\n",
      "Counter({0: 284315, 1: 284315})\n"
     ]
    }
   ],
   "source": [
    "#performing oversampling\n",
    "\n",
    "\n",
    "\n",
    "X_resampled, Y_resampled = SMOTE().fit_resample(X, Y)\n",
    "print(\"Resampled shape of X: \", X_resampled.shape)\n",
    "print(\"Resampled shape of Y: \", Y_resampled.shape)\n",
    "\n",
    "value_counts = Counter(Y_resampled)\n",
    "print(value_counts)\n",
    "\n",
    "(train_X, test_X, train_Y, test_Y) = train_test_split(X_resampled, Y_resampled, test_size= 0.3, random_state= 40)"
   ]
  },
  {
   "cell_type": "code",
   "execution_count": 24,
   "id": "70cf9176",
   "metadata": {},
   "outputs": [],
   "source": [
    "# Random Forest classifier on the new dataset\n",
    "\n",
    "\n",
    "rf_resampled = RandomForestClassifier()\n",
    "rf_resampled.fit(train_X, train_Y)\n",
    "\n",
    "rf_predict_resampled = rf_resampled.predict(test_X)\n"
   ]
  },
  {
   "cell_type": "code",
   "execution_count": 25,
   "id": "94fd05ac",
   "metadata": {},
   "outputs": [
    {
     "name": "stdout",
     "output_type": "stream",
     "text": [
      "precision score of Random Forest model : 0.9997882352941176\n",
      "Accuracy of Random Forest model : 0.9998944832316269\n",
      "F1 score of Random Forest model : 0.9998941064347989\n"
     ]
    },
    {
     "data": {
      "text/plain": [
       "array([[85589,    18],\n",
       "       [    0, 84982]], dtype=int64)"
      ]
     },
     "execution_count": 25,
     "metadata": {},
     "output_type": "execute_result"
    }
   ],
   "source": [
    "accuracy_rf_resampled = accuracy_score(test_Y, rf_predict_resampled)\n",
    "f1_score_rf_resampled = f1_score(test_Y, rf_predict_resampled)\n",
    "precision_score_rf_resampled = precision_score(test_Y, rf_predict_resampled)\n",
    "print(\"precision score of Random Forest model :\" , precision_score_rf_resampled)\n",
    "print(\"Accuracy of Random Forest model :\" , accuracy_rf_resampled)\n",
    "print(\"F1 score of Random Forest model :\" , f1_score_rf_resampled)\n",
    "confusion_matrix(test_Y, rf_predict_resampled, labels = [0,1])"
   ]
  },
  {
   "cell_type": "markdown",
   "id": "e7b82759",
   "metadata": {},
   "source": [
    "it is evident that after addressing the class imbalance problem, the Random forest classifier with SMOTE performs far better than the Random forest classifier without SMOTE"
   ]
  },
  {
   "cell_type": "code",
   "execution_count": null,
   "id": "9ef34445",
   "metadata": {},
   "outputs": [],
   "source": []
  }
 ],
 "metadata": {
  "kernelspec": {
   "display_name": "Python 3",
   "language": "python",
   "name": "python3"
  },
  "language_info": {
   "codemirror_mode": {
    "name": "ipython",
    "version": 3
   },
   "file_extension": ".py",
   "mimetype": "text/x-python",
   "name": "python",
   "nbconvert_exporter": "python",
   "pygments_lexer": "ipython3",
   "version": "3.8.8"
  }
 },
 "nbformat": 4,
 "nbformat_minor": 5
}
