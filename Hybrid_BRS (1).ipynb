{
  "nbformat": 4,
  "nbformat_minor": 0,
  "metadata": {
    "colab": {
      "provenance": []
    },
    "kernelspec": {
      "name": "python3",
      "display_name": "Python 3"
    },
    "language_info": {
      "name": "python"
    }
  },
  "cells": [
    {
      "cell_type": "code",
      "source": [
        "import pandas as pd\n",
        "import numpy as np\n",
        "import seaborn as sns\n",
        "import matplotlib.pyplot as plt\n",
        "\n",
        "import warnings\n",
        "warnings.filterwarnings('ignore')\n",
        "\n",
        "from collections import Counter"
      ],
      "metadata": {
        "id": "EDR21COAJ3uY"
      },
      "execution_count": null,
      "outputs": []
    },
    {
      "cell_type": "code",
      "source": [
        "from google.colab import drive\n",
        "drive.mount('/content/drive')"
      ],
      "metadata": {
        "id": "08_dszEjJ8mD",
        "colab": {
          "base_uri": "https://localhost:8080/"
        },
        "outputId": "36a01dc7-6b7c-4c0c-a1c8-57e5a438c4a5"
      },
      "execution_count": null,
      "outputs": [
        {
          "output_type": "stream",
          "name": "stdout",
          "text": [
            "Mounted at /content/drive\n"
          ]
        }
      ]
    },
    {
      "cell_type": "code",
      "source": [
        "folder = ('/content/drive/MyDrive/Book_data/Ratings.csv')\n",
        "ratings = pd.read_csv(folder)\n",
        "ratings.head()"
      ],
      "metadata": {
        "colab": {
          "base_uri": "https://localhost:8080/",
          "height": 206
        },
        "id": "ckhkMQlRym_K",
        "outputId": "edceef7e-b7bb-45dd-ddb3-46be8580fdf1"
      },
      "execution_count": null,
      "outputs": [
        {
          "output_type": "execute_result",
          "data": {
            "text/plain": [
              "   User-ID        ISBN  Book-Rating\n",
              "0   276725  034545104X            0\n",
              "1   276726  0155061224            5\n",
              "2   276727  0446520802            0\n",
              "3   276729  052165615X            3\n",
              "4   276729  0521795028            6"
            ],
            "text/html": [
              "\n",
              "  <div id=\"df-5f2a36a4-3616-4eea-bbff-65b54926ddae\">\n",
              "    <div class=\"colab-df-container\">\n",
              "      <div>\n",
              "<style scoped>\n",
              "    .dataframe tbody tr th:only-of-type {\n",
              "        vertical-align: middle;\n",
              "    }\n",
              "\n",
              "    .dataframe tbody tr th {\n",
              "        vertical-align: top;\n",
              "    }\n",
              "\n",
              "    .dataframe thead th {\n",
              "        text-align: right;\n",
              "    }\n",
              "</style>\n",
              "<table border=\"1\" class=\"dataframe\">\n",
              "  <thead>\n",
              "    <tr style=\"text-align: right;\">\n",
              "      <th></th>\n",
              "      <th>User-ID</th>\n",
              "      <th>ISBN</th>\n",
              "      <th>Book-Rating</th>\n",
              "    </tr>\n",
              "  </thead>\n",
              "  <tbody>\n",
              "    <tr>\n",
              "      <th>0</th>\n",
              "      <td>276725</td>\n",
              "      <td>034545104X</td>\n",
              "      <td>0</td>\n",
              "    </tr>\n",
              "    <tr>\n",
              "      <th>1</th>\n",
              "      <td>276726</td>\n",
              "      <td>0155061224</td>\n",
              "      <td>5</td>\n",
              "    </tr>\n",
              "    <tr>\n",
              "      <th>2</th>\n",
              "      <td>276727</td>\n",
              "      <td>0446520802</td>\n",
              "      <td>0</td>\n",
              "    </tr>\n",
              "    <tr>\n",
              "      <th>3</th>\n",
              "      <td>276729</td>\n",
              "      <td>052165615X</td>\n",
              "      <td>3</td>\n",
              "    </tr>\n",
              "    <tr>\n",
              "      <th>4</th>\n",
              "      <td>276729</td>\n",
              "      <td>0521795028</td>\n",
              "      <td>6</td>\n",
              "    </tr>\n",
              "  </tbody>\n",
              "</table>\n",
              "</div>\n",
              "      <button class=\"colab-df-convert\" onclick=\"convertToInteractive('df-5f2a36a4-3616-4eea-bbff-65b54926ddae')\"\n",
              "              title=\"Convert this dataframe to an interactive table.\"\n",
              "              style=\"display:none;\">\n",
              "        \n",
              "  <svg xmlns=\"http://www.w3.org/2000/svg\" height=\"24px\"viewBox=\"0 0 24 24\"\n",
              "       width=\"24px\">\n",
              "    <path d=\"M0 0h24v24H0V0z\" fill=\"none\"/>\n",
              "    <path d=\"M18.56 5.44l.94 2.06.94-2.06 2.06-.94-2.06-.94-.94-2.06-.94 2.06-2.06.94zm-11 1L8.5 8.5l.94-2.06 2.06-.94-2.06-.94L8.5 2.5l-.94 2.06-2.06.94zm10 10l.94 2.06.94-2.06 2.06-.94-2.06-.94-.94-2.06-.94 2.06-2.06.94z\"/><path d=\"M17.41 7.96l-1.37-1.37c-.4-.4-.92-.59-1.43-.59-.52 0-1.04.2-1.43.59L10.3 9.45l-7.72 7.72c-.78.78-.78 2.05 0 2.83L4 21.41c.39.39.9.59 1.41.59.51 0 1.02-.2 1.41-.59l7.78-7.78 2.81-2.81c.8-.78.8-2.07 0-2.86zM5.41 20L4 18.59l7.72-7.72 1.47 1.35L5.41 20z\"/>\n",
              "  </svg>\n",
              "      </button>\n",
              "      \n",
              "  <style>\n",
              "    .colab-df-container {\n",
              "      display:flex;\n",
              "      flex-wrap:wrap;\n",
              "      gap: 12px;\n",
              "    }\n",
              "\n",
              "    .colab-df-convert {\n",
              "      background-color: #E8F0FE;\n",
              "      border: none;\n",
              "      border-radius: 50%;\n",
              "      cursor: pointer;\n",
              "      display: none;\n",
              "      fill: #1967D2;\n",
              "      height: 32px;\n",
              "      padding: 0 0 0 0;\n",
              "      width: 32px;\n",
              "    }\n",
              "\n",
              "    .colab-df-convert:hover {\n",
              "      background-color: #E2EBFA;\n",
              "      box-shadow: 0px 1px 2px rgba(60, 64, 67, 0.3), 0px 1px 3px 1px rgba(60, 64, 67, 0.15);\n",
              "      fill: #174EA6;\n",
              "    }\n",
              "\n",
              "    [theme=dark] .colab-df-convert {\n",
              "      background-color: #3B4455;\n",
              "      fill: #D2E3FC;\n",
              "    }\n",
              "\n",
              "    [theme=dark] .colab-df-convert:hover {\n",
              "      background-color: #434B5C;\n",
              "      box-shadow: 0px 1px 3px 1px rgba(0, 0, 0, 0.15);\n",
              "      filter: drop-shadow(0px 1px 2px rgba(0, 0, 0, 0.3));\n",
              "      fill: #FFFFFF;\n",
              "    }\n",
              "  </style>\n",
              "\n",
              "      <script>\n",
              "        const buttonEl =\n",
              "          document.querySelector('#df-5f2a36a4-3616-4eea-bbff-65b54926ddae button.colab-df-convert');\n",
              "        buttonEl.style.display =\n",
              "          google.colab.kernel.accessAllowed ? 'block' : 'none';\n",
              "\n",
              "        async function convertToInteractive(key) {\n",
              "          const element = document.querySelector('#df-5f2a36a4-3616-4eea-bbff-65b54926ddae');\n",
              "          const dataTable =\n",
              "            await google.colab.kernel.invokeFunction('convertToInteractive',\n",
              "                                                     [key], {});\n",
              "          if (!dataTable) return;\n",
              "\n",
              "          const docLinkHtml = 'Like what you see? Visit the ' +\n",
              "            '<a target=\"_blank\" href=https://colab.research.google.com/notebooks/data_table.ipynb>data table notebook</a>'\n",
              "            + ' to learn more about interactive tables.';\n",
              "          element.innerHTML = '';\n",
              "          dataTable['output_type'] = 'display_data';\n",
              "          await google.colab.output.renderOutput(dataTable, element);\n",
              "          const docLink = document.createElement('div');\n",
              "          docLink.innerHTML = docLinkHtml;\n",
              "          element.appendChild(docLink);\n",
              "        }\n",
              "      </script>\n",
              "    </div>\n",
              "  </div>\n",
              "  "
            ]
          },
          "metadata": {},
          "execution_count": 3
        }
      ]
    },
    {
      "cell_type": "code",
      "source": [
        "ratings.rename(columns = {'ISBN':'isbn'}, inplace = True)"
      ],
      "metadata": {
        "id": "rmlEj5-3ywC1"
      },
      "execution_count": null,
      "outputs": []
    },
    {
      "cell_type": "code",
      "execution_count": null,
      "metadata": {
        "id": "7gJ4ksQQtCvS",
        "colab": {
          "base_uri": "https://localhost:8080/",
          "height": 406
        },
        "outputId": "67ffca05-e13c-4d7b-8e44-a13c4bdf1aa1"
      },
      "outputs": [
        {
          "output_type": "execute_result",
          "data": {
            "text/plain": [
              "   bookID                                              title  \\\n",
              "0       1  Harry Potter and the Half-Blood Prince (Harry ...   \n",
              "1       2  Harry Potter and the Order of the Phoenix (Har...   \n",
              "2       4  Harry Potter and the Chamber of Secrets (Harry...   \n",
              "3       5  Harry Potter and the Prisoner of Azkaban (Harr...   \n",
              "4       8  Harry Potter Boxed Set  Books 1-5 (Harry Potte...   \n",
              "\n",
              "                      authors  average_rating        isbn         isbn13  \\\n",
              "0  J.K. Rowling/Mary GrandPré            4.57  0439785960  9780439785969   \n",
              "1  J.K. Rowling/Mary GrandPré            4.49  0439358078  9780439358071   \n",
              "2                J.K. Rowling            4.42  0439554896  9780439554893   \n",
              "3  J.K. Rowling/Mary GrandPré            4.56  043965548X  9780439655484   \n",
              "4  J.K. Rowling/Mary GrandPré            4.78  0439682584  9780439682589   \n",
              "\n",
              "  language_code    num_pages  ratings_count  text_reviews_count  \\\n",
              "0           eng          652        2095690               27591   \n",
              "1           eng          870        2153167               29221   \n",
              "2           eng          352           6333                 244   \n",
              "3           eng          435        2339585               36325   \n",
              "4           eng         2690          41428                 164   \n",
              "\n",
              "  publication_date        publisher  \n",
              "0        9/16/2006  Scholastic Inc.  \n",
              "1         9/1/2004  Scholastic Inc.  \n",
              "2        11/1/2003       Scholastic  \n",
              "3         5/1/2004  Scholastic Inc.  \n",
              "4        9/13/2004       Scholastic  "
            ],
            "text/html": [
              "\n",
              "  <div id=\"df-47615105-ab9b-4611-824b-31f303817116\">\n",
              "    <div class=\"colab-df-container\">\n",
              "      <div>\n",
              "<style scoped>\n",
              "    .dataframe tbody tr th:only-of-type {\n",
              "        vertical-align: middle;\n",
              "    }\n",
              "\n",
              "    .dataframe tbody tr th {\n",
              "        vertical-align: top;\n",
              "    }\n",
              "\n",
              "    .dataframe thead th {\n",
              "        text-align: right;\n",
              "    }\n",
              "</style>\n",
              "<table border=\"1\" class=\"dataframe\">\n",
              "  <thead>\n",
              "    <tr style=\"text-align: right;\">\n",
              "      <th></th>\n",
              "      <th>bookID</th>\n",
              "      <th>title</th>\n",
              "      <th>authors</th>\n",
              "      <th>average_rating</th>\n",
              "      <th>isbn</th>\n",
              "      <th>isbn13</th>\n",
              "      <th>language_code</th>\n",
              "      <th>num_pages</th>\n",
              "      <th>ratings_count</th>\n",
              "      <th>text_reviews_count</th>\n",
              "      <th>publication_date</th>\n",
              "      <th>publisher</th>\n",
              "    </tr>\n",
              "  </thead>\n",
              "  <tbody>\n",
              "    <tr>\n",
              "      <th>0</th>\n",
              "      <td>1</td>\n",
              "      <td>Harry Potter and the Half-Blood Prince (Harry ...</td>\n",
              "      <td>J.K. Rowling/Mary GrandPré</td>\n",
              "      <td>4.57</td>\n",
              "      <td>0439785960</td>\n",
              "      <td>9780439785969</td>\n",
              "      <td>eng</td>\n",
              "      <td>652</td>\n",
              "      <td>2095690</td>\n",
              "      <td>27591</td>\n",
              "      <td>9/16/2006</td>\n",
              "      <td>Scholastic Inc.</td>\n",
              "    </tr>\n",
              "    <tr>\n",
              "      <th>1</th>\n",
              "      <td>2</td>\n",
              "      <td>Harry Potter and the Order of the Phoenix (Har...</td>\n",
              "      <td>J.K. Rowling/Mary GrandPré</td>\n",
              "      <td>4.49</td>\n",
              "      <td>0439358078</td>\n",
              "      <td>9780439358071</td>\n",
              "      <td>eng</td>\n",
              "      <td>870</td>\n",
              "      <td>2153167</td>\n",
              "      <td>29221</td>\n",
              "      <td>9/1/2004</td>\n",
              "      <td>Scholastic Inc.</td>\n",
              "    </tr>\n",
              "    <tr>\n",
              "      <th>2</th>\n",
              "      <td>4</td>\n",
              "      <td>Harry Potter and the Chamber of Secrets (Harry...</td>\n",
              "      <td>J.K. Rowling</td>\n",
              "      <td>4.42</td>\n",
              "      <td>0439554896</td>\n",
              "      <td>9780439554893</td>\n",
              "      <td>eng</td>\n",
              "      <td>352</td>\n",
              "      <td>6333</td>\n",
              "      <td>244</td>\n",
              "      <td>11/1/2003</td>\n",
              "      <td>Scholastic</td>\n",
              "    </tr>\n",
              "    <tr>\n",
              "      <th>3</th>\n",
              "      <td>5</td>\n",
              "      <td>Harry Potter and the Prisoner of Azkaban (Harr...</td>\n",
              "      <td>J.K. Rowling/Mary GrandPré</td>\n",
              "      <td>4.56</td>\n",
              "      <td>043965548X</td>\n",
              "      <td>9780439655484</td>\n",
              "      <td>eng</td>\n",
              "      <td>435</td>\n",
              "      <td>2339585</td>\n",
              "      <td>36325</td>\n",
              "      <td>5/1/2004</td>\n",
              "      <td>Scholastic Inc.</td>\n",
              "    </tr>\n",
              "    <tr>\n",
              "      <th>4</th>\n",
              "      <td>8</td>\n",
              "      <td>Harry Potter Boxed Set  Books 1-5 (Harry Potte...</td>\n",
              "      <td>J.K. Rowling/Mary GrandPré</td>\n",
              "      <td>4.78</td>\n",
              "      <td>0439682584</td>\n",
              "      <td>9780439682589</td>\n",
              "      <td>eng</td>\n",
              "      <td>2690</td>\n",
              "      <td>41428</td>\n",
              "      <td>164</td>\n",
              "      <td>9/13/2004</td>\n",
              "      <td>Scholastic</td>\n",
              "    </tr>\n",
              "  </tbody>\n",
              "</table>\n",
              "</div>\n",
              "      <button class=\"colab-df-convert\" onclick=\"convertToInteractive('df-47615105-ab9b-4611-824b-31f303817116')\"\n",
              "              title=\"Convert this dataframe to an interactive table.\"\n",
              "              style=\"display:none;\">\n",
              "        \n",
              "  <svg xmlns=\"http://www.w3.org/2000/svg\" height=\"24px\"viewBox=\"0 0 24 24\"\n",
              "       width=\"24px\">\n",
              "    <path d=\"M0 0h24v24H0V0z\" fill=\"none\"/>\n",
              "    <path d=\"M18.56 5.44l.94 2.06.94-2.06 2.06-.94-2.06-.94-.94-2.06-.94 2.06-2.06.94zm-11 1L8.5 8.5l.94-2.06 2.06-.94-2.06-.94L8.5 2.5l-.94 2.06-2.06.94zm10 10l.94 2.06.94-2.06 2.06-.94-2.06-.94-.94-2.06-.94 2.06-2.06.94z\"/><path d=\"M17.41 7.96l-1.37-1.37c-.4-.4-.92-.59-1.43-.59-.52 0-1.04.2-1.43.59L10.3 9.45l-7.72 7.72c-.78.78-.78 2.05 0 2.83L4 21.41c.39.39.9.59 1.41.59.51 0 1.02-.2 1.41-.59l7.78-7.78 2.81-2.81c.8-.78.8-2.07 0-2.86zM5.41 20L4 18.59l7.72-7.72 1.47 1.35L5.41 20z\"/>\n",
              "  </svg>\n",
              "      </button>\n",
              "      \n",
              "  <style>\n",
              "    .colab-df-container {\n",
              "      display:flex;\n",
              "      flex-wrap:wrap;\n",
              "      gap: 12px;\n",
              "    }\n",
              "\n",
              "    .colab-df-convert {\n",
              "      background-color: #E8F0FE;\n",
              "      border: none;\n",
              "      border-radius: 50%;\n",
              "      cursor: pointer;\n",
              "      display: none;\n",
              "      fill: #1967D2;\n",
              "      height: 32px;\n",
              "      padding: 0 0 0 0;\n",
              "      width: 32px;\n",
              "    }\n",
              "\n",
              "    .colab-df-convert:hover {\n",
              "      background-color: #E2EBFA;\n",
              "      box-shadow: 0px 1px 2px rgba(60, 64, 67, 0.3), 0px 1px 3px 1px rgba(60, 64, 67, 0.15);\n",
              "      fill: #174EA6;\n",
              "    }\n",
              "\n",
              "    [theme=dark] .colab-df-convert {\n",
              "      background-color: #3B4455;\n",
              "      fill: #D2E3FC;\n",
              "    }\n",
              "\n",
              "    [theme=dark] .colab-df-convert:hover {\n",
              "      background-color: #434B5C;\n",
              "      box-shadow: 0px 1px 3px 1px rgba(0, 0, 0, 0.15);\n",
              "      filter: drop-shadow(0px 1px 2px rgba(0, 0, 0, 0.3));\n",
              "      fill: #FFFFFF;\n",
              "    }\n",
              "  </style>\n",
              "\n",
              "      <script>\n",
              "        const buttonEl =\n",
              "          document.querySelector('#df-47615105-ab9b-4611-824b-31f303817116 button.colab-df-convert');\n",
              "        buttonEl.style.display =\n",
              "          google.colab.kernel.accessAllowed ? 'block' : 'none';\n",
              "\n",
              "        async function convertToInteractive(key) {\n",
              "          const element = document.querySelector('#df-47615105-ab9b-4611-824b-31f303817116');\n",
              "          const dataTable =\n",
              "            await google.colab.kernel.invokeFunction('convertToInteractive',\n",
              "                                                     [key], {});\n",
              "          if (!dataTable) return;\n",
              "\n",
              "          const docLinkHtml = 'Like what you see? Visit the ' +\n",
              "            '<a target=\"_blank\" href=https://colab.research.google.com/notebooks/data_table.ipynb>data table notebook</a>'\n",
              "            + ' to learn more about interactive tables.';\n",
              "          element.innerHTML = '';\n",
              "          dataTable['output_type'] = 'display_data';\n",
              "          await google.colab.output.renderOutput(dataTable, element);\n",
              "          const docLink = document.createElement('div');\n",
              "          docLink.innerHTML = docLinkHtml;\n",
              "          element.appendChild(docLink);\n",
              "        }\n",
              "      </script>\n",
              "    </div>\n",
              "  </div>\n",
              "  "
            ]
          },
          "metadata": {},
          "execution_count": 5
        }
      ],
      "source": [
        "folder = ('/content/drive/MyDrive/Book_data/books_new.csv')\n",
        "books = pd.read_csv(folder, on_bad_lines='skip')\n",
        "books.head()"
      ]
    },
    {
      "cell_type": "code",
      "source": [
        "books.info()"
      ],
      "metadata": {
        "id": "h0LiSpMewXmY",
        "colab": {
          "base_uri": "https://localhost:8080/"
        },
        "outputId": "461177e5-c880-4bc0-cb57-f0182b8ab627"
      },
      "execution_count": null,
      "outputs": [
        {
          "output_type": "stream",
          "name": "stdout",
          "text": [
            "<class 'pandas.core.frame.DataFrame'>\n",
            "RangeIndex: 11123 entries, 0 to 11122\n",
            "Data columns (total 12 columns):\n",
            " #   Column              Non-Null Count  Dtype  \n",
            "---  ------              --------------  -----  \n",
            " 0   bookID              11123 non-null  int64  \n",
            " 1   title               11123 non-null  object \n",
            " 2   authors             11123 non-null  object \n",
            " 3   average_rating      11123 non-null  float64\n",
            " 4   isbn                11123 non-null  object \n",
            " 5   isbn13              11123 non-null  int64  \n",
            " 6   language_code       11123 non-null  object \n",
            " 7     num_pages         11123 non-null  int64  \n",
            " 8   ratings_count       11123 non-null  int64  \n",
            " 9   text_reviews_count  11123 non-null  int64  \n",
            " 10  publication_date    11123 non-null  object \n",
            " 11  publisher           11123 non-null  object \n",
            "dtypes: float64(1), int64(5), object(6)\n",
            "memory usage: 1.0+ MB\n"
          ]
        }
      ]
    },
    {
      "cell_type": "code",
      "source": [
        "books[[\"publication_day\", \"publication_month\", \"publication_year\"]] = books[\"publication_date\"].str.split(\"/\", expand = True)"
      ],
      "metadata": {
        "id": "apzD2-sWx4s8"
      },
      "execution_count": null,
      "outputs": []
    },
    {
      "cell_type": "code",
      "source": [
        "books = books.drop(\"publication_day\", axis = 1)\n",
        "books = books.drop(\"publication_month\", axis = 1)\n",
        "books = books.drop(\"isbn13\", axis = 1)"
      ],
      "metadata": {
        "id": "4FYrm_rUysCh"
      },
      "execution_count": null,
      "outputs": []
    },
    {
      "cell_type": "code",
      "source": [
        "books.head()"
      ],
      "metadata": {
        "colab": {
          "base_uri": "https://localhost:8080/",
          "height": 423
        },
        "id": "HbSD3T1ayjbD",
        "outputId": "33cfcfc6-db93-4da7-eb17-b5c9eea5d477"
      },
      "execution_count": null,
      "outputs": [
        {
          "output_type": "execute_result",
          "data": {
            "text/plain": [
              "   bookID                                              title  \\\n",
              "0       1  Harry Potter and the Half-Blood Prince (Harry ...   \n",
              "1       2  Harry Potter and the Order of the Phoenix (Har...   \n",
              "2       4  Harry Potter and the Chamber of Secrets (Harry...   \n",
              "3       5  Harry Potter and the Prisoner of Azkaban (Harr...   \n",
              "4       8  Harry Potter Boxed Set  Books 1-5 (Harry Potte...   \n",
              "\n",
              "                      authors  average_rating        isbn language_code  \\\n",
              "0  J.K. Rowling/Mary GrandPré            4.57  0439785960           eng   \n",
              "1  J.K. Rowling/Mary GrandPré            4.49  0439358078           eng   \n",
              "2                J.K. Rowling            4.42  0439554896           eng   \n",
              "3  J.K. Rowling/Mary GrandPré            4.56  043965548X           eng   \n",
              "4  J.K. Rowling/Mary GrandPré            4.78  0439682584           eng   \n",
              "\n",
              "     num_pages  ratings_count  text_reviews_count publication_date  \\\n",
              "0          652        2095690               27591        9/16/2006   \n",
              "1          870        2153167               29221         9/1/2004   \n",
              "2          352           6333                 244        11/1/2003   \n",
              "3          435        2339585               36325         5/1/2004   \n",
              "4         2690          41428                 164        9/13/2004   \n",
              "\n",
              "         publisher publication_year  \n",
              "0  Scholastic Inc.             2006  \n",
              "1  Scholastic Inc.             2004  \n",
              "2       Scholastic             2003  \n",
              "3  Scholastic Inc.             2004  \n",
              "4       Scholastic             2004  "
            ],
            "text/html": [
              "\n",
              "  <div id=\"df-b21053c0-af0b-4a2e-9279-d9e8cf71ee83\">\n",
              "    <div class=\"colab-df-container\">\n",
              "      <div>\n",
              "<style scoped>\n",
              "    .dataframe tbody tr th:only-of-type {\n",
              "        vertical-align: middle;\n",
              "    }\n",
              "\n",
              "    .dataframe tbody tr th {\n",
              "        vertical-align: top;\n",
              "    }\n",
              "\n",
              "    .dataframe thead th {\n",
              "        text-align: right;\n",
              "    }\n",
              "</style>\n",
              "<table border=\"1\" class=\"dataframe\">\n",
              "  <thead>\n",
              "    <tr style=\"text-align: right;\">\n",
              "      <th></th>\n",
              "      <th>bookID</th>\n",
              "      <th>title</th>\n",
              "      <th>authors</th>\n",
              "      <th>average_rating</th>\n",
              "      <th>isbn</th>\n",
              "      <th>language_code</th>\n",
              "      <th>num_pages</th>\n",
              "      <th>ratings_count</th>\n",
              "      <th>text_reviews_count</th>\n",
              "      <th>publication_date</th>\n",
              "      <th>publisher</th>\n",
              "      <th>publication_year</th>\n",
              "    </tr>\n",
              "  </thead>\n",
              "  <tbody>\n",
              "    <tr>\n",
              "      <th>0</th>\n",
              "      <td>1</td>\n",
              "      <td>Harry Potter and the Half-Blood Prince (Harry ...</td>\n",
              "      <td>J.K. Rowling/Mary GrandPré</td>\n",
              "      <td>4.57</td>\n",
              "      <td>0439785960</td>\n",
              "      <td>eng</td>\n",
              "      <td>652</td>\n",
              "      <td>2095690</td>\n",
              "      <td>27591</td>\n",
              "      <td>9/16/2006</td>\n",
              "      <td>Scholastic Inc.</td>\n",
              "      <td>2006</td>\n",
              "    </tr>\n",
              "    <tr>\n",
              "      <th>1</th>\n",
              "      <td>2</td>\n",
              "      <td>Harry Potter and the Order of the Phoenix (Har...</td>\n",
              "      <td>J.K. Rowling/Mary GrandPré</td>\n",
              "      <td>4.49</td>\n",
              "      <td>0439358078</td>\n",
              "      <td>eng</td>\n",
              "      <td>870</td>\n",
              "      <td>2153167</td>\n",
              "      <td>29221</td>\n",
              "      <td>9/1/2004</td>\n",
              "      <td>Scholastic Inc.</td>\n",
              "      <td>2004</td>\n",
              "    </tr>\n",
              "    <tr>\n",
              "      <th>2</th>\n",
              "      <td>4</td>\n",
              "      <td>Harry Potter and the Chamber of Secrets (Harry...</td>\n",
              "      <td>J.K. Rowling</td>\n",
              "      <td>4.42</td>\n",
              "      <td>0439554896</td>\n",
              "      <td>eng</td>\n",
              "      <td>352</td>\n",
              "      <td>6333</td>\n",
              "      <td>244</td>\n",
              "      <td>11/1/2003</td>\n",
              "      <td>Scholastic</td>\n",
              "      <td>2003</td>\n",
              "    </tr>\n",
              "    <tr>\n",
              "      <th>3</th>\n",
              "      <td>5</td>\n",
              "      <td>Harry Potter and the Prisoner of Azkaban (Harr...</td>\n",
              "      <td>J.K. Rowling/Mary GrandPré</td>\n",
              "      <td>4.56</td>\n",
              "      <td>043965548X</td>\n",
              "      <td>eng</td>\n",
              "      <td>435</td>\n",
              "      <td>2339585</td>\n",
              "      <td>36325</td>\n",
              "      <td>5/1/2004</td>\n",
              "      <td>Scholastic Inc.</td>\n",
              "      <td>2004</td>\n",
              "    </tr>\n",
              "    <tr>\n",
              "      <th>4</th>\n",
              "      <td>8</td>\n",
              "      <td>Harry Potter Boxed Set  Books 1-5 (Harry Potte...</td>\n",
              "      <td>J.K. Rowling/Mary GrandPré</td>\n",
              "      <td>4.78</td>\n",
              "      <td>0439682584</td>\n",
              "      <td>eng</td>\n",
              "      <td>2690</td>\n",
              "      <td>41428</td>\n",
              "      <td>164</td>\n",
              "      <td>9/13/2004</td>\n",
              "      <td>Scholastic</td>\n",
              "      <td>2004</td>\n",
              "    </tr>\n",
              "  </tbody>\n",
              "</table>\n",
              "</div>\n",
              "      <button class=\"colab-df-convert\" onclick=\"convertToInteractive('df-b21053c0-af0b-4a2e-9279-d9e8cf71ee83')\"\n",
              "              title=\"Convert this dataframe to an interactive table.\"\n",
              "              style=\"display:none;\">\n",
              "        \n",
              "  <svg xmlns=\"http://www.w3.org/2000/svg\" height=\"24px\"viewBox=\"0 0 24 24\"\n",
              "       width=\"24px\">\n",
              "    <path d=\"M0 0h24v24H0V0z\" fill=\"none\"/>\n",
              "    <path d=\"M18.56 5.44l.94 2.06.94-2.06 2.06-.94-2.06-.94-.94-2.06-.94 2.06-2.06.94zm-11 1L8.5 8.5l.94-2.06 2.06-.94-2.06-.94L8.5 2.5l-.94 2.06-2.06.94zm10 10l.94 2.06.94-2.06 2.06-.94-2.06-.94-.94-2.06-.94 2.06-2.06.94z\"/><path d=\"M17.41 7.96l-1.37-1.37c-.4-.4-.92-.59-1.43-.59-.52 0-1.04.2-1.43.59L10.3 9.45l-7.72 7.72c-.78.78-.78 2.05 0 2.83L4 21.41c.39.39.9.59 1.41.59.51 0 1.02-.2 1.41-.59l7.78-7.78 2.81-2.81c.8-.78.8-2.07 0-2.86zM5.41 20L4 18.59l7.72-7.72 1.47 1.35L5.41 20z\"/>\n",
              "  </svg>\n",
              "      </button>\n",
              "      \n",
              "  <style>\n",
              "    .colab-df-container {\n",
              "      display:flex;\n",
              "      flex-wrap:wrap;\n",
              "      gap: 12px;\n",
              "    }\n",
              "\n",
              "    .colab-df-convert {\n",
              "      background-color: #E8F0FE;\n",
              "      border: none;\n",
              "      border-radius: 50%;\n",
              "      cursor: pointer;\n",
              "      display: none;\n",
              "      fill: #1967D2;\n",
              "      height: 32px;\n",
              "      padding: 0 0 0 0;\n",
              "      width: 32px;\n",
              "    }\n",
              "\n",
              "    .colab-df-convert:hover {\n",
              "      background-color: #E2EBFA;\n",
              "      box-shadow: 0px 1px 2px rgba(60, 64, 67, 0.3), 0px 1px 3px 1px rgba(60, 64, 67, 0.15);\n",
              "      fill: #174EA6;\n",
              "    }\n",
              "\n",
              "    [theme=dark] .colab-df-convert {\n",
              "      background-color: #3B4455;\n",
              "      fill: #D2E3FC;\n",
              "    }\n",
              "\n",
              "    [theme=dark] .colab-df-convert:hover {\n",
              "      background-color: #434B5C;\n",
              "      box-shadow: 0px 1px 3px 1px rgba(0, 0, 0, 0.15);\n",
              "      filter: drop-shadow(0px 1px 2px rgba(0, 0, 0, 0.3));\n",
              "      fill: #FFFFFF;\n",
              "    }\n",
              "  </style>\n",
              "\n",
              "      <script>\n",
              "        const buttonEl =\n",
              "          document.querySelector('#df-b21053c0-af0b-4a2e-9279-d9e8cf71ee83 button.colab-df-convert');\n",
              "        buttonEl.style.display =\n",
              "          google.colab.kernel.accessAllowed ? 'block' : 'none';\n",
              "\n",
              "        async function convertToInteractive(key) {\n",
              "          const element = document.querySelector('#df-b21053c0-af0b-4a2e-9279-d9e8cf71ee83');\n",
              "          const dataTable =\n",
              "            await google.colab.kernel.invokeFunction('convertToInteractive',\n",
              "                                                     [key], {});\n",
              "          if (!dataTable) return;\n",
              "\n",
              "          const docLinkHtml = 'Like what you see? Visit the ' +\n",
              "            '<a target=\"_blank\" href=https://colab.research.google.com/notebooks/data_table.ipynb>data table notebook</a>'\n",
              "            + ' to learn more about interactive tables.';\n",
              "          element.innerHTML = '';\n",
              "          dataTable['output_type'] = 'display_data';\n",
              "          await google.colab.output.renderOutput(dataTable, element);\n",
              "          const docLink = document.createElement('div');\n",
              "          docLink.innerHTML = docLinkHtml;\n",
              "          element.appendChild(docLink);\n",
              "        }\n",
              "      </script>\n",
              "    </div>\n",
              "  </div>\n",
              "  "
            ]
          },
          "metadata": {},
          "execution_count": 9
        }
      ]
    },
    {
      "cell_type": "code",
      "source": [
        "book_new = pd.merge(books, ratings, on='isbn')"
      ],
      "metadata": {
        "id": "ZxhKA2_8y3p5"
      },
      "execution_count": null,
      "outputs": []
    },
    {
      "cell_type": "code",
      "source": [
        "book_new.isna().sum()"
      ],
      "metadata": {
        "colab": {
          "base_uri": "https://localhost:8080/"
        },
        "id": "bCvNrYlcwW0k",
        "outputId": "8b8bce16-daa6-4f79-de0d-e37661ba0239"
      },
      "execution_count": null,
      "outputs": [
        {
          "output_type": "execute_result",
          "data": {
            "text/plain": [
              "bookID                0\n",
              "title                 0\n",
              "authors               0\n",
              "average_rating        0\n",
              "isbn                  0\n",
              "language_code         0\n",
              "  num_pages           0\n",
              "ratings_count         0\n",
              "text_reviews_count    0\n",
              "publication_date      0\n",
              "publisher             0\n",
              "publication_year      0\n",
              "User-ID               0\n",
              "Book-Rating           0\n",
              "dtype: int64"
            ]
          },
          "metadata": {},
          "execution_count": 11
        }
      ]
    },
    {
      "cell_type": "code",
      "source": [
        "book_new = book_new.drop(\"Book-Rating\", axis = 1)"
      ],
      "metadata": {
        "id": "aL7r_64HzwTX"
      },
      "execution_count": null,
      "outputs": []
    },
    {
      "cell_type": "code",
      "source": [
        "book_new.drop_duplicates(keep='last', inplace=True)\n",
        "book_new.reset_index(drop = True, inplace = True)"
      ],
      "metadata": {
        "id": "n0dPJA2SU7b7"
      },
      "execution_count": null,
      "outputs": []
    },
    {
      "cell_type": "code",
      "source": [
        "book_new.describe()"
      ],
      "metadata": {
        "colab": {
          "base_uri": "https://localhost:8080/",
          "height": 300
        },
        "id": "QTK1zZvlLsPg",
        "outputId": "4fd014f4-6625-4026-878e-5487f460fb94"
      },
      "execution_count": null,
      "outputs": [
        {
          "output_type": "execute_result",
          "data": {
            "text/plain": [
              "             bookID  average_rating     num_pages  ratings_count  \\\n",
              "count  55403.000000    55403.000000  55403.000000   5.540300e+04   \n",
              "mean   18056.758154        3.902149    387.194448   7.450333e+04   \n",
              "std    13694.821863        0.237184    170.009719   2.164629e+05   \n",
              "min        2.000000        2.620000      0.000000   1.000000e+00   \n",
              "25%     5212.000000        3.760000    288.000000   2.781000e+03   \n",
              "50%    14748.000000        3.910000    366.000000   1.362200e+04   \n",
              "75%    30363.000000        4.060000    454.000000   5.751300e+04   \n",
              "max    45634.000000        4.760000   2088.000000   2.530894e+06   \n",
              "\n",
              "       text_reviews_count        User-ID  \n",
              "count        55403.000000   55403.000000  \n",
              "mean          2132.128910  139294.403498  \n",
              "std           4614.276172   80663.810194  \n",
              "min              0.000000       9.000000  \n",
              "25%            157.000000   69697.000000  \n",
              "50%            569.000000  138341.000000  \n",
              "75%           1851.000000  210485.000000  \n",
              "max          43499.000000  278854.000000  "
            ],
            "text/html": [
              "\n",
              "  <div id=\"df-c79e9b19-084d-4a4d-a702-4c53dd5bf091\">\n",
              "    <div class=\"colab-df-container\">\n",
              "      <div>\n",
              "<style scoped>\n",
              "    .dataframe tbody tr th:only-of-type {\n",
              "        vertical-align: middle;\n",
              "    }\n",
              "\n",
              "    .dataframe tbody tr th {\n",
              "        vertical-align: top;\n",
              "    }\n",
              "\n",
              "    .dataframe thead th {\n",
              "        text-align: right;\n",
              "    }\n",
              "</style>\n",
              "<table border=\"1\" class=\"dataframe\">\n",
              "  <thead>\n",
              "    <tr style=\"text-align: right;\">\n",
              "      <th></th>\n",
              "      <th>bookID</th>\n",
              "      <th>average_rating</th>\n",
              "      <th>num_pages</th>\n",
              "      <th>ratings_count</th>\n",
              "      <th>text_reviews_count</th>\n",
              "      <th>User-ID</th>\n",
              "    </tr>\n",
              "  </thead>\n",
              "  <tbody>\n",
              "    <tr>\n",
              "      <th>count</th>\n",
              "      <td>55403.000000</td>\n",
              "      <td>55403.000000</td>\n",
              "      <td>55403.000000</td>\n",
              "      <td>5.540300e+04</td>\n",
              "      <td>55403.000000</td>\n",
              "      <td>55403.000000</td>\n",
              "    </tr>\n",
              "    <tr>\n",
              "      <th>mean</th>\n",
              "      <td>18056.758154</td>\n",
              "      <td>3.902149</td>\n",
              "      <td>387.194448</td>\n",
              "      <td>7.450333e+04</td>\n",
              "      <td>2132.128910</td>\n",
              "      <td>139294.403498</td>\n",
              "    </tr>\n",
              "    <tr>\n",
              "      <th>std</th>\n",
              "      <td>13694.821863</td>\n",
              "      <td>0.237184</td>\n",
              "      <td>170.009719</td>\n",
              "      <td>2.164629e+05</td>\n",
              "      <td>4614.276172</td>\n",
              "      <td>80663.810194</td>\n",
              "    </tr>\n",
              "    <tr>\n",
              "      <th>min</th>\n",
              "      <td>2.000000</td>\n",
              "      <td>2.620000</td>\n",
              "      <td>0.000000</td>\n",
              "      <td>1.000000e+00</td>\n",
              "      <td>0.000000</td>\n",
              "      <td>9.000000</td>\n",
              "    </tr>\n",
              "    <tr>\n",
              "      <th>25%</th>\n",
              "      <td>5212.000000</td>\n",
              "      <td>3.760000</td>\n",
              "      <td>288.000000</td>\n",
              "      <td>2.781000e+03</td>\n",
              "      <td>157.000000</td>\n",
              "      <td>69697.000000</td>\n",
              "    </tr>\n",
              "    <tr>\n",
              "      <th>50%</th>\n",
              "      <td>14748.000000</td>\n",
              "      <td>3.910000</td>\n",
              "      <td>366.000000</td>\n",
              "      <td>1.362200e+04</td>\n",
              "      <td>569.000000</td>\n",
              "      <td>138341.000000</td>\n",
              "    </tr>\n",
              "    <tr>\n",
              "      <th>75%</th>\n",
              "      <td>30363.000000</td>\n",
              "      <td>4.060000</td>\n",
              "      <td>454.000000</td>\n",
              "      <td>5.751300e+04</td>\n",
              "      <td>1851.000000</td>\n",
              "      <td>210485.000000</td>\n",
              "    </tr>\n",
              "    <tr>\n",
              "      <th>max</th>\n",
              "      <td>45634.000000</td>\n",
              "      <td>4.760000</td>\n",
              "      <td>2088.000000</td>\n",
              "      <td>2.530894e+06</td>\n",
              "      <td>43499.000000</td>\n",
              "      <td>278854.000000</td>\n",
              "    </tr>\n",
              "  </tbody>\n",
              "</table>\n",
              "</div>\n",
              "      <button class=\"colab-df-convert\" onclick=\"convertToInteractive('df-c79e9b19-084d-4a4d-a702-4c53dd5bf091')\"\n",
              "              title=\"Convert this dataframe to an interactive table.\"\n",
              "              style=\"display:none;\">\n",
              "        \n",
              "  <svg xmlns=\"http://www.w3.org/2000/svg\" height=\"24px\"viewBox=\"0 0 24 24\"\n",
              "       width=\"24px\">\n",
              "    <path d=\"M0 0h24v24H0V0z\" fill=\"none\"/>\n",
              "    <path d=\"M18.56 5.44l.94 2.06.94-2.06 2.06-.94-2.06-.94-.94-2.06-.94 2.06-2.06.94zm-11 1L8.5 8.5l.94-2.06 2.06-.94-2.06-.94L8.5 2.5l-.94 2.06-2.06.94zm10 10l.94 2.06.94-2.06 2.06-.94-2.06-.94-.94-2.06-.94 2.06-2.06.94z\"/><path d=\"M17.41 7.96l-1.37-1.37c-.4-.4-.92-.59-1.43-.59-.52 0-1.04.2-1.43.59L10.3 9.45l-7.72 7.72c-.78.78-.78 2.05 0 2.83L4 21.41c.39.39.9.59 1.41.59.51 0 1.02-.2 1.41-.59l7.78-7.78 2.81-2.81c.8-.78.8-2.07 0-2.86zM5.41 20L4 18.59l7.72-7.72 1.47 1.35L5.41 20z\"/>\n",
              "  </svg>\n",
              "      </button>\n",
              "      \n",
              "  <style>\n",
              "    .colab-df-container {\n",
              "      display:flex;\n",
              "      flex-wrap:wrap;\n",
              "      gap: 12px;\n",
              "    }\n",
              "\n",
              "    .colab-df-convert {\n",
              "      background-color: #E8F0FE;\n",
              "      border: none;\n",
              "      border-radius: 50%;\n",
              "      cursor: pointer;\n",
              "      display: none;\n",
              "      fill: #1967D2;\n",
              "      height: 32px;\n",
              "      padding: 0 0 0 0;\n",
              "      width: 32px;\n",
              "    }\n",
              "\n",
              "    .colab-df-convert:hover {\n",
              "      background-color: #E2EBFA;\n",
              "      box-shadow: 0px 1px 2px rgba(60, 64, 67, 0.3), 0px 1px 3px 1px rgba(60, 64, 67, 0.15);\n",
              "      fill: #174EA6;\n",
              "    }\n",
              "\n",
              "    [theme=dark] .colab-df-convert {\n",
              "      background-color: #3B4455;\n",
              "      fill: #D2E3FC;\n",
              "    }\n",
              "\n",
              "    [theme=dark] .colab-df-convert:hover {\n",
              "      background-color: #434B5C;\n",
              "      box-shadow: 0px 1px 3px 1px rgba(0, 0, 0, 0.15);\n",
              "      filter: drop-shadow(0px 1px 2px rgba(0, 0, 0, 0.3));\n",
              "      fill: #FFFFFF;\n",
              "    }\n",
              "  </style>\n",
              "\n",
              "      <script>\n",
              "        const buttonEl =\n",
              "          document.querySelector('#df-c79e9b19-084d-4a4d-a702-4c53dd5bf091 button.colab-df-convert');\n",
              "        buttonEl.style.display =\n",
              "          google.colab.kernel.accessAllowed ? 'block' : 'none';\n",
              "\n",
              "        async function convertToInteractive(key) {\n",
              "          const element = document.querySelector('#df-c79e9b19-084d-4a4d-a702-4c53dd5bf091');\n",
              "          const dataTable =\n",
              "            await google.colab.kernel.invokeFunction('convertToInteractive',\n",
              "                                                     [key], {});\n",
              "          if (!dataTable) return;\n",
              "\n",
              "          const docLinkHtml = 'Like what you see? Visit the ' +\n",
              "            '<a target=\"_blank\" href=https://colab.research.google.com/notebooks/data_table.ipynb>data table notebook</a>'\n",
              "            + ' to learn more about interactive tables.';\n",
              "          element.innerHTML = '';\n",
              "          dataTable['output_type'] = 'display_data';\n",
              "          await google.colab.output.renderOutput(dataTable, element);\n",
              "          const docLink = document.createElement('div');\n",
              "          docLink.innerHTML = docLinkHtml;\n",
              "          element.appendChild(docLink);\n",
              "        }\n",
              "      </script>\n",
              "    </div>\n",
              "  </div>\n",
              "  "
            ]
          },
          "metadata": {},
          "execution_count": 16
        }
      ]
    },
    {
      "cell_type": "code",
      "source": [
        "book_new.shape"
      ],
      "metadata": {
        "colab": {
          "base_uri": "https://localhost:8080/"
        },
        "id": "Ndz5vdsgzOL5",
        "outputId": "d019d57b-72bf-4cf0-c807-36375e9f9a28"
      },
      "execution_count": null,
      "outputs": [
        {
          "output_type": "execute_result",
          "data": {
            "text/plain": [
              "(55403, 13)"
            ]
          },
          "metadata": {},
          "execution_count": 17
        }
      ]
    },
    {
      "cell_type": "markdown",
      "source": [
        "**DATA VISULIAZATION**"
      ],
      "metadata": {
        "id": "U7rcuYDZzxMr"
      }
    },
    {
      "cell_type": "code",
      "source": [
        "plt.figure(figsize=(15,7))\n",
        "sns.countplot(y = \"authors\", data= book_new, order=book_new['authors'].value_counts().index[0:15])\n",
        "plt.title(\"No. of Books by an author (top 15)\")"
      ],
      "metadata": {
        "colab": {
          "base_uri": "https://localhost:8080/",
          "height": 658
        },
        "id": "ZW-fz6ijzaxx",
        "outputId": "42874c2a-6082-4866-ebc4-2154d2abf593"
      },
      "execution_count": null,
      "outputs": [
        {
          "output_type": "execute_result",
          "data": {
            "text/plain": [
              "Text(0.5, 1.0, 'No. of Books by an author (top 15)')"
            ]
          },
          "metadata": {},
          "execution_count": 18
        },
        {
          "output_type": "display_data",
          "data": {
            "text/plain": [
              "<Figure size 1500x700 with 1 Axes>"
            ],
            "image/png": "[encoded data removed]"
          },
          "metadata": {}
        }
      ]
    },
    {
      "cell_type": "code",
      "source": [
        "plt.figure(figsize=(15,7))\n",
        "sns.countplot(y = \"publisher\", data= book_new, order=book_new['publisher'].value_counts().index[0:15])\n",
        "plt.title(\"No. of Books by an publisher (top 15)\")"
      ],
      "metadata": {
        "colab": {
          "base_uri": "https://localhost:8080/",
          "height": 658
        },
        "id": "8jF3gXx_0FLJ",
        "outputId": "feb27bac-7351-4632-e22b-e4effa6df31f"
      },
      "execution_count": null,
      "outputs": [
        {
          "output_type": "execute_result",
          "data": {
            "text/plain": [
              "Text(0.5, 1.0, 'No. of Books by an publisher (top 15)')"
            ]
          },
          "metadata": {},
          "execution_count": 19
        },
        {
          "output_type": "display_data",
          "data": {
            "text/plain": [
              "<Figure size 1500x700 with 1 Axes>"
            ],
            "image/png": "[encoded data removed]"
          },
          "metadata": {}
        }
      ]
    },
    {
      "cell_type": "code",
      "source": [
        "plt.figure(figsize=(15,7))\n",
        "sns.countplot(y = \"title\", data= book_new, order=book_new['title'].value_counts().index[0:15])\n",
        "plt.title(\"No. of Books by an book title (top 15)\")"
      ],
      "metadata": {
        "colab": {
          "base_uri": "https://localhost:8080/",
          "height": 549
        },
        "id": "TFKehrSL0dLq",
        "outputId": "fc62732b-ece0-4464-df7b-dd4b5e1420a7"
      },
      "execution_count": null,
      "outputs": [
        {
          "output_type": "execute_result",
          "data": {
            "text/plain": [
              "Text(0.5, 1.0, 'No. of Books by an book title (top 15)')"
            ]
          },
          "metadata": {},
          "execution_count": 20
        },
        {
          "output_type": "display_data",
          "data": {
            "text/plain": [
              "<Figure size 1500x700 with 1 Axes>"
            ],
            "image/png": "[encoded data removed]"
          },
          "metadata": {}
        }
      ]
    },
    {
      "cell_type": "code",
      "source": [
        "plt.figure(figsize=(15,7))\n",
        "sns.countplot(y = \"language_code\", data= book_new, order=book_new['language_code'].value_counts().index[0:7])\n",
        "plt.title(\"No. of Books by an book language  (top 7)\")"
      ],
      "metadata": {
        "colab": {
          "base_uri": "https://localhost:8080/",
          "height": 658
        },
        "id": "Xi94_uWU1nkZ",
        "outputId": "7d83ab66-7603-4a90-fa42-79231a41fa76"
      },
      "execution_count": null,
      "outputs": [
        {
          "output_type": "execute_result",
          "data": {
            "text/plain": [
              "Text(0.5, 1.0, 'No. of Books by an book language  (top 7)')"
            ]
          },
          "metadata": {},
          "execution_count": 21
        },
        {
          "output_type": "display_data",
          "data": {
            "text/plain": [
              "<Figure size 1500x700 with 1 Axes>"
            ],
            "image/png": "[encoded data removed]"
          },
          "metadata": {}
        }
      ]
    },
    {
      "cell_type": "code",
      "source": [
        "plt.figure(figsize=(15,7))\n",
        "dt = book_new[book_new['average_rating'] != 0]\n",
        "sns.countplot(x = 'average_rating', data = dt)\n",
        "plt.title(\"Explicit Ratings\")"
      ],
      "metadata": {
        "colab": {
          "base_uri": "https://localhost:8080/",
          "height": 658
        },
        "id": "U_AKtO_n1SI5",
        "outputId": "93327c38-3f6f-4614-e697-81bc305490c4"
      },
      "execution_count": null,
      "outputs": [
        {
          "output_type": "execute_result",
          "data": {
            "text/plain": [
              "Text(0.5, 1.0, 'Explicit Ratings')"
            ]
          },
          "metadata": {},
          "execution_count": 22
        },
        {
          "output_type": "display_data",
          "data": {
            "text/plain": [
              "<Figure size 1500x700 with 1 Axes>"
            ],
            "image/png": "[encoded data removed]"
          },
          "metadata": {}
        }
      ]
    },
    {
      "cell_type": "markdown",
      "source": [
        "# **Recommendation Model**"
      ],
      "metadata": {
        "id": "CZJiHuW02Ely"
      }
    },
    {
      "cell_type": "code",
      "source": [
        "bookName = input(\"Enter a book name: \")\n",
        "number = int(input(\"Enter number of books to recommend: \"))\n",
        "\n",
        "#Quiet Days in Clichy\n",
        "#Dune Messiah (Dune Chronicles #2)\n",
        "#Bryson's Dictionary of Troublesome Words: A Writer's Guide to Getting It Right"
      ],
      "metadata": {
        "colab": {
          "base_uri": "https://localhost:8080/"
        },
        "id": "O-gh-xbd2LB1",
        "outputId": "1107599a-dfbf-4ba7-ba62-1de1f8d72be0"
      },
      "execution_count": null,
      "outputs": [
        {
          "name": "stdout",
          "output_type": "stream",
          "text": [
            "Enter a book name: Quiet Days in Clichy\n",
            "Enter number of books to recommend: 5\n"
          ]
        }
      ]
    },
    {
      "cell_type": "markdown",
      "source": [
        "**Books by same Author**"
      ],
      "metadata": {
        "id": "3DX9eOZ_2453"
      }
    },
    {
      "cell_type": "code",
      "source": [
        "def printBook(k, n):\n",
        "    z = k['title'].unique()\n",
        "    for x in range(len(z)):\n",
        "        print(z[x])\n",
        "        if x >= n-1:\n",
        "            break"
      ],
      "metadata": {
        "id": "QaziBQf521Fw"
      },
      "execution_count": null,
      "outputs": []
    },
    {
      "cell_type": "code",
      "source": [
        "def get_books1(dataframe, name, n):\n",
        "    print(\"\\nBooks by same Author:\\n\")\n",
        "    au = dataframe['authors'].unique()\n",
        "\n",
        "    data = book_new[book_new['title'] != name]\n",
        "\n",
        "    if au[0] in list(data['authors'].unique()):\n",
        "        k2 = data[data['authors'] == au[0]]\n",
        "    k2 = k2.sort_values(by=['average_rating'])\n",
        "    printBook(k2, n)"
      ],
      "metadata": {
        "id": "ZtMoXZu22_3y"
      },
      "execution_count": null,
      "outputs": []
    },
    {
      "cell_type": "code",
      "source": [
        "if bookName in list(book_new['title'].unique()):\n",
        "    d = book_new[book_new['title'] == bookName]\n",
        "    get_books1(d, bookName, number)\n",
        "else:\n",
        "    print(\"Invalid Book Name!!\")"
      ],
      "metadata": {
        "colab": {
          "base_uri": "https://localhost:8080/"
        },
        "id": "8jrGjt1z3Y3B",
        "outputId": "b997e72f-c2f7-456a-dd22-0380d9f77701"
      },
      "execution_count": null,
      "outputs": [
        {
          "output_type": "stream",
          "name": "stdout",
          "text": [
            "\n",
            "Books by same Author:\n",
            "\n",
            "Tropic of Capricorn\n",
            "The Books in My Life\n",
            "The Air-Conditioned Nightmare\n",
            "Sexus (The Rosy Crucifixion  #1)\n",
            "Nexus (The Rosy Crucifixion  #3)\n"
          ]
        }
      ]
    },
    {
      "cell_type": "markdown",
      "source": [
        "**Books by same publisher**"
      ],
      "metadata": {
        "id": "qBfwxAnD3pgx"
      }
    },
    {
      "cell_type": "code",
      "source": [
        "def get_books2(dataframe, name, n):\n",
        "    print(\"\\nBooks by same Publisher:\\n\")\n",
        "    au = dataframe['publisher'].unique()\n",
        "\n",
        "    data = book_new[book_new['title'] != name]\n",
        "\n",
        "    if au[0] in list(data['publisher'].unique()):\n",
        "        k2 = data[data['publisher'] == au[0]]\n",
        "    k2 = k2.sort_values(by=['average_rating'])\n",
        "    printBook(k2, n)"
      ],
      "metadata": {
        "id": "cmK_BrKM3oNR"
      },
      "execution_count": null,
      "outputs": []
    },
    {
      "cell_type": "code",
      "source": [
        "if bookName in list(book_new['title'].unique()):\n",
        "    d = book_new[book_new['title'] == bookName]\n",
        "    get_books2(d, bookName, number)\n",
        "else:\n",
        "    print(\"Invalid Book Name!!\")"
      ],
      "metadata": {
        "colab": {
          "base_uri": "https://localhost:8080/"
        },
        "id": "gxwjfxNk35sh",
        "outputId": "439a6c49-930b-4621-e71a-1531685a5956"
      },
      "execution_count": null,
      "outputs": [
        {
          "output_type": "stream",
          "name": "stdout",
          "text": [
            "\n",
            "Books by same Publisher:\n",
            "\n",
            "Four Blondes\n",
            "The Soft Machine (The Nova Trilogy #1)\n",
            "Great Expectations\n",
            "The Wild Boys\n",
            "Nova Express (The Nova Trilogy  #3)\n"
          ]
        }
      ]
    },
    {
      "cell_type": "markdown",
      "source": [
        "**Popularity based**"
      ],
      "metadata": {
        "id": "mMcZ6KL14U4I"
      }
    },
    {
      "cell_type": "code",
      "source": [
        "C= book_new['average_rating'].mean()\n",
        "m= book_new['ratings_count'].quantile(0.60)\n",
        "Top_Books = book_new.loc[book_new['ratings_count'] >= m]\n",
        "print(f'C={C} , m={m}')\n",
        "Top_Books.shape"
      ],
      "metadata": {
        "id": "gxPsrrpJ57DI",
        "colab": {
          "base_uri": "https://localhost:8080/"
        },
        "outputId": "8e47237c-9e78-44c5-de2d-e5bb0e6012af"
      },
      "execution_count": null,
      "outputs": [
        {
          "output_type": "stream",
          "name": "stdout",
          "text": [
            "C=3.9021491615977477 , m=23409.0\n"
          ]
        },
        {
          "output_type": "execute_result",
          "data": {
            "text/plain": [
              "(22268, 13)"
            ]
          },
          "metadata": {},
          "execution_count": 29
        }
      ]
    },
    {
      "cell_type": "code",
      "source": [
        "def weighted_rating(x, m=m, C=C):\n",
        "    v = x['ratings_count']\n",
        "    R = x['average_rating']\n",
        "    return (v/(v+m) * R) + (m/(m+v) * C)\n",
        "\n",
        "\n",
        "Top_Books['Score'] = Top_Books.apply(weighted_rating,axis=1)\n",
        "\n",
        "\n",
        "#Sorting books based on score calculated above\n",
        "Top_Books = Top_Books.sort_values('Score', ascending=False)"
      ],
      "metadata": {
        "id": "G1A2s8oh6PcQ"
      },
      "execution_count": null,
      "outputs": []
    },
    {
      "cell_type": "code",
      "source": [
        "\n",
        "Top_Books=Top_Books.sort_values('Score', ascending=False).drop_duplicates('isbn').sort_index()\n",
        "cm=sns.light_palette('yellow',as_cmap=True)\n",
        "\n",
        "Top_Books = Top_Books.sort_values('Score', ascending=False)\n",
        "\n",
        "Top_Books[['title', 'ratings_count', 'average_rating', 'Score']].reset_index(drop=True).head(15).style.background_gradient(cmap=cm)"
      ],
      "metadata": {
        "colab": {
          "base_uri": "https://localhost:8080/",
          "height": 519
        },
        "id": "Ewi2mu64O-CP",
        "outputId": "3af8649b-955b-4cc6-dc1d-9ddc5edb29f1"
      },
      "execution_count": null,
      "outputs": [
        {
          "output_type": "execute_result",
          "data": {
            "text/plain": [
              "<pandas.io.formats.style.Styler at 0x7ff92b3be410>"
            ],
            "text/html": [
              "<style type=\"text/css\">\n",
              "#T_11ed1_row0_col1, #T_11ed1_row0_col3, #T_11ed1_row12_col2 {\n",
              "  background-color: #ffff00;\n",
              "  color: #000000;\n",
              "}\n",
              "#T_11ed1_row0_col2 {\n",
              "  background-color: #f8f86f;\n",
              "  color: #000000;\n",
              "}\n",
              "#T_11ed1_row1_col1 {\n",
              "  background-color: #fefe11;\n",
              "  color: #000000;\n",
              "}\n",
              "#T_11ed1_row1_col2 {\n",
              "  background-color: #f6f695;\n",
              "  color: #000000;\n",
              "}\n",
              "#T_11ed1_row1_col3 {\n",
              "  background-color: #fbfb44;\n",
              "  color: #000000;\n",
              "}\n",
              "#T_11ed1_row2_col1 {\n",
              "  background-color: #f2f2d5;\n",
              "  color: #000000;\n",
              "}\n",
              "#T_11ed1_row2_col2 {\n",
              "  background-color: #f8f874;\n",
              "  color: #000000;\n",
              "}\n",
              "#T_11ed1_row2_col3 {\n",
              "  background-color: #f8f871;\n",
              "  color: #000000;\n",
              "}\n",
              "#T_11ed1_row3_col1 {\n",
              "  background-color: #f5f5a7;\n",
              "  color: #000000;\n",
              "}\n",
              "#T_11ed1_row3_col2, #T_11ed1_row7_col2 {\n",
              "  background-color: #f5f5b1;\n",
              "  color: #000000;\n",
              "}\n",
              "#T_11ed1_row3_col3 {\n",
              "  background-color: #f7f782;\n",
              "  color: #000000;\n",
              "}\n",
              "#T_11ed1_row4_col1 {\n",
              "  background-color: #ffff04;\n",
              "  color: #000000;\n",
              "}\n",
              "#T_11ed1_row4_col2 {\n",
              "  background-color: #f4f4bc;\n",
              "  color: #000000;\n",
              "}\n",
              "#T_11ed1_row4_col3 {\n",
              "  background-color: #f7f787;\n",
              "  color: #000000;\n",
              "}\n",
              "#T_11ed1_row5_col1, #T_11ed1_row9_col1 {\n",
              "  background-color: #f2f2dc;\n",
              "  color: #000000;\n",
              "}\n",
              "#T_11ed1_row5_col2 {\n",
              "  background-color: #fbfb48;\n",
              "  color: #000000;\n",
              "}\n",
              "#T_11ed1_row5_col3 {\n",
              "  background-color: #f6f69a;\n",
              "  color: #000000;\n",
              "}\n",
              "#T_11ed1_row6_col1 {\n",
              "  background-color: #f5f5a3;\n",
              "  color: #000000;\n",
              "}\n",
              "#T_11ed1_row6_col2 {\n",
              "  background-color: #f4f4c2;\n",
              "  color: #000000;\n",
              "}\n",
              "#T_11ed1_row6_col3 {\n",
              "  background-color: #f6f69d;\n",
              "  color: #000000;\n",
              "}\n",
              "#T_11ed1_row7_col1 {\n",
              "  background-color: #f3f3cc;\n",
              "  color: #000000;\n",
              "}\n",
              "#T_11ed1_row7_col3 {\n",
              "  background-color: #f5f5a4;\n",
              "  color: #000000;\n",
              "}\n",
              "#T_11ed1_row8_col1 {\n",
              "  background-color: #fefe14;\n",
              "  color: #000000;\n",
              "}\n",
              "#T_11ed1_row8_col2, #T_11ed1_row12_col1, #T_11ed1_row14_col3 {\n",
              "  background-color: #f2f2dd;\n",
              "  color: #000000;\n",
              "}\n",
              "#T_11ed1_row8_col3 {\n",
              "  background-color: #f4f4c1;\n",
              "  color: #000000;\n",
              "}\n",
              "#T_11ed1_row9_col2 {\n",
              "  background-color: #f8f879;\n",
              "  color: #000000;\n",
              "}\n",
              "#T_11ed1_row9_col3, #T_11ed1_row10_col3, #T_11ed1_row11_col3 {\n",
              "  background-color: #f3f3d1;\n",
              "  color: #000000;\n",
              "}\n",
              "#T_11ed1_row10_col1 {\n",
              "  background-color: #f3f3c8;\n",
              "  color: #000000;\n",
              "}\n",
              "#T_11ed1_row10_col2, #T_11ed1_row14_col2 {\n",
              "  background-color: #f3f3d3;\n",
              "  color: #000000;\n",
              "}\n",
              "#T_11ed1_row11_col1, #T_11ed1_row11_col2 {\n",
              "  background-color: #f3f3cd;\n",
              "  color: #000000;\n",
              "}\n",
              "#T_11ed1_row12_col3 {\n",
              "  background-color: #f3f3d5;\n",
              "  color: #000000;\n",
              "}\n",
              "#T_11ed1_row13_col1 {\n",
              "  background-color: #f2f2d6;\n",
              "  color: #000000;\n",
              "}\n",
              "#T_11ed1_row13_col2 {\n",
              "  background-color: #f4f4b7;\n",
              "  color: #000000;\n",
              "}\n",
              "#T_11ed1_row13_col3 {\n",
              "  background-color: #f2f2db;\n",
              "  color: #000000;\n",
              "}\n",
              "#T_11ed1_row14_col1 {\n",
              "  background-color: #f3f3ce;\n",
              "  color: #000000;\n",
              "}\n",
              "</style>\n",
              "<table id=\"T_11ed1\" class=\"dataframe\">\n",
              "  <thead>\n",
              "    <tr>\n",
              "      <th class=\"blank level0\" >&nbsp;</th>\n",
              "      <th id=\"T_11ed1_level0_col0\" class=\"col_heading level0 col0\" >title</th>\n",
              "      <th id=\"T_11ed1_level0_col1\" class=\"col_heading level0 col1\" >ratings_count</th>\n",
              "      <th id=\"T_11ed1_level0_col2\" class=\"col_heading level0 col2\" >average_rating</th>\n",
              "      <th id=\"T_11ed1_level0_col3\" class=\"col_heading level0 col3\" >Score</th>\n",
              "    </tr>\n",
              "  </thead>\n",
              "  <tbody>\n",
              "    <tr>\n",
              "      <th id=\"T_11ed1_level0_row0\" class=\"row_heading level0 row0\" >0</th>\n",
              "      <td id=\"T_11ed1_row0_col0\" class=\"data row0 col0\" >Harry Potter and the Prisoner of Azkaban (Harry Potter  #3)</td>\n",
              "      <td id=\"T_11ed1_row0_col1\" class=\"data row0 col1\" >2339585</td>\n",
              "      <td id=\"T_11ed1_row0_col2\" class=\"data row0 col2\" >4.560000</td>\n",
              "      <td id=\"T_11ed1_row0_col3\" class=\"data row0 col3\" >4.553483</td>\n",
              "    </tr>\n",
              "    <tr>\n",
              "      <th id=\"T_11ed1_level0_row1\" class=\"row_heading level0 row1\" >1</th>\n",
              "      <td id=\"T_11ed1_row1_col0\" class=\"data row1 col0\" >Harry Potter and the Order of the Phoenix (Harry Potter  #5)</td>\n",
              "      <td id=\"T_11ed1_row1_col1\" class=\"data row1 col1\" >2153167</td>\n",
              "      <td id=\"T_11ed1_row1_col2\" class=\"data row1 col2\" >4.490000</td>\n",
              "      <td id=\"T_11ed1_row1_col3\" class=\"data row1 col3\" >4.483678</td>\n",
              "    </tr>\n",
              "    <tr>\n",
              "      <th id=\"T_11ed1_level0_row2\" class=\"row_heading level0 row2\" >2</th>\n",
              "      <td id=\"T_11ed1_row2_col0\" class=\"data row2 col0\" >The Complete Maus</td>\n",
              "      <td id=\"T_11ed1_row2_col1\" class=\"data row2 col1\" >111475</td>\n",
              "      <td id=\"T_11ed1_row2_col2\" class=\"data row2 col2\" >4.550000</td>\n",
              "      <td id=\"T_11ed1_row2_col3\" class=\"data row2 col3\" >4.437566</td>\n",
              "    </tr>\n",
              "    <tr>\n",
              "      <th id=\"T_11ed1_level0_row3\" class=\"row_heading level0 row3\" >3</th>\n",
              "      <td id=\"T_11ed1_row3_col0\" class=\"data row3 col0\" >The Two Towers (The Lord of the Rings  #2)</td>\n",
              "      <td id=\"T_11ed1_row3_col1\" class=\"data row3 col1\" >593467</td>\n",
              "      <td id=\"T_11ed1_row3_col2\" class=\"data row3 col2\" >4.440000</td>\n",
              "      <td id=\"T_11ed1_row3_col3\" class=\"data row3 col3\" >4.419590</td>\n",
              "    </tr>\n",
              "    <tr>\n",
              "      <th id=\"T_11ed1_level0_row4\" class=\"row_heading level0 row4\" >4</th>\n",
              "      <td id=\"T_11ed1_row4_col0\" class=\"data row4 col0\" >Harry Potter and the Chamber of Secrets (Harry Potter  #2)</td>\n",
              "      <td id=\"T_11ed1_row4_col1\" class=\"data row4 col1\" >2293963</td>\n",
              "      <td id=\"T_11ed1_row4_col2\" class=\"data row4 col2\" >4.420000</td>\n",
              "      <td id=\"T_11ed1_row4_col3\" class=\"data row4 col3\" >4.414769</td>\n",
              "    </tr>\n",
              "    <tr>\n",
              "      <th id=\"T_11ed1_level0_row5\" class=\"row_heading level0 row5\" >5</th>\n",
              "      <td id=\"T_11ed1_row5_col0\" class=\"data row5 col0\" >The Calvin and Hobbes Tenth Anniversary Book</td>\n",
              "      <td id=\"T_11ed1_row5_col1\" class=\"data row5 col1\" >49122</td>\n",
              "      <td id=\"T_11ed1_row5_col2\" class=\"data row5 col2\" >4.630000</td>\n",
              "      <td id=\"T_11ed1_row5_col3\" class=\"data row5 col3\" >4.395090</td>\n",
              "    </tr>\n",
              "    <tr>\n",
              "      <th id=\"T_11ed1_level0_row6\" class=\"row_heading level0 row6\" >6</th>\n",
              "      <td id=\"T_11ed1_row6_col0\" class=\"data row6 col0\" >A Clash of Kings  (A Song of Ice and Fire  #2)</td>\n",
              "      <td id=\"T_11ed1_row6_col1\" class=\"data row6 col1\" >638766</td>\n",
              "      <td id=\"T_11ed1_row6_col2\" class=\"data row6 col2\" >4.410000</td>\n",
              "      <td id=\"T_11ed1_row6_col3\" class=\"data row6 col3\" >4.392047</td>\n",
              "    </tr>\n",
              "    <tr>\n",
              "      <th id=\"T_11ed1_level0_row7\" class=\"row_heading level0 row7\" >7</th>\n",
              "      <td id=\"T_11ed1_row7_col0\" class=\"data row7 col0\" >The Green Mile</td>\n",
              "      <td id=\"T_11ed1_row7_col1\" class=\"data row7 col1\" >207869</td>\n",
              "      <td id=\"T_11ed1_row7_col2\" class=\"data row7 col2\" >4.440000</td>\n",
              "      <td id=\"T_11ed1_row7_col3\" class=\"data row7 col3\" >4.385561</td>\n",
              "    </tr>\n",
              "    <tr>\n",
              "      <th id=\"T_11ed1_level0_row8\" class=\"row_heading level0 row8\" >8</th>\n",
              "      <td id=\"T_11ed1_row8_col0\" class=\"data row8 col0\" >The Fellowship of the Ring (The Lord of the Rings  #1)</td>\n",
              "      <td id=\"T_11ed1_row8_col1\" class=\"data row8 col1\" >2128944</td>\n",
              "      <td id=\"T_11ed1_row8_col2\" class=\"data row8 col2\" >4.360000</td>\n",
              "      <td id=\"T_11ed1_row8_col3\" class=\"data row8 col3\" >4.355020</td>\n",
              "    </tr>\n",
              "    <tr>\n",
              "      <th id=\"T_11ed1_level0_row9\" class=\"row_heading level0 row9\" >9</th>\n",
              "      <td id=\"T_11ed1_row9_col0\" class=\"data row9 col0\" >Season of Mists (The Sandman  #4)</td>\n",
              "      <td id=\"T_11ed1_row9_col1\" class=\"data row9 col1\" >50951</td>\n",
              "      <td id=\"T_11ed1_row9_col2\" class=\"data row9 col2\" >4.540000</td>\n",
              "      <td id=\"T_11ed1_row9_col3\" class=\"data row9 col3\" >4.339201</td>\n",
              "    </tr>\n",
              "    <tr>\n",
              "      <th id=\"T_11ed1_level0_row10\" class=\"row_heading level0 row10\" >10</th>\n",
              "      <td id=\"T_11ed1_row10_col0\" class=\"data row10 col0\" >The Ultimate Hitchhiker's Guide to the Galaxy (Hitchhiker's Guide to the Galaxy  #1-5)</td>\n",
              "      <td id=\"T_11ed1_row10_col1\" class=\"data row10 col1\" >249558</td>\n",
              "      <td id=\"T_11ed1_row10_col2\" class=\"data row10 col2\" >4.380000</td>\n",
              "      <td id=\"T_11ed1_row10_col3\" class=\"data row10 col3\" >4.339021</td>\n",
              "    </tr>\n",
              "    <tr>\n",
              "      <th id=\"T_11ed1_level0_row11\" class=\"row_heading level0 row11\" >11</th>\n",
              "      <td id=\"T_11ed1_row11_col0\" class=\"data row11 col0\" >Voyager (Outlander  #3)</td>\n",
              "      <td id=\"T_11ed1_row11_col1\" class=\"data row11 col1\" >198818</td>\n",
              "      <td id=\"T_11ed1_row11_col2\" class=\"data row11 col2\" >4.390000</td>\n",
              "      <td id=\"T_11ed1_row11_col3\" class=\"data row11 col3\" >4.338611</td>\n",
              "    </tr>\n",
              "    <tr>\n",
              "      <th id=\"T_11ed1_level0_row12\" class=\"row_heading level0 row12\" >12</th>\n",
              "      <td id=\"T_11ed1_row12_col0\" class=\"data row12 col0\" >It's a Magical World (Calvin and Hobbes  #11)</td>\n",
              "      <td id=\"T_11ed1_row12_col1\" class=\"data row12 col1\" >23875</td>\n",
              "      <td id=\"T_11ed1_row12_col2\" class=\"data row12 col2\" >4.760000</td>\n",
              "      <td id=\"T_11ed1_row12_col3\" class=\"data row12 col3\" >4.335302</td>\n",
              "    </tr>\n",
              "    <tr>\n",
              "      <th id=\"T_11ed1_level0_row13\" class=\"row_heading level0 row13\" >13</th>\n",
              "      <td id=\"T_11ed1_row13_col0\" class=\"data row13 col0\" >The Complete Anne of Green Gables Boxed Set (Anne of Green Gables  #1-8)</td>\n",
              "      <td id=\"T_11ed1_row13_col1\" class=\"data row13 col1\" >98611</td>\n",
              "      <td id=\"T_11ed1_row13_col2\" class=\"data row13 col2\" >4.430000</td>\n",
              "      <td id=\"T_11ed1_row13_col3\" class=\"data row13 col3\" >4.328734</td>\n",
              "    </tr>\n",
              "    <tr>\n",
              "      <th id=\"T_11ed1_level0_row14\" class=\"row_heading level0 row14\" >14</th>\n",
              "      <td id=\"T_11ed1_row14_col0\" class=\"data row14 col0\" >The Complete Stories and Poems</td>\n",
              "      <td id=\"T_11ed1_row14_col1\" class=\"data row14 col1\" >183869</td>\n",
              "      <td id=\"T_11ed1_row14_col2\" class=\"data row14 col2\" >4.380000</td>\n",
              "      <td id=\"T_11ed1_row14_col3\" class=\"data row14 col3\" >4.326034</td>\n",
              "    </tr>\n",
              "  </tbody>\n",
              "</table>\n"
            ]
          },
          "metadata": {},
          "execution_count": 31
        }
      ]
    },
    {
      "cell_type": "code",
      "source": [
        "from scipy.sparse import csr_matrix\n",
        "from sklearn.neighbors import NearestNeighbors\n",
        "from sklearn.feature_extraction import DictVectorizer\n",
        "from sklearn.metrics.pairwise import cosine_similarity\n",
        "from sklearn.feature_extraction.text import TfidfVectorizer"
      ],
      "metadata": {
        "id": "hJEXFno-AVNG"
      },
      "execution_count": null,
      "outputs": []
    },
    {
      "cell_type": "markdown",
      "source": [
        "**Collaborative Filtering**"
      ],
      "metadata": {
        "id": "iijFSBBn9p1G"
      }
    },
    {
      "cell_type": "code",
      "source": [
        "df = pd.DataFrame(book_new['title'].value_counts())\n",
        "\n",
        "df['title'] = df.index\n",
        "df.reset_index(level=0, inplace=True)\n",
        "df = df.drop('index',axis=1)\n",
        "\n",
        "df = book_new.merge(df, left_on = 'title', right_on = 'title', how = 'left')\n",
        "\n",
        "popularity_threshold = 3\n",
        "popular_book = df[df['average_rating'] >= popularity_threshold]\n",
        "popular_book = popular_book.reset_index(drop = True)"
      ],
      "metadata": {
        "id": "n5HUxHCy9c2m"
      },
      "execution_count": null,
      "outputs": []
    },
    {
      "cell_type": "code",
      "source": [
        "testdf = pd.DataFrame()\n",
        "testdf['isbn'] = popular_book['isbn']\n",
        "testdf['average_rating'] = popular_book['average_rating']\n",
        "testdf['User-ID'] = popular_book['User-ID']\n",
        "testdf = testdf[['User-ID','average_rating']].groupby(testdf['isbn'])"
      ],
      "metadata": {
        "id": "v7gPtwpz_qWF"
      },
      "execution_count": null,
      "outputs": []
    },
    {
      "cell_type": "code",
      "source": [
        "listOfDictonaries=[]\n",
        "indexMap = {}\n",
        "reverseIndexMap = {}\n",
        "ptr=0\n",
        "\n",
        "for groupKey in testdf.groups.keys():\n",
        "    tempDict={}\n",
        "    groupDF = testdf.get_group(groupKey)\n",
        "    for i in range(0,len(groupDF)):\n",
        "        tempDict[groupDF.iloc[i,0]] = groupDF.iloc[i,1]\n",
        "    indexMap[ptr]=groupKey\n",
        "    reverseIndexMap[groupKey] = ptr\n",
        "    ptr=ptr+1\n",
        "    listOfDictonaries.append(tempDict)\n",
        "\n",
        "dictVectorizer = DictVectorizer(sparse=True)\n",
        "vector = dictVectorizer.fit_transform(listOfDictonaries)\n",
        "pairwiseSimilarity = cosine_similarity(vector)"
      ],
      "metadata": {
        "id": "1omEF7nTAM6M"
      },
      "execution_count": null,
      "outputs": []
    },
    {
      "cell_type": "code",
      "source": [
        "def printBookDetails(ID):\n",
        "    print(book_new[book_new['isbn']==ID]['title'].values[0])\n",
        "\n",
        "def getTopRecommandations(ID):\n",
        "    collaborative = []\n",
        "    row = reverseIndexMap[ID]\n",
        "    print(\"Input Book:\")\n",
        "    printBookDetails(ID)\n",
        "\n",
        "    print(\"\\nRECOMMENDATIONS:\\n\")\n",
        "\n",
        "    mn = 0\n",
        "    similar = []\n",
        "    for i in np.argsort(pairwiseSimilarity[row])[:-2][::-1]:\n",
        "          if book_new[book_new['isbn']==indexMap[i]]['title'].values[0] not in similar:\n",
        "                if mn >= number:\n",
        "                      break\n",
        "                mn+=1\n",
        "                similar.append(book_new[book_new['isbn']==indexMap[i]]['title'].values[0])\n",
        "                printBookDetails(indexMap[i])\n",
        "                collaborative.append(book_new[book_new['isbn']==indexMap[i]]['title'].values[0])\n",
        "    return collaborative\n"
      ],
      "metadata": {
        "id": "thSHqoQJAfmW"
      },
      "execution_count": null,
      "outputs": []
    },
    {
      "cell_type": "code",
      "source": [
        "bookName1 = input(\"Enter a book name: \")\n",
        "#Harry Potter and the Prisoner of Azkaban (Harry Potter  #3)\n",
        "#Coming Into the Country\n",
        "#Philosophy of Religion\n",
        "#Harry Potter and the Half-Blood Prince (Harry Potter  #6)\n",
        "#The New York Trilogy"
      ],
      "metadata": {
        "colab": {
          "base_uri": "https://localhost:8080/"
        },
        "id": "fDiEP0gtDE0e",
        "outputId": "d93c725f-4260-4fbf-bd1f-b61268523fd0"
      },
      "execution_count": null,
      "outputs": [
        {
          "name": "stdout",
          "output_type": "stream",
          "text": [
            "Enter a book name: Harry Potter and the Prisoner of Azkaban (Harry Potter  #3)\n"
          ]
        }
      ]
    },
    {
      "cell_type": "code",
      "source": [
        "k = list(book_new['title'])\n",
        "m = list(book_new['isbn'])\n",
        "\n",
        "collaborative = getTopRecommandations(m[k.index(bookName1)])"
      ],
      "metadata": {
        "colab": {
          "base_uri": "https://localhost:8080/"
        },
        "id": "61oCmkRUCNNN",
        "outputId": "b9b7fbb8-6b7f-497c-9ca2-caa0233c7beb"
      },
      "execution_count": null,
      "outputs": [
        {
          "output_type": "stream",
          "name": "stdout",
          "text": [
            "Input Book:\n",
            "Harry Potter and the Prisoner of Azkaban (Harry Potter  #3)\n",
            "\n",
            "RECOMMENDATIONS:\n",
            "\n",
            "The Death of Ivan Ilych & Other Stories\n",
            "The Idiot\n",
            "The Partly Cloudy Patriot\n",
            "Philosophy of Religion\n",
            "Cash\n",
            "Laura Ingalls Wilder Country: The People and places in Laura Ingalls Wilder's life and books\n",
            "Juniper\n"
          ]
        }
      ]
    },
    {
      "cell_type": "markdown",
      "source": [
        "**Content Based**"
      ],
      "metadata": {
        "id": "oyfdJzEOHSIi"
      }
    },
    {
      "cell_type": "code",
      "source": [
        "popularity_threshold = 3\n",
        "popular_book = df[df['average_rating'] >= popularity_threshold]\n",
        "popular_book = popular_book.reset_index(drop = True)\n",
        "popular_book.shape"
      ],
      "metadata": {
        "colab": {
          "base_uri": "https://localhost:8080/"
        },
        "id": "jf1QLoGKHSaC",
        "outputId": "116f0b88-3e98-4c97-fcde-8f29509c22bf"
      },
      "execution_count": null,
      "outputs": [
        {
          "output_type": "execute_result",
          "data": {
            "text/plain": [
              "(55164, 13)"
            ]
          },
          "metadata": {},
          "execution_count": 38
        }
      ]
    },
    {
      "cell_type": "code",
      "source": [
        "tf = TfidfVectorizer(ngram_range=(1, 2), min_df = 1, stop_words='english')\n",
        "tfidf_matrix = tf.fit_transform(popular_book['title'])\n",
        "tfidf_matrix.shape"
      ],
      "metadata": {
        "colab": {
          "base_uri": "https://localhost:8080/"
        },
        "id": "QYlhELzAH8r_",
        "outputId": "a20c7bda-8e49-43cb-940c-2321e6be2b3a"
      },
      "execution_count": null,
      "outputs": [
        {
          "output_type": "execute_result",
          "data": {
            "text/plain": [
              "(55164, 13658)"
            ]
          },
          "metadata": {},
          "execution_count": 39
        }
      ]
    },
    {
      "cell_type": "code",
      "source": [
        "normalized_df = tfidf_matrix.astype(np.float32)\n",
        "cosine_similarities = cosine_similarity(normalized_df, normalized_df)\n",
        "cosine_similarities.shape"
      ],
      "metadata": {
        "colab": {
          "base_uri": "https://localhost:8080/"
        },
        "id": "2cKlTOfaH81J",
        "outputId": "7a5ae91e-2a64-4a50-ad62-9fc5af0e7788"
      },
      "execution_count": null,
      "outputs": [
        {
          "output_type": "execute_result",
          "data": {
            "text/plain": [
              "(55164, 55164)"
            ]
          },
          "metadata": {},
          "execution_count": 40
        }
      ]
    },
    {
      "cell_type": "code",
      "source": [
        "print(\"Recommended Books:\\n\")\n",
        "isbn = book_new.loc[book_new['title'] == bookName1].reset_index(drop = True).iloc[0]['isbn']\n",
        "content = []\n",
        "\n",
        "idx = popular_book.index[popular_book['isbn'] == isbn].tolist()[0]\n",
        "similar_indices = cosine_similarities[idx].argsort()[::-1]\n",
        "similar_items = []\n",
        "for i in similar_indices:\n",
        "    if popular_book['title'][i] != bookName1 and popular_book['title'][i] not in similar_items and len(similar_items) < number :\n",
        "        similar_items.append(popular_book['title'][i])\n",
        "        content.append(popular_book['title'][i])\n",
        "\n",
        "for book in similar_items:\n",
        "    print(book)"
      ],
      "metadata": {
        "colab": {
          "base_uri": "https://localhost:8080/"
        },
        "id": "qqPz2wM0H5CI",
        "outputId": "9ac86ddb-26ea-4752-f946-e4f81ba209a2"
      },
      "execution_count": null,
      "outputs": [
        {
          "output_type": "stream",
          "name": "stdout",
          "text": [
            "Recommended Books:\n",
            "\n",
            "Harry Potter and the Chamber of Secrets (Harry Potter  #2)\n",
            "Harry Potter and the Goblet of Fire (Harry Potter  #4)\n",
            "Harry Potter and the Order of the Phoenix (Harry Potter  #5)\n",
            "Harry Potter and the Sorcerer's Stone (Harry Potter  #1)\n",
            "Harry Potter y la Orden del Fénix (Harry Potter  #5)\n",
            "Harry Potter und der Gefangene von Askaban (Harry Potter  #3)\n",
            "Ultimate Unofficial Guide to the Mysteries of Harry Potter: Analysis of Books 1-4\n"
          ]
        }
      ]
    },
    {
      "cell_type": "code",
      "source": [
        "number1 = int(input(\"Enter number of books to recommend: \"))"
      ],
      "metadata": {
        "id": "555iQ2W9Ku7y",
        "colab": {
          "base_uri": "https://localhost:8080/"
        },
        "outputId": "bcd80670-f622-4049-aa81-17a34833ff38"
      },
      "execution_count": null,
      "outputs": [
        {
          "name": "stdout",
          "output_type": "stream",
          "text": [
            "Enter number of books to recommend: 7\n"
          ]
        }
      ]
    },
    {
      "cell_type": "code",
      "source": [],
      "metadata": {
        "id": "nfKjjoZWvhh4"
      },
      "execution_count": null,
      "outputs": []
    },
    {
      "cell_type": "markdown",
      "source": [
        "**Hybrid Recommender**"
      ],
      "metadata": {
        "id": "1F5V0nICJbZ4"
      }
    },
    {
      "cell_type": "code",
      "source": [
        "from numpy import *\n",
        "import operator"
      ],
      "metadata": {
        "id": "FIrt8cTAJ6vg"
      },
      "execution_count": null,
      "outputs": []
    },
    {
      "cell_type": "code",
      "source": [
        "z = list()\n",
        "num = 1/number1\n",
        "k = float(num)\n",
        "for x in range(number1 ):\n",
        "      z.append(1-k*x)\n",
        "\n",
        "dictISBN = {}\n",
        "for x in collaborative:\n",
        "      dictISBN[x] = z[collaborative.index(x)]\n",
        "\n",
        "for x in content:\n",
        "    if x not in dictISBN:\n",
        "        dictISBN[x] = z[content.index(x)]\n",
        "    else:\n",
        "        dictISBN[x] += z[content.index(x)]\n",
        "\n",
        "ISBN = dict(sorted(dictISBN.items(),key=operator.itemgetter(1),reverse=True))\n",
        "w = 0\n",
        "print(\"Input Book:\\n\")\n",
        "print(bookName1)\n",
        "print(\"\\nRecommended Books:\\n\")\n",
        "for x in ISBN.keys():\n",
        "    if w >= number1:\n",
        "        break\n",
        "    w+=1\n",
        "    print(x)"
      ],
      "metadata": {
        "colab": {
          "base_uri": "https://localhost:8080/"
        },
        "id": "f5NS1S5PJVrK",
        "outputId": "eeb5c8f9-b83e-40f8-f09d-1dbcb557aff9"
      },
      "execution_count": null,
      "outputs": [
        {
          "output_type": "stream",
          "name": "stdout",
          "text": [
            "Input Book:\n",
            "\n",
            "Harry Potter and the Prisoner of Azkaban (Harry Potter  #3)\n",
            "\n",
            "Recommended Books:\n",
            "\n",
            "The Death of Ivan Ilych & Other Stories\n",
            "Harry Potter and the Chamber of Secrets (Harry Potter  #2)\n",
            "The Idiot\n",
            "Harry Potter and the Goblet of Fire (Harry Potter  #4)\n",
            "The Partly Cloudy Patriot\n",
            "Harry Potter and the Order of the Phoenix (Harry Potter  #5)\n",
            "Philosophy of Religion\n"
          ]
        }
      ]
    },
    {
      "cell_type": "code",
      "source": [],
      "metadata": {
        "id": "UXrCUpVUW3p1"
      },
      "execution_count": null,
      "outputs": []
    }
  ]
}