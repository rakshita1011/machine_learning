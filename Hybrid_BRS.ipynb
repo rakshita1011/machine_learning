{
  "nbformat": 4,
  "nbformat_minor": 0,
  "metadata": {
    "colab": {
      "provenance": []
    },
    "kernelspec": {
      "name": "python3",
      "display_name": "Python 3"
    },
    "language_info": {
      "name": "python"
    }
  },
  "cells": [
    {
      "cell_type": "code",
      "source": [
        "import pandas as pd\n",
        "import numpy as np\n",
        "import seaborn as sns\n",
        "import matplotlib.pyplot as plt\n",
        "\n",
        "import warnings\n",
        "warnings.filterwarnings('ignore')\n",
        "\n",
        "from collections import Counter"
      ],
      "metadata": {
        "id": "EDR21COAJ3uY"
      },
      "execution_count": 1,
      "outputs": []
    },
    {
      "cell_type": "code",
      "source": [
        "from google.colab import drive\n",
        "drive.mount('/content/drive')"
      ],
      "metadata": {
        "colab": {
          "base_uri": "https://localhost:8080/"
        },
        "id": "08_dszEjJ8mD",
        "outputId": "4de80339-d04d-4bad-e9a5-05cfa8512a27"
      },
      "execution_count": 2,
      "outputs": [
        {
          "output_type": "stream",
          "name": "stdout",
          "text": [
            "Mounted at /content/drive\n"
          ]
        }
      ]
    },
    {
      "cell_type": "code",
      "execution_count": 3,
      "metadata": {
        "id": "7gJ4ksQQtCvS",
        "colab": {
          "base_uri": "https://localhost:8080/",
          "height": 337
        },
        "outputId": "132e1ec4-5fb2-4e15-9dad-723293008a7c"
      },
      "outputs": [
        {
          "output_type": "execute_result",
          "data": {
            "text/plain": [
              "   bookID                                              title  \\\n",
              "0       1  Harry Potter and the Half-Blood Prince (Harry ...   \n",
              "1       2  Harry Potter and the Order of the Phoenix (Har...   \n",
              "2       4  Harry Potter and the Chamber of Secrets (Harry...   \n",
              "3       5  Harry Potter and the Prisoner of Azkaban (Harr...   \n",
              "4       8  Harry Potter Boxed Set  Books 1-5 (Harry Potte...   \n",
              "\n",
              "                      authors  average_rating        isbn         isbn13  \\\n",
              "0  J.K. Rowling/Mary GrandPré            4.57  0439785960  9780439785969   \n",
              "1  J.K. Rowling/Mary GrandPré            4.49  0439358078  9780439358071   \n",
              "2                J.K. Rowling            4.42  0439554896  9780439554893   \n",
              "3  J.K. Rowling/Mary GrandPré            4.56  043965548X  9780439655484   \n",
              "4  J.K. Rowling/Mary GrandPré            4.78  0439682584  9780439682589   \n",
              "\n",
              "  language_code    num_pages  ratings_count  text_reviews_count  \\\n",
              "0           eng          652        2095690               27591   \n",
              "1           eng          870        2153167               29221   \n",
              "2           eng          352           6333                 244   \n",
              "3           eng          435        2339585               36325   \n",
              "4           eng         2690          41428                 164   \n",
              "\n",
              "  publication_date        publisher  \n",
              "0        9/16/2006  Scholastic Inc.  \n",
              "1         9/1/2004  Scholastic Inc.  \n",
              "2        11/1/2003       Scholastic  \n",
              "3         5/1/2004  Scholastic Inc.  \n",
              "4        9/13/2004       Scholastic  "
            ],
            "text/html": [
              "\n",
              "  <div id=\"df-dd3f8c99-0859-4cf8-8c1b-8eec9153c672\">\n",
              "    <div class=\"colab-df-container\">\n",
              "      <div>\n",
              "<style scoped>\n",
              "    .dataframe tbody tr th:only-of-type {\n",
              "        vertical-align: middle;\n",
              "    }\n",
              "\n",
              "    .dataframe tbody tr th {\n",
              "        vertical-align: top;\n",
              "    }\n",
              "\n",
              "    .dataframe thead th {\n",
              "        text-align: right;\n",
              "    }\n",
              "</style>\n",
              "<table border=\"1\" class=\"dataframe\">\n",
              "  <thead>\n",
              "    <tr style=\"text-align: right;\">\n",
              "      <th></th>\n",
              "      <th>bookID</th>\n",
              "      <th>title</th>\n",
              "      <th>authors</th>\n",
              "      <th>average_rating</th>\n",
              "      <th>isbn</th>\n",
              "      <th>isbn13</th>\n",
              "      <th>language_code</th>\n",
              "      <th>num_pages</th>\n",
              "      <th>ratings_count</th>\n",
              "      <th>text_reviews_count</th>\n",
              "      <th>publication_date</th>\n",
              "      <th>publisher</th>\n",
              "    </tr>\n",
              "  </thead>\n",
              "  <tbody>\n",
              "    <tr>\n",
              "      <th>0</th>\n",
              "      <td>1</td>\n",
              "      <td>Harry Potter and the Half-Blood Prince (Harry ...</td>\n",
              "      <td>J.K. Rowling/Mary GrandPré</td>\n",
              "      <td>4.57</td>\n",
              "      <td>0439785960</td>\n",
              "      <td>9780439785969</td>\n",
              "      <td>eng</td>\n",
              "      <td>652</td>\n",
              "      <td>2095690</td>\n",
              "      <td>27591</td>\n",
              "      <td>9/16/2006</td>\n",
              "      <td>Scholastic Inc.</td>\n",
              "    </tr>\n",
              "    <tr>\n",
              "      <th>1</th>\n",
              "      <td>2</td>\n",
              "      <td>Harry Potter and the Order of the Phoenix (Har...</td>\n",
              "      <td>J.K. Rowling/Mary GrandPré</td>\n",
              "      <td>4.49</td>\n",
              "      <td>0439358078</td>\n",
              "      <td>9780439358071</td>\n",
              "      <td>eng</td>\n",
              "      <td>870</td>\n",
              "      <td>2153167</td>\n",
              "      <td>29221</td>\n",
              "      <td>9/1/2004</td>\n",
              "      <td>Scholastic Inc.</td>\n",
              "    </tr>\n",
              "    <tr>\n",
              "      <th>2</th>\n",
              "      <td>4</td>\n",
              "      <td>Harry Potter and the Chamber of Secrets (Harry...</td>\n",
              "      <td>J.K. Rowling</td>\n",
              "      <td>4.42</td>\n",
              "      <td>0439554896</td>\n",
              "      <td>9780439554893</td>\n",
              "      <td>eng</td>\n",
              "      <td>352</td>\n",
              "      <td>6333</td>\n",
              "      <td>244</td>\n",
              "      <td>11/1/2003</td>\n",
              "      <td>Scholastic</td>\n",
              "    </tr>\n",
              "    <tr>\n",
              "      <th>3</th>\n",
              "      <td>5</td>\n",
              "      <td>Harry Potter and the Prisoner of Azkaban (Harr...</td>\n",
              "      <td>J.K. Rowling/Mary GrandPré</td>\n",
              "      <td>4.56</td>\n",
              "      <td>043965548X</td>\n",
              "      <td>9780439655484</td>\n",
              "      <td>eng</td>\n",
              "      <td>435</td>\n",
              "      <td>2339585</td>\n",
              "      <td>36325</td>\n",
              "      <td>5/1/2004</td>\n",
              "      <td>Scholastic Inc.</td>\n",
              "    </tr>\n",
              "    <tr>\n",
              "      <th>4</th>\n",
              "      <td>8</td>\n",
              "      <td>Harry Potter Boxed Set  Books 1-5 (Harry Potte...</td>\n",
              "      <td>J.K. Rowling/Mary GrandPré</td>\n",
              "      <td>4.78</td>\n",
              "      <td>0439682584</td>\n",
              "      <td>9780439682589</td>\n",
              "      <td>eng</td>\n",
              "      <td>2690</td>\n",
              "      <td>41428</td>\n",
              "      <td>164</td>\n",
              "      <td>9/13/2004</td>\n",
              "      <td>Scholastic</td>\n",
              "    </tr>\n",
              "  </tbody>\n",
              "</table>\n",
              "</div>\n",
              "      <button class=\"colab-df-convert\" onclick=\"convertToInteractive('df-dd3f8c99-0859-4cf8-8c1b-8eec9153c672')\"\n",
              "              title=\"Convert this dataframe to an interactive table.\"\n",
              "              style=\"display:none;\">\n",
              "        \n",
              "  <svg xmlns=\"http://www.w3.org/2000/svg\" height=\"24px\"viewBox=\"0 0 24 24\"\n",
              "       width=\"24px\">\n",
              "    <path d=\"M0 0h24v24H0V0z\" fill=\"none\"/>\n",
              "    <path d=\"M18.56 5.44l.94 2.06.94-2.06 2.06-.94-2.06-.94-.94-2.06-.94 2.06-2.06.94zm-11 1L8.5 8.5l.94-2.06 2.06-.94-2.06-.94L8.5 2.5l-.94 2.06-2.06.94zm10 10l.94 2.06.94-2.06 2.06-.94-2.06-.94-.94-2.06-.94 2.06-2.06.94z\"/><path d=\"M17.41 7.96l-1.37-1.37c-.4-.4-.92-.59-1.43-.59-.52 0-1.04.2-1.43.59L10.3 9.45l-7.72 7.72c-.78.78-.78 2.05 0 2.83L4 21.41c.39.39.9.59 1.41.59.51 0 1.02-.2 1.41-.59l7.78-7.78 2.81-2.81c.8-.78.8-2.07 0-2.86zM5.41 20L4 18.59l7.72-7.72 1.47 1.35L5.41 20z\"/>\n",
              "  </svg>\n",
              "      </button>\n",
              "      \n",
              "  <style>\n",
              "    .colab-df-container {\n",
              "      display:flex;\n",
              "      flex-wrap:wrap;\n",
              "      gap: 12px;\n",
              "    }\n",
              "\n",
              "    .colab-df-convert {\n",
              "      background-color: #E8F0FE;\n",
              "      border: none;\n",
              "      border-radius: 50%;\n",
              "      cursor: pointer;\n",
              "      display: none;\n",
              "      fill: #1967D2;\n",
              "      height: 32px;\n",
              "      padding: 0 0 0 0;\n",
              "      width: 32px;\n",
              "    }\n",
              "\n",
              "    .colab-df-convert:hover {\n",
              "      background-color: #E2EBFA;\n",
              "      box-shadow: 0px 1px 2px rgba(60, 64, 67, 0.3), 0px 1px 3px 1px rgba(60, 64, 67, 0.15);\n",
              "      fill: #174EA6;\n",
              "    }\n",
              "\n",
              "    [theme=dark] .colab-df-convert {\n",
              "      background-color: #3B4455;\n",
              "      fill: #D2E3FC;\n",
              "    }\n",
              "\n",
              "    [theme=dark] .colab-df-convert:hover {\n",
              "      background-color: #434B5C;\n",
              "      box-shadow: 0px 1px 3px 1px rgba(0, 0, 0, 0.15);\n",
              "      filter: drop-shadow(0px 1px 2px rgba(0, 0, 0, 0.3));\n",
              "      fill: #FFFFFF;\n",
              "    }\n",
              "  </style>\n",
              "\n",
              "      <script>\n",
              "        const buttonEl =\n",
              "          document.querySelector('#df-dd3f8c99-0859-4cf8-8c1b-8eec9153c672 button.colab-df-convert');\n",
              "        buttonEl.style.display =\n",
              "          google.colab.kernel.accessAllowed ? 'block' : 'none';\n",
              "\n",
              "        async function convertToInteractive(key) {\n",
              "          const element = document.querySelector('#df-dd3f8c99-0859-4cf8-8c1b-8eec9153c672');\n",
              "          const dataTable =\n",
              "            await google.colab.kernel.invokeFunction('convertToInteractive',\n",
              "                                                     [key], {});\n",
              "          if (!dataTable) return;\n",
              "\n",
              "          const docLinkHtml = 'Like what you see? Visit the ' +\n",
              "            '<a target=\"_blank\" href=https://colab.research.google.com/notebooks/data_table.ipynb>data table notebook</a>'\n",
              "            + ' to learn more about interactive tables.';\n",
              "          element.innerHTML = '';\n",
              "          dataTable['output_type'] = 'display_data';\n",
              "          await google.colab.output.renderOutput(dataTable, element);\n",
              "          const docLink = document.createElement('div');\n",
              "          docLink.innerHTML = docLinkHtml;\n",
              "          element.appendChild(docLink);\n",
              "        }\n",
              "      </script>\n",
              "    </div>\n",
              "  </div>\n",
              "  "
            ]
          },
          "metadata": {},
          "execution_count": 3
        }
      ],
      "source": [
        "folder = ('/content/drive/MyDrive/Book_data/books_new.csv')\n",
        "book_new = pd.read_csv(folder, on_bad_lines='skip')\n",
        "book_new.head()"
      ]
    },
    {
      "cell_type": "code",
      "source": [
        "book_new.info()"
      ],
      "metadata": {
        "colab": {
          "base_uri": "https://localhost:8080/"
        },
        "id": "h0LiSpMewXmY",
        "outputId": "4acde84f-6768-49b5-c890-0a3d0b23fb90"
      },
      "execution_count": 4,
      "outputs": [
        {
          "output_type": "stream",
          "name": "stdout",
          "text": [
            "<class 'pandas.core.frame.DataFrame'>\n",
            "RangeIndex: 11123 entries, 0 to 11122\n",
            "Data columns (total 12 columns):\n",
            " #   Column              Non-Null Count  Dtype  \n",
            "---  ------              --------------  -----  \n",
            " 0   bookID              11123 non-null  int64  \n",
            " 1   title               11123 non-null  object \n",
            " 2   authors             11123 non-null  object \n",
            " 3   average_rating      11123 non-null  float64\n",
            " 4   isbn                11123 non-null  object \n",
            " 5   isbn13              11123 non-null  int64  \n",
            " 6   language_code       11123 non-null  object \n",
            " 7     num_pages         11123 non-null  int64  \n",
            " 8   ratings_count       11123 non-null  int64  \n",
            " 9   text_reviews_count  11123 non-null  int64  \n",
            " 10  publication_date    11123 non-null  object \n",
            " 11  publisher           11123 non-null  object \n",
            "dtypes: float64(1), int64(5), object(6)\n",
            "memory usage: 1.0+ MB\n"
          ]
        }
      ]
    },
    {
      "cell_type": "code",
      "source": [
        "book_new[[\"publication_day\", \"publication_month\", \"publication_year\"]] = book_new[\"publication_date\"].str.split(\"/\", expand = True)"
      ],
      "metadata": {
        "id": "apzD2-sWx4s8"
      },
      "execution_count": 5,
      "outputs": []
    },
    {
      "cell_type": "code",
      "source": [
        "book_new = book_new.drop(\"publication_day\", axis = 1)\n",
        "book_new = book_new.drop(\"publication_month\", axis = 1)\n",
        "book_new = book_new.drop(\"isbn13\", axis = 1)"
      ],
      "metadata": {
        "id": "4FYrm_rUysCh"
      },
      "execution_count": 6,
      "outputs": []
    },
    {
      "cell_type": "code",
      "source": [
        "book_new.head()"
      ],
      "metadata": {
        "colab": {
          "base_uri": "https://localhost:8080/",
          "height": 337
        },
        "id": "HbSD3T1ayjbD",
        "outputId": "e1d1546f-e54d-4d56-f784-de6983357c46"
      },
      "execution_count": 7,
      "outputs": [
        {
          "output_type": "execute_result",
          "data": {
            "text/plain": [
              "   bookID                                              title  \\\n",
              "0       1  Harry Potter and the Half-Blood Prince (Harry ...   \n",
              "1       2  Harry Potter and the Order of the Phoenix (Har...   \n",
              "2       4  Harry Potter and the Chamber of Secrets (Harry...   \n",
              "3       5  Harry Potter and the Prisoner of Azkaban (Harr...   \n",
              "4       8  Harry Potter Boxed Set  Books 1-5 (Harry Potte...   \n",
              "\n",
              "                      authors  average_rating        isbn language_code  \\\n",
              "0  J.K. Rowling/Mary GrandPré            4.57  0439785960           eng   \n",
              "1  J.K. Rowling/Mary GrandPré            4.49  0439358078           eng   \n",
              "2                J.K. Rowling            4.42  0439554896           eng   \n",
              "3  J.K. Rowling/Mary GrandPré            4.56  043965548X           eng   \n",
              "4  J.K. Rowling/Mary GrandPré            4.78  0439682584           eng   \n",
              "\n",
              "     num_pages  ratings_count  text_reviews_count publication_date  \\\n",
              "0          652        2095690               27591        9/16/2006   \n",
              "1          870        2153167               29221         9/1/2004   \n",
              "2          352           6333                 244        11/1/2003   \n",
              "3          435        2339585               36325         5/1/2004   \n",
              "4         2690          41428                 164        9/13/2004   \n",
              "\n",
              "         publisher publication_year  \n",
              "0  Scholastic Inc.             2006  \n",
              "1  Scholastic Inc.             2004  \n",
              "2       Scholastic             2003  \n",
              "3  Scholastic Inc.             2004  \n",
              "4       Scholastic             2004  "
            ],
            "text/html": [
              "\n",
              "  <div id=\"df-35f4a36c-2238-459c-802b-f0d2a70c5206\">\n",
              "    <div class=\"colab-df-container\">\n",
              "      <div>\n",
              "<style scoped>\n",
              "    .dataframe tbody tr th:only-of-type {\n",
              "        vertical-align: middle;\n",
              "    }\n",
              "\n",
              "    .dataframe tbody tr th {\n",
              "        vertical-align: top;\n",
              "    }\n",
              "\n",
              "    .dataframe thead th {\n",
              "        text-align: right;\n",
              "    }\n",
              "</style>\n",
              "<table border=\"1\" class=\"dataframe\">\n",
              "  <thead>\n",
              "    <tr style=\"text-align: right;\">\n",
              "      <th></th>\n",
              "      <th>bookID</th>\n",
              "      <th>title</th>\n",
              "      <th>authors</th>\n",
              "      <th>average_rating</th>\n",
              "      <th>isbn</th>\n",
              "      <th>language_code</th>\n",
              "      <th>num_pages</th>\n",
              "      <th>ratings_count</th>\n",
              "      <th>text_reviews_count</th>\n",
              "      <th>publication_date</th>\n",
              "      <th>publisher</th>\n",
              "      <th>publication_year</th>\n",
              "    </tr>\n",
              "  </thead>\n",
              "  <tbody>\n",
              "    <tr>\n",
              "      <th>0</th>\n",
              "      <td>1</td>\n",
              "      <td>Harry Potter and the Half-Blood Prince (Harry ...</td>\n",
              "      <td>J.K. Rowling/Mary GrandPré</td>\n",
              "      <td>4.57</td>\n",
              "      <td>0439785960</td>\n",
              "      <td>eng</td>\n",
              "      <td>652</td>\n",
              "      <td>2095690</td>\n",
              "      <td>27591</td>\n",
              "      <td>9/16/2006</td>\n",
              "      <td>Scholastic Inc.</td>\n",
              "      <td>2006</td>\n",
              "    </tr>\n",
              "    <tr>\n",
              "      <th>1</th>\n",
              "      <td>2</td>\n",
              "      <td>Harry Potter and the Order of the Phoenix (Har...</td>\n",
              "      <td>J.K. Rowling/Mary GrandPré</td>\n",
              "      <td>4.49</td>\n",
              "      <td>0439358078</td>\n",
              "      <td>eng</td>\n",
              "      <td>870</td>\n",
              "      <td>2153167</td>\n",
              "      <td>29221</td>\n",
              "      <td>9/1/2004</td>\n",
              "      <td>Scholastic Inc.</td>\n",
              "      <td>2004</td>\n",
              "    </tr>\n",
              "    <tr>\n",
              "      <th>2</th>\n",
              "      <td>4</td>\n",
              "      <td>Harry Potter and the Chamber of Secrets (Harry...</td>\n",
              "      <td>J.K. Rowling</td>\n",
              "      <td>4.42</td>\n",
              "      <td>0439554896</td>\n",
              "      <td>eng</td>\n",
              "      <td>352</td>\n",
              "      <td>6333</td>\n",
              "      <td>244</td>\n",
              "      <td>11/1/2003</td>\n",
              "      <td>Scholastic</td>\n",
              "      <td>2003</td>\n",
              "    </tr>\n",
              "    <tr>\n",
              "      <th>3</th>\n",
              "      <td>5</td>\n",
              "      <td>Harry Potter and the Prisoner of Azkaban (Harr...</td>\n",
              "      <td>J.K. Rowling/Mary GrandPré</td>\n",
              "      <td>4.56</td>\n",
              "      <td>043965548X</td>\n",
              "      <td>eng</td>\n",
              "      <td>435</td>\n",
              "      <td>2339585</td>\n",
              "      <td>36325</td>\n",
              "      <td>5/1/2004</td>\n",
              "      <td>Scholastic Inc.</td>\n",
              "      <td>2004</td>\n",
              "    </tr>\n",
              "    <tr>\n",
              "      <th>4</th>\n",
              "      <td>8</td>\n",
              "      <td>Harry Potter Boxed Set  Books 1-5 (Harry Potte...</td>\n",
              "      <td>J.K. Rowling/Mary GrandPré</td>\n",
              "      <td>4.78</td>\n",
              "      <td>0439682584</td>\n",
              "      <td>eng</td>\n",
              "      <td>2690</td>\n",
              "      <td>41428</td>\n",
              "      <td>164</td>\n",
              "      <td>9/13/2004</td>\n",
              "      <td>Scholastic</td>\n",
              "      <td>2004</td>\n",
              "    </tr>\n",
              "  </tbody>\n",
              "</table>\n",
              "</div>\n",
              "      <button class=\"colab-df-convert\" onclick=\"convertToInteractive('df-35f4a36c-2238-459c-802b-f0d2a70c5206')\"\n",
              "              title=\"Convert this dataframe to an interactive table.\"\n",
              "              style=\"display:none;\">\n",
              "        \n",
              "  <svg xmlns=\"http://www.w3.org/2000/svg\" height=\"24px\"viewBox=\"0 0 24 24\"\n",
              "       width=\"24px\">\n",
              "    <path d=\"M0 0h24v24H0V0z\" fill=\"none\"/>\n",
              "    <path d=\"M18.56 5.44l.94 2.06.94-2.06 2.06-.94-2.06-.94-.94-2.06-.94 2.06-2.06.94zm-11 1L8.5 8.5l.94-2.06 2.06-.94-2.06-.94L8.5 2.5l-.94 2.06-2.06.94zm10 10l.94 2.06.94-2.06 2.06-.94-2.06-.94-.94-2.06-.94 2.06-2.06.94z\"/><path d=\"M17.41 7.96l-1.37-1.37c-.4-.4-.92-.59-1.43-.59-.52 0-1.04.2-1.43.59L10.3 9.45l-7.72 7.72c-.78.78-.78 2.05 0 2.83L4 21.41c.39.39.9.59 1.41.59.51 0 1.02-.2 1.41-.59l7.78-7.78 2.81-2.81c.8-.78.8-2.07 0-2.86zM5.41 20L4 18.59l7.72-7.72 1.47 1.35L5.41 20z\"/>\n",
              "  </svg>\n",
              "      </button>\n",
              "      \n",
              "  <style>\n",
              "    .colab-df-container {\n",
              "      display:flex;\n",
              "      flex-wrap:wrap;\n",
              "      gap: 12px;\n",
              "    }\n",
              "\n",
              "    .colab-df-convert {\n",
              "      background-color: #E8F0FE;\n",
              "      border: none;\n",
              "      border-radius: 50%;\n",
              "      cursor: pointer;\n",
              "      display: none;\n",
              "      fill: #1967D2;\n",
              "      height: 32px;\n",
              "      padding: 0 0 0 0;\n",
              "      width: 32px;\n",
              "    }\n",
              "\n",
              "    .colab-df-convert:hover {\n",
              "      background-color: #E2EBFA;\n",
              "      box-shadow: 0px 1px 2px rgba(60, 64, 67, 0.3), 0px 1px 3px 1px rgba(60, 64, 67, 0.15);\n",
              "      fill: #174EA6;\n",
              "    }\n",
              "\n",
              "    [theme=dark] .colab-df-convert {\n",
              "      background-color: #3B4455;\n",
              "      fill: #D2E3FC;\n",
              "    }\n",
              "\n",
              "    [theme=dark] .colab-df-convert:hover {\n",
              "      background-color: #434B5C;\n",
              "      box-shadow: 0px 1px 3px 1px rgba(0, 0, 0, 0.15);\n",
              "      filter: drop-shadow(0px 1px 2px rgba(0, 0, 0, 0.3));\n",
              "      fill: #FFFFFF;\n",
              "    }\n",
              "  </style>\n",
              "\n",
              "      <script>\n",
              "        const buttonEl =\n",
              "          document.querySelector('#df-35f4a36c-2238-459c-802b-f0d2a70c5206 button.colab-df-convert');\n",
              "        buttonEl.style.display =\n",
              "          google.colab.kernel.accessAllowed ? 'block' : 'none';\n",
              "\n",
              "        async function convertToInteractive(key) {\n",
              "          const element = document.querySelector('#df-35f4a36c-2238-459c-802b-f0d2a70c5206');\n",
              "          const dataTable =\n",
              "            await google.colab.kernel.invokeFunction('convertToInteractive',\n",
              "                                                     [key], {});\n",
              "          if (!dataTable) return;\n",
              "\n",
              "          const docLinkHtml = 'Like what you see? Visit the ' +\n",
              "            '<a target=\"_blank\" href=https://colab.research.google.com/notebooks/data_table.ipynb>data table notebook</a>'\n",
              "            + ' to learn more about interactive tables.';\n",
              "          element.innerHTML = '';\n",
              "          dataTable['output_type'] = 'display_data';\n",
              "          await google.colab.output.renderOutput(dataTable, element);\n",
              "          const docLink = document.createElement('div');\n",
              "          docLink.innerHTML = docLinkHtml;\n",
              "          element.appendChild(docLink);\n",
              "        }\n",
              "      </script>\n",
              "    </div>\n",
              "  </div>\n",
              "  "
            ]
          },
          "metadata": {},
          "execution_count": 7
        }
      ]
    },
    {
      "cell_type": "code",
      "source": [
        "book_new.isna().sum()"
      ],
      "metadata": {
        "colab": {
          "base_uri": "https://localhost:8080/"
        },
        "id": "bCvNrYlcwW0k",
        "outputId": "0f516e72-35dc-454e-abf7-558cb9ab3022"
      },
      "execution_count": 8,
      "outputs": [
        {
          "output_type": "execute_result",
          "data": {
            "text/plain": [
              "bookID                0\n",
              "title                 0\n",
              "authors               0\n",
              "average_rating        0\n",
              "isbn                  0\n",
              "language_code         0\n",
              "  num_pages           0\n",
              "ratings_count         0\n",
              "text_reviews_count    0\n",
              "publication_date      0\n",
              "publisher             0\n",
              "publication_year      0\n",
              "dtype: int64"
            ]
          },
          "metadata": {},
          "execution_count": 8
        }
      ]
    },
    {
      "cell_type": "code",
      "source": [
        "book_new.drop_duplicates(keep='last', inplace=True) \n",
        "book_new.reset_index(drop = True, inplace = True)"
      ],
      "metadata": {
        "id": "n0dPJA2SU7b7"
      },
      "execution_count": 9,
      "outputs": []
    },
    {
      "cell_type": "code",
      "source": [
        "book_new.shape"
      ],
      "metadata": {
        "colab": {
          "base_uri": "https://localhost:8080/"
        },
        "id": "Ndz5vdsgzOL5",
        "outputId": "63f7dbaf-3d4b-4025-e77e-85aeac9e1d13"
      },
      "execution_count": 10,
      "outputs": [
        {
          "output_type": "execute_result",
          "data": {
            "text/plain": [
              "(11123, 12)"
            ]
          },
          "metadata": {},
          "execution_count": 10
        }
      ]
    },
    {
      "cell_type": "markdown",
      "source": [
        "**DATA VISULIAZATION**"
      ],
      "metadata": {
        "id": "U7rcuYDZzxMr"
      }
    },
    {
      "cell_type": "code",
      "source": [
        "plt.figure(figsize=(15,7))\n",
        "sns.countplot(y = \"authors\", data= book_new, order=book_new['authors'].value_counts().index[0:15])\n",
        "plt.title(\"No. of Books by an author (top 15)\")"
      ],
      "metadata": {
        "colab": {
          "base_uri": "https://localhost:8080/",
          "height": 659
        },
        "id": "ZW-fz6ijzaxx",
        "outputId": "2cae6355-7e60-4c64-df6d-d0d1b97bd0ec"
      },
      "execution_count": 11,
      "outputs": [
        {
          "output_type": "execute_result",
          "data": {
            "text/plain": [
              "Text(0.5, 1.0, 'No. of Books by an author (top 15)')"
            ]
          },
          "metadata": {},
          "execution_count": 11
        },
        {
          "output_type": "display_data",
          "data": {
            "text/plain": [
              "<Figure size 1500x700 with 1 Axes>"
            ],
            "image/png": "[encoded data removed]"
          },
          "metadata": {}
        }
      ]
    },
    {
      "cell_type": "code",
      "source": [
        "plt.figure(figsize=(15,7))\n",
        "sns.countplot(y = \"publisher\", data= book_new, order=book_new['publisher'].value_counts().index[0:15])\n",
        "plt.title(\"No. of Books by an publisher (top 15)\")"
      ],
      "metadata": {
        "colab": {
          "base_uri": "https://localhost:8080/",
          "height": 659
        },
        "id": "8jF3gXx_0FLJ",
        "outputId": "38631072-456d-47d8-ab31-e58227925068"
      },
      "execution_count": 12,
      "outputs": [
        {
          "output_type": "execute_result",
          "data": {
            "text/plain": [
              "Text(0.5, 1.0, 'No. of Books by an publisher (top 15)')"
            ]
          },
          "metadata": {},
          "execution_count": 12
        },
        {
          "output_type": "display_data",
          "data": {
            "text/plain": [
              "<Figure size 1500x700 with 1 Axes>"
            ],
            "image/png": "[encoded data removed]"
          },
          "metadata": {}
        }
      ]
    },
    {
      "cell_type": "code",
      "source": [
        "plt.figure(figsize=(15,7))\n",
        "sns.countplot(y = \"title\", data= book_new, order=book_new['title'].value_counts().index[0:15])\n",
        "plt.title(\"No. of Books by an book title (top 15)\")"
      ],
      "metadata": {
        "colab": {
          "base_uri": "https://localhost:8080/",
          "height": 659
        },
        "id": "TFKehrSL0dLq",
        "outputId": "2827ba0e-ac8f-4afb-e1e6-3faaa9070cd3"
      },
      "execution_count": 13,
      "outputs": [
        {
          "output_type": "execute_result",
          "data": {
            "text/plain": [
              "Text(0.5, 1.0, 'No. of Books by an book title (top 15)')"
            ]
          },
          "metadata": {},
          "execution_count": 13
        },
        {
          "output_type": "display_data",
          "data": {
            "text/plain": [
              "<Figure size 1500x700 with 1 Axes>"
            ],
            "image/png": "[encoded data removed]"
          },
          "metadata": {}
        }
      ]
    },
    {
      "cell_type": "code",
      "source": [
        "plt.figure(figsize=(15,7))\n",
        "sns.countplot(y = \"language_code\", data= book_new, order=book_new['language_code'].value_counts().index[0:7])\n",
        "plt.title(\"No. of Books by an book language  (top 7)\")"
      ],
      "metadata": {
        "colab": {
          "base_uri": "https://localhost:8080/",
          "height": 659
        },
        "id": "Xi94_uWU1nkZ",
        "outputId": "6a0da80d-554f-4548-e865-53f5a90e80d9"
      },
      "execution_count": 14,
      "outputs": [
        {
          "output_type": "execute_result",
          "data": {
            "text/plain": [
              "Text(0.5, 1.0, 'No. of Books by an book language  (top 7)')"
            ]
          },
          "metadata": {},
          "execution_count": 14
        },
        {
          "output_type": "display_data",
          "data": {
            "text/plain": [
              "<Figure size 1500x700 with 1 Axes>"
            ],
            "image/png": "[encoded data removed]"
          },
          "metadata": {}
        }
      ]
    },
    {
      "cell_type": "code",
      "source": [
        "plt.figure(figsize=(15,7))\n",
        "dt = book_new[book_new['average_rating'] != 0]\n",
        "sns.countplot(x = 'average_rating', data = dt)\n",
        "plt.title(\"Explicit Ratings\")"
      ],
      "metadata": {
        "colab": {
          "base_uri": "https://localhost:8080/",
          "height": 659
        },
        "id": "U_AKtO_n1SI5",
        "outputId": "cb17ce46-970e-4ab8-f9b3-7acb3a43b8d4"
      },
      "execution_count": 15,
      "outputs": [
        {
          "output_type": "execute_result",
          "data": {
            "text/plain": [
              "Text(0.5, 1.0, 'Explicit Ratings')"
            ]
          },
          "metadata": {},
          "execution_count": 15
        },
        {
          "output_type": "display_data",
          "data": {
            "text/plain": [
              "<Figure size 1500x700 with 1 Axes>"
            ],
            "image/png": "[encoded data removed]"
          },
          "metadata": {}
        }
      ]
    },
    {
      "cell_type": "markdown",
      "source": [
        "# **Recommendation Model**"
      ],
      "metadata": {
        "id": "CZJiHuW02Ely"
      }
    },
    {
      "cell_type": "code",
      "source": [
        "bookName = input(\"Enter a book name: \")\n",
        "number = int(input(\"Enter number of books to recommend: \"))\n",
        "\n",
        "#Quiet Days in Clichy\n",
        "#Dune Messiah (Dune Chronicles #2)"
      ],
      "metadata": {
        "colab": {
          "base_uri": "https://localhost:8080/"
        },
        "id": "O-gh-xbd2LB1",
        "outputId": "40df8488-2500-4c60-9abf-25428179a904"
      },
      "execution_count": 20,
      "outputs": [
        {
          "name": "stdout",
          "output_type": "stream",
          "text": [
            "Enter a book name: A Short History of Nearly Everything\n",
            "Enter number of books to recommend: 7\n"
          ]
        }
      ]
    },
    {
      "cell_type": "markdown",
      "source": [
        "**Books by same Author**"
      ],
      "metadata": {
        "id": "3DX9eOZ_2453"
      }
    },
    {
      "cell_type": "code",
      "source": [
        "def printBook(k, n):\n",
        "    z = k['title'].unique()\n",
        "    for x in range(len(z)):\n",
        "        print(z[x])\n",
        "        if x >= n-1:\n",
        "            break"
      ],
      "metadata": {
        "id": "QaziBQf521Fw"
      },
      "execution_count": 21,
      "outputs": []
    },
    {
      "cell_type": "code",
      "source": [
        "def get_books1(dataframe, name, n):\n",
        "    print(\"\\nBooks by same Author:\\n\")\n",
        "    au = dataframe['authors'].unique()\n",
        "\n",
        "    data = book_new[book_new['title'] != name]\n",
        "\n",
        "    if au[0] in list(data['authors'].unique()):\n",
        "        k2 = data[data['authors'] == au[0]]\n",
        "    k2 = k2.sort_values(by=['average_rating'])\n",
        "    printBook(k2, n)"
      ],
      "metadata": {
        "id": "ZtMoXZu22_3y"
      },
      "execution_count": 22,
      "outputs": []
    },
    {
      "cell_type": "code",
      "source": [
        "if bookName in list(book_new['title'].unique()):\n",
        "    d = book_new[book_new['title'] == bookName]\n",
        "    get_books1(d, bookName, number)\n",
        "else:\n",
        "    print(\"Invalid Book Name!!\")"
      ],
      "metadata": {
        "colab": {
          "base_uri": "https://localhost:8080/"
        },
        "id": "8jrGjt1z3Y3B",
        "outputId": "3edf1683-c72a-4aea-9744-50298e44325a"
      },
      "execution_count": 23,
      "outputs": [
        {
          "output_type": "stream",
          "name": "stdout",
          "text": [
            "\n",
            "Books by same Author:\n",
            "\n",
            "Bill Bryson's African Diary\n",
            "Journeys in English\n",
            "The Lost Continent: Travels in Small Town America\n",
            "The Lost Continent:  Travels in Small-town America\n",
            "Neither Here nor There: Travels in Europe\n",
            "Bryson's Dictionary of Troublesome Words: A Writer's Guide to Getting It Right\n",
            "I'm a Stranger Here Myself: Notes on Returning to America After Twenty Years Away\n"
          ]
        }
      ]
    },
    {
      "cell_type": "markdown",
      "source": [
        "**Books by same publisher**"
      ],
      "metadata": {
        "id": "qBfwxAnD3pgx"
      }
    },
    {
      "cell_type": "code",
      "source": [
        "def get_books2(dataframe, name, n):\n",
        "    print(\"\\nBooks by same Publisher:\\n\")\n",
        "    au = dataframe['publisher'].unique()\n",
        "\n",
        "    data = book_new[book_new['title'] != name]\n",
        "\n",
        "    if au[0] in list(data['publisher'].unique()):\n",
        "        k2 = data[data['publisher'] == au[0]]\n",
        "    k2 = k2.sort_values(by=['average_rating'])\n",
        "    printBook(k2, n)"
      ],
      "metadata": {
        "id": "cmK_BrKM3oNR"
      },
      "execution_count": 24,
      "outputs": []
    },
    {
      "cell_type": "code",
      "source": [
        "if bookName in list(book_new['title'].unique()):\n",
        "    d = book_new[book_new['title'] == bookName]\n",
        "    get_books2(d, bookName, number)\n",
        "else:\n",
        "    print(\"Invalid Book Name!!\")"
      ],
      "metadata": {
        "colab": {
          "base_uri": "https://localhost:8080/"
        },
        "id": "gxwjfxNk35sh",
        "outputId": "3289d557-e0d3-4ada-b007-4bae1be2a751"
      },
      "execution_count": 25,
      "outputs": [
        {
          "output_type": "stream",
          "name": "stdout",
          "text": [
            "\n",
            "Books by same Publisher:\n",
            "\n",
            "The Alchemist's Daughter\n",
            "Northern Lights\n",
            "Love @ First Site\n",
            "Bill Bryson's African Diary\n",
            "Thumbsucker\n",
            "Mr. Maybe\n",
            "Holy Cow: An Indian Adventure\n"
          ]
        }
      ]
    },
    {
      "cell_type": "markdown",
      "source": [
        "**Popularity based**"
      ],
      "metadata": {
        "id": "mMcZ6KL14U4I"
      }
    },
    {
      "cell_type": "code",
      "source": [
        "def popularity_based(dataframe, n):\n",
        "    if n >= 1 and n <= len(dataframe):\n",
        "        data = pd.DataFrame(dataframe.groupby('isbn')['average_rating'].count()).sort_values('average_rating', ascending=False).head(n)\n",
        "        result = pd.merge(data, book_new, on='isbn')\n",
        "        return result\n",
        "    return \"Invalid number of books entered!!\""
      ],
      "metadata": {
        "id": "gxPsrrpJ57DI"
      },
      "execution_count": 26,
      "outputs": []
    },
    {
      "cell_type": "code",
      "source": [
        "print(\"Top\", number, \"Popular books are: \")\n",
        "popularity_based(book_new, number)"
      ],
      "metadata": {
        "colab": {
          "base_uri": "https://localhost:8080/",
          "height": 539
        },
        "id": "G1A2s8oh6PcQ",
        "outputId": "a38503af-f72e-46db-93c9-63671e973477"
      },
      "execution_count": 27,
      "outputs": [
        {
          "output_type": "stream",
          "name": "stdout",
          "text": [
            "Top 7 Popular books are: \n"
          ]
        },
        {
          "output_type": "execute_result",
          "data": {
            "text/plain": [
              "         isbn  average_rating_x  bookID  \\\n",
              "0  000100039X                 1    2547   \n",
              "1  0786282827                 1   19456   \n",
              "2  0786179953                 1   29359   \n",
              "3  0786180307                 1    3574   \n",
              "4  0786180404                 1   17241   \n",
              "5  0786198389                 1   17344   \n",
              "6  0786222727                 1   34318   \n",
              "\n",
              "                                               title  \\\n",
              "0                                        The Prophet   \n",
              "1               Ready or Not (All-American Girl  #2)   \n",
              "2  Charlie Wilson's War: The Extraordinary Story ...   \n",
              "3                                    Anne of Avonlea   \n",
              "4                                            Dracula   \n",
              "5                  Till We Have Faces: A Myth Retold   \n",
              "6  Harry Potter and the Sorcerer's Stone (Harry P...   \n",
              "\n",
              "                                   authors  average_rating_y language_code  \\\n",
              "0  Kahlil Gibran/جبران خليل جبران/Jihad El              4.23           eng   \n",
              "1                                Meg Cabot              3.40         en-US   \n",
              "2            George Crile/Christopher Lane              4.01         en-US   \n",
              "3           L.M. Montgomery/Susan O'Malley              4.23           eng   \n",
              "4             Bram Stoker/Robert Whitfield              3.99           eng   \n",
              "5                     C.S. Lewis/Nadia May              4.19           eng   \n",
              "6               J.K. Rowling/Mary GrandPré              4.47           eng   \n",
              "\n",
              "     num_pages  ratings_count  text_reviews_count publication_date  \\\n",
              "0          127         184293                5418         1/1/2010   \n",
              "1          238             86                   8        4/12/2006   \n",
              "2           10             24                   7        10/1/2005   \n",
              "3            8             63                   8        12/1/1998   \n",
              "4           15             53                  12        12/1/1998   \n",
              "5            9             60                  17         9/1/2000   \n",
              "6          424            147                  13       11/12/1999   \n",
              "\n",
              "                     publisher publication_year  \n",
              "0                    Rupa & Co             2010  \n",
              "1              Thorndike Press             2006  \n",
              "2        Blackstone Audiobooks             2005  \n",
              "3        Blackstone Audiobooks             1998  \n",
              "4        Blackstone Audiobooks             1998  \n",
              "5        Blackstone Publishing             2000  \n",
              "6  Thorndike Press Large Print             1999  "
            ],
            "text/html": [
              "\n",
              "  <div id=\"df-bc55f5b4-3933-47c7-aa44-8fd41ad3d8b6\">\n",
              "    <div class=\"colab-df-container\">\n",
              "      <div>\n",
              "<style scoped>\n",
              "    .dataframe tbody tr th:only-of-type {\n",
              "        vertical-align: middle;\n",
              "    }\n",
              "\n",
              "    .dataframe tbody tr th {\n",
              "        vertical-align: top;\n",
              "    }\n",
              "\n",
              "    .dataframe thead th {\n",
              "        text-align: right;\n",
              "    }\n",
              "</style>\n",
              "<table border=\"1\" class=\"dataframe\">\n",
              "  <thead>\n",
              "    <tr style=\"text-align: right;\">\n",
              "      <th></th>\n",
              "      <th>isbn</th>\n",
              "      <th>average_rating_x</th>\n",
              "      <th>bookID</th>\n",
              "      <th>title</th>\n",
              "      <th>authors</th>\n",
              "      <th>average_rating_y</th>\n",
              "      <th>language_code</th>\n",
              "      <th>num_pages</th>\n",
              "      <th>ratings_count</th>\n",
              "      <th>text_reviews_count</th>\n",
              "      <th>publication_date</th>\n",
              "      <th>publisher</th>\n",
              "      <th>publication_year</th>\n",
              "    </tr>\n",
              "  </thead>\n",
              "  <tbody>\n",
              "    <tr>\n",
              "      <th>0</th>\n",
              "      <td>000100039X</td>\n",
              "      <td>1</td>\n",
              "      <td>2547</td>\n",
              "      <td>The Prophet</td>\n",
              "      <td>Kahlil Gibran/جبران خليل جبران/Jihad El</td>\n",
              "      <td>4.23</td>\n",
              "      <td>eng</td>\n",
              "      <td>127</td>\n",
              "      <td>184293</td>\n",
              "      <td>5418</td>\n",
              "      <td>1/1/2010</td>\n",
              "      <td>Rupa &amp; Co</td>\n",
              "      <td>2010</td>\n",
              "    </tr>\n",
              "    <tr>\n",
              "      <th>1</th>\n",
              "      <td>0786282827</td>\n",
              "      <td>1</td>\n",
              "      <td>19456</td>\n",
              "      <td>Ready or Not (All-American Girl  #2)</td>\n",
              "      <td>Meg Cabot</td>\n",
              "      <td>3.40</td>\n",
              "      <td>en-US</td>\n",
              "      <td>238</td>\n",
              "      <td>86</td>\n",
              "      <td>8</td>\n",
              "      <td>4/12/2006</td>\n",
              "      <td>Thorndike Press</td>\n",
              "      <td>2006</td>\n",
              "    </tr>\n",
              "    <tr>\n",
              "      <th>2</th>\n",
              "      <td>0786179953</td>\n",
              "      <td>1</td>\n",
              "      <td>29359</td>\n",
              "      <td>Charlie Wilson's War: The Extraordinary Story ...</td>\n",
              "      <td>George Crile/Christopher Lane</td>\n",
              "      <td>4.01</td>\n",
              "      <td>en-US</td>\n",
              "      <td>10</td>\n",
              "      <td>24</td>\n",
              "      <td>7</td>\n",
              "      <td>10/1/2005</td>\n",
              "      <td>Blackstone Audiobooks</td>\n",
              "      <td>2005</td>\n",
              "    </tr>\n",
              "    <tr>\n",
              "      <th>3</th>\n",
              "      <td>0786180307</td>\n",
              "      <td>1</td>\n",
              "      <td>3574</td>\n",
              "      <td>Anne of Avonlea</td>\n",
              "      <td>L.M. Montgomery/Susan O'Malley</td>\n",
              "      <td>4.23</td>\n",
              "      <td>eng</td>\n",
              "      <td>8</td>\n",
              "      <td>63</td>\n",
              "      <td>8</td>\n",
              "      <td>12/1/1998</td>\n",
              "      <td>Blackstone Audiobooks</td>\n",
              "      <td>1998</td>\n",
              "    </tr>\n",
              "    <tr>\n",
              "      <th>4</th>\n",
              "      <td>0786180404</td>\n",
              "      <td>1</td>\n",
              "      <td>17241</td>\n",
              "      <td>Dracula</td>\n",
              "      <td>Bram Stoker/Robert Whitfield</td>\n",
              "      <td>3.99</td>\n",
              "      <td>eng</td>\n",
              "      <td>15</td>\n",
              "      <td>53</td>\n",
              "      <td>12</td>\n",
              "      <td>12/1/1998</td>\n",
              "      <td>Blackstone Audiobooks</td>\n",
              "      <td>1998</td>\n",
              "    </tr>\n",
              "    <tr>\n",
              "      <th>5</th>\n",
              "      <td>0786198389</td>\n",
              "      <td>1</td>\n",
              "      <td>17344</td>\n",
              "      <td>Till We Have Faces: A Myth Retold</td>\n",
              "      <td>C.S. Lewis/Nadia May</td>\n",
              "      <td>4.19</td>\n",
              "      <td>eng</td>\n",
              "      <td>9</td>\n",
              "      <td>60</td>\n",
              "      <td>17</td>\n",
              "      <td>9/1/2000</td>\n",
              "      <td>Blackstone Publishing</td>\n",
              "      <td>2000</td>\n",
              "    </tr>\n",
              "    <tr>\n",
              "      <th>6</th>\n",
              "      <td>0786222727</td>\n",
              "      <td>1</td>\n",
              "      <td>34318</td>\n",
              "      <td>Harry Potter and the Sorcerer's Stone (Harry P...</td>\n",
              "      <td>J.K. Rowling/Mary GrandPré</td>\n",
              "      <td>4.47</td>\n",
              "      <td>eng</td>\n",
              "      <td>424</td>\n",
              "      <td>147</td>\n",
              "      <td>13</td>\n",
              "      <td>11/12/1999</td>\n",
              "      <td>Thorndike Press Large Print</td>\n",
              "      <td>1999</td>\n",
              "    </tr>\n",
              "  </tbody>\n",
              "</table>\n",
              "</div>\n",
              "      <button class=\"colab-df-convert\" onclick=\"convertToInteractive('df-bc55f5b4-3933-47c7-aa44-8fd41ad3d8b6')\"\n",
              "              title=\"Convert this dataframe to an interactive table.\"\n",
              "              style=\"display:none;\">\n",
              "        \n",
              "  <svg xmlns=\"http://www.w3.org/2000/svg\" height=\"24px\"viewBox=\"0 0 24 24\"\n",
              "       width=\"24px\">\n",
              "    <path d=\"M0 0h24v24H0V0z\" fill=\"none\"/>\n",
              "    <path d=\"M18.56 5.44l.94 2.06.94-2.06 2.06-.94-2.06-.94-.94-2.06-.94 2.06-2.06.94zm-11 1L8.5 8.5l.94-2.06 2.06-.94-2.06-.94L8.5 2.5l-.94 2.06-2.06.94zm10 10l.94 2.06.94-2.06 2.06-.94-2.06-.94-.94-2.06-.94 2.06-2.06.94z\"/><path d=\"M17.41 7.96l-1.37-1.37c-.4-.4-.92-.59-1.43-.59-.52 0-1.04.2-1.43.59L10.3 9.45l-7.72 7.72c-.78.78-.78 2.05 0 2.83L4 21.41c.39.39.9.59 1.41.59.51 0 1.02-.2 1.41-.59l7.78-7.78 2.81-2.81c.8-.78.8-2.07 0-2.86zM5.41 20L4 18.59l7.72-7.72 1.47 1.35L5.41 20z\"/>\n",
              "  </svg>\n",
              "      </button>\n",
              "      \n",
              "  <style>\n",
              "    .colab-df-container {\n",
              "      display:flex;\n",
              "      flex-wrap:wrap;\n",
              "      gap: 12px;\n",
              "    }\n",
              "\n",
              "    .colab-df-convert {\n",
              "      background-color: #E8F0FE;\n",
              "      border: none;\n",
              "      border-radius: 50%;\n",
              "      cursor: pointer;\n",
              "      display: none;\n",
              "      fill: #1967D2;\n",
              "      height: 32px;\n",
              "      padding: 0 0 0 0;\n",
              "      width: 32px;\n",
              "    }\n",
              "\n",
              "    .colab-df-convert:hover {\n",
              "      background-color: #E2EBFA;\n",
              "      box-shadow: 0px 1px 2px rgba(60, 64, 67, 0.3), 0px 1px 3px 1px rgba(60, 64, 67, 0.15);\n",
              "      fill: #174EA6;\n",
              "    }\n",
              "\n",
              "    [theme=dark] .colab-df-convert {\n",
              "      background-color: #3B4455;\n",
              "      fill: #D2E3FC;\n",
              "    }\n",
              "\n",
              "    [theme=dark] .colab-df-convert:hover {\n",
              "      background-color: #434B5C;\n",
              "      box-shadow: 0px 1px 3px 1px rgba(0, 0, 0, 0.15);\n",
              "      filter: drop-shadow(0px 1px 2px rgba(0, 0, 0, 0.3));\n",
              "      fill: #FFFFFF;\n",
              "    }\n",
              "  </style>\n",
              "\n",
              "      <script>\n",
              "        const buttonEl =\n",
              "          document.querySelector('#df-bc55f5b4-3933-47c7-aa44-8fd41ad3d8b6 button.colab-df-convert');\n",
              "        buttonEl.style.display =\n",
              "          google.colab.kernel.accessAllowed ? 'block' : 'none';\n",
              "\n",
              "        async function convertToInteractive(key) {\n",
              "          const element = document.querySelector('#df-bc55f5b4-3933-47c7-aa44-8fd41ad3d8b6');\n",
              "          const dataTable =\n",
              "            await google.colab.kernel.invokeFunction('convertToInteractive',\n",
              "                                                     [key], {});\n",
              "          if (!dataTable) return;\n",
              "\n",
              "          const docLinkHtml = 'Like what you see? Visit the ' +\n",
              "            '<a target=\"_blank\" href=https://colab.research.google.com/notebooks/data_table.ipynb>data table notebook</a>'\n",
              "            + ' to learn more about interactive tables.';\n",
              "          element.innerHTML = '';\n",
              "          dataTable['output_type'] = 'display_data';\n",
              "          await google.colab.output.renderOutput(dataTable, element);\n",
              "          const docLink = document.createElement('div');\n",
              "          docLink.innerHTML = docLinkHtml;\n",
              "          element.appendChild(docLink);\n",
              "        }\n",
              "      </script>\n",
              "    </div>\n",
              "  </div>\n",
              "  "
            ]
          },
          "metadata": {},
          "execution_count": 27
        }
      ]
    },
    {
      "cell_type": "markdown",
      "source": [
        "**Books based on their popularity in certain language**"
      ],
      "metadata": {
        "id": "3etM2BGD7zTG"
      }
    },
    {
      "cell_type": "code",
      "source": [
        "def search_unique_places(dataframe, lang):\n",
        "    lang = lang.lower()\n",
        "\n",
        "    if lang in list(dataframe['language_code'].unique()):\n",
        "        return dataframe[dataframe['language_code'] == lang]\n",
        "    else:\n",
        "        return \"Invalid Entry\""
      ],
      "metadata": {
        "id": "xaGWkwFa7l5Q"
      },
      "execution_count": 28,
      "outputs": []
    },
    {
      "cell_type": "code",
      "source": [
        "book_new['language_code'].unique()"
      ],
      "metadata": {
        "colab": {
          "base_uri": "https://localhost:8080/"
        },
        "id": "vfEVkFps9VLv",
        "outputId": "2fdc0b45-b417-4af5-9d76-be584dc55b12"
      },
      "execution_count": 29,
      "outputs": [
        {
          "output_type": "execute_result",
          "data": {
            "text/plain": [
              "array(['eng', 'en-US', 'fre', 'spa', 'en-GB', 'mul', 'grc', 'enm',\n",
              "       'en-CA', 'ger', 'jpn', 'ara', 'nl', 'zho', 'lat', 'por', 'srp',\n",
              "       'ita', 'rus', 'msa', 'glg', 'wel', 'swe', 'nor', 'tur', 'gla',\n",
              "       'ale'], dtype=object)"
            ]
          },
          "metadata": {},
          "execution_count": 29
        }
      ]
    },
    {
      "cell_type": "code",
      "source": [
        "lang = input(\"Enter the name of language code: \")\n",
        "data = search_unique_places(book_new, lang)\n",
        "if isinstance(data, pd.DataFrame):\n",
        "    data = popularity_based(data, number)\n",
        "\n",
        "data"
      ],
      "metadata": {
        "colab": {
          "base_uri": "https://localhost:8080/",
          "height": 418
        },
        "id": "K-5TjCHK83hc",
        "outputId": "e1b1dc15-1474-4f93-dded-4486adc28924"
      },
      "execution_count": 30,
      "outputs": [
        {
          "name": "stdout",
          "output_type": "stream",
          "text": [
            "Enter the name of language code: fre\n"
          ]
        },
        {
          "output_type": "execute_result",
          "data": {
            "text/plain": [
              "         isbn  average_rating_x  bookID                      title  \\\n",
              "0  0156013983                 1   28865            Le Petit Prince   \n",
              "1  0318634872                 1   41307                   La chute   \n",
              "2  2268031675                 1   41979     Nos rêves de Castelbay   \n",
              "3  2268041042                 1   11285  Vengeance (Joe Kurtz  #1)   \n",
              "4  2268042618                 1   25367               Disparitions   \n",
              "5  2268043185                 1   11518           L'Épée de Darwin   \n",
              "6  2290053651                 1    8704           Starship Titanic   \n",
              "\n",
              "                                authors  average_rating_y language_code  \\\n",
              "0              Antoine de Saint-Exupéry              4.31           fre   \n",
              "1                          Albert Camus              4.04           fre   \n",
              "2                          Maeve Binchy              3.80           fre   \n",
              "3                           Dan Simmons              3.68           fre   \n",
              "4                         Natsuo Kirino              3.81           fre   \n",
              "5                Dan Simmons/Guy Abadia              3.33           fre   \n",
              "6  Terry Jones/Marie-Catherine Caillava              3.60           fre   \n",
              "\n",
              "     num_pages  ratings_count  text_reviews_count publication_date  \\\n",
              "0           87           3045                 215         9/4/2001   \n",
              "1          152             87                   6        1/11/1999   \n",
              "2          434              1                   0        3/29/1999   \n",
              "3          243              1                   0       10/31/2001   \n",
              "4          453            104                   9        5/27/2002   \n",
              "5          436              3                   0       11/20/2002   \n",
              "6          189           8790                 152       11/30/2001   \n",
              "\n",
              "            publisher publication_year  \n",
              "0       Mariner Books             2001  \n",
              "1           Gallimard             1999  \n",
              "2  Editions du Rocher             1999  \n",
              "3  Editions du Rocher             2001  \n",
              "4            Bertrand             2002  \n",
              "5  Éditions du Rocher             2002  \n",
              "6             J'ai Lu             2001  "
            ],
            "text/html": [
              "\n",
              "  <div id=\"df-a2e39f98-d6dd-430f-9b9a-6733c33858a4\">\n",
              "    <div class=\"colab-df-container\">\n",
              "      <div>\n",
              "<style scoped>\n",
              "    .dataframe tbody tr th:only-of-type {\n",
              "        vertical-align: middle;\n",
              "    }\n",
              "\n",
              "    .dataframe tbody tr th {\n",
              "        vertical-align: top;\n",
              "    }\n",
              "\n",
              "    .dataframe thead th {\n",
              "        text-align: right;\n",
              "    }\n",
              "</style>\n",
              "<table border=\"1\" class=\"dataframe\">\n",
              "  <thead>\n",
              "    <tr style=\"text-align: right;\">\n",
              "      <th></th>\n",
              "      <th>isbn</th>\n",
              "      <th>average_rating_x</th>\n",
              "      <th>bookID</th>\n",
              "      <th>title</th>\n",
              "      <th>authors</th>\n",
              "      <th>average_rating_y</th>\n",
              "      <th>language_code</th>\n",
              "      <th>num_pages</th>\n",
              "      <th>ratings_count</th>\n",
              "      <th>text_reviews_count</th>\n",
              "      <th>publication_date</th>\n",
              "      <th>publisher</th>\n",
              "      <th>publication_year</th>\n",
              "    </tr>\n",
              "  </thead>\n",
              "  <tbody>\n",
              "    <tr>\n",
              "      <th>0</th>\n",
              "      <td>0156013983</td>\n",
              "      <td>1</td>\n",
              "      <td>28865</td>\n",
              "      <td>Le Petit Prince</td>\n",
              "      <td>Antoine de Saint-Exupéry</td>\n",
              "      <td>4.31</td>\n",
              "      <td>fre</td>\n",
              "      <td>87</td>\n",
              "      <td>3045</td>\n",
              "      <td>215</td>\n",
              "      <td>9/4/2001</td>\n",
              "      <td>Mariner Books</td>\n",
              "      <td>2001</td>\n",
              "    </tr>\n",
              "    <tr>\n",
              "      <th>1</th>\n",
              "      <td>0318634872</td>\n",
              "      <td>1</td>\n",
              "      <td>41307</td>\n",
              "      <td>La chute</td>\n",
              "      <td>Albert Camus</td>\n",
              "      <td>4.04</td>\n",
              "      <td>fre</td>\n",
              "      <td>152</td>\n",
              "      <td>87</td>\n",
              "      <td>6</td>\n",
              "      <td>1/11/1999</td>\n",
              "      <td>Gallimard</td>\n",
              "      <td>1999</td>\n",
              "    </tr>\n",
              "    <tr>\n",
              "      <th>2</th>\n",
              "      <td>2268031675</td>\n",
              "      <td>1</td>\n",
              "      <td>41979</td>\n",
              "      <td>Nos rêves de Castelbay</td>\n",
              "      <td>Maeve Binchy</td>\n",
              "      <td>3.80</td>\n",
              "      <td>fre</td>\n",
              "      <td>434</td>\n",
              "      <td>1</td>\n",
              "      <td>0</td>\n",
              "      <td>3/29/1999</td>\n",
              "      <td>Editions du Rocher</td>\n",
              "      <td>1999</td>\n",
              "    </tr>\n",
              "    <tr>\n",
              "      <th>3</th>\n",
              "      <td>2268041042</td>\n",
              "      <td>1</td>\n",
              "      <td>11285</td>\n",
              "      <td>Vengeance (Joe Kurtz  #1)</td>\n",
              "      <td>Dan Simmons</td>\n",
              "      <td>3.68</td>\n",
              "      <td>fre</td>\n",
              "      <td>243</td>\n",
              "      <td>1</td>\n",
              "      <td>0</td>\n",
              "      <td>10/31/2001</td>\n",
              "      <td>Editions du Rocher</td>\n",
              "      <td>2001</td>\n",
              "    </tr>\n",
              "    <tr>\n",
              "      <th>4</th>\n",
              "      <td>2268042618</td>\n",
              "      <td>1</td>\n",
              "      <td>25367</td>\n",
              "      <td>Disparitions</td>\n",
              "      <td>Natsuo Kirino</td>\n",
              "      <td>3.81</td>\n",
              "      <td>fre</td>\n",
              "      <td>453</td>\n",
              "      <td>104</td>\n",
              "      <td>9</td>\n",
              "      <td>5/27/2002</td>\n",
              "      <td>Bertrand</td>\n",
              "      <td>2002</td>\n",
              "    </tr>\n",
              "    <tr>\n",
              "      <th>5</th>\n",
              "      <td>2268043185</td>\n",
              "      <td>1</td>\n",
              "      <td>11518</td>\n",
              "      <td>L'Épée de Darwin</td>\n",
              "      <td>Dan Simmons/Guy Abadia</td>\n",
              "      <td>3.33</td>\n",
              "      <td>fre</td>\n",
              "      <td>436</td>\n",
              "      <td>3</td>\n",
              "      <td>0</td>\n",
              "      <td>11/20/2002</td>\n",
              "      <td>Éditions du Rocher</td>\n",
              "      <td>2002</td>\n",
              "    </tr>\n",
              "    <tr>\n",
              "      <th>6</th>\n",
              "      <td>2290053651</td>\n",
              "      <td>1</td>\n",
              "      <td>8704</td>\n",
              "      <td>Starship Titanic</td>\n",
              "      <td>Terry Jones/Marie-Catherine Caillava</td>\n",
              "      <td>3.60</td>\n",
              "      <td>fre</td>\n",
              "      <td>189</td>\n",
              "      <td>8790</td>\n",
              "      <td>152</td>\n",
              "      <td>11/30/2001</td>\n",
              "      <td>J'ai Lu</td>\n",
              "      <td>2001</td>\n",
              "    </tr>\n",
              "  </tbody>\n",
              "</table>\n",
              "</div>\n",
              "      <button class=\"colab-df-convert\" onclick=\"convertToInteractive('df-a2e39f98-d6dd-430f-9b9a-6733c33858a4')\"\n",
              "              title=\"Convert this dataframe to an interactive table.\"\n",
              "              style=\"display:none;\">\n",
              "        \n",
              "  <svg xmlns=\"http://www.w3.org/2000/svg\" height=\"24px\"viewBox=\"0 0 24 24\"\n",
              "       width=\"24px\">\n",
              "    <path d=\"M0 0h24v24H0V0z\" fill=\"none\"/>\n",
              "    <path d=\"M18.56 5.44l.94 2.06.94-2.06 2.06-.94-2.06-.94-.94-2.06-.94 2.06-2.06.94zm-11 1L8.5 8.5l.94-2.06 2.06-.94-2.06-.94L8.5 2.5l-.94 2.06-2.06.94zm10 10l.94 2.06.94-2.06 2.06-.94-2.06-.94-.94-2.06-.94 2.06-2.06.94z\"/><path d=\"M17.41 7.96l-1.37-1.37c-.4-.4-.92-.59-1.43-.59-.52 0-1.04.2-1.43.59L10.3 9.45l-7.72 7.72c-.78.78-.78 2.05 0 2.83L4 21.41c.39.39.9.59 1.41.59.51 0 1.02-.2 1.41-.59l7.78-7.78 2.81-2.81c.8-.78.8-2.07 0-2.86zM5.41 20L4 18.59l7.72-7.72 1.47 1.35L5.41 20z\"/>\n",
              "  </svg>\n",
              "      </button>\n",
              "      \n",
              "  <style>\n",
              "    .colab-df-container {\n",
              "      display:flex;\n",
              "      flex-wrap:wrap;\n",
              "      gap: 12px;\n",
              "    }\n",
              "\n",
              "    .colab-df-convert {\n",
              "      background-color: #E8F0FE;\n",
              "      border: none;\n",
              "      border-radius: 50%;\n",
              "      cursor: pointer;\n",
              "      display: none;\n",
              "      fill: #1967D2;\n",
              "      height: 32px;\n",
              "      padding: 0 0 0 0;\n",
              "      width: 32px;\n",
              "    }\n",
              "\n",
              "    .colab-df-convert:hover {\n",
              "      background-color: #E2EBFA;\n",
              "      box-shadow: 0px 1px 2px rgba(60, 64, 67, 0.3), 0px 1px 3px 1px rgba(60, 64, 67, 0.15);\n",
              "      fill: #174EA6;\n",
              "    }\n",
              "\n",
              "    [theme=dark] .colab-df-convert {\n",
              "      background-color: #3B4455;\n",
              "      fill: #D2E3FC;\n",
              "    }\n",
              "\n",
              "    [theme=dark] .colab-df-convert:hover {\n",
              "      background-color: #434B5C;\n",
              "      box-shadow: 0px 1px 3px 1px rgba(0, 0, 0, 0.15);\n",
              "      filter: drop-shadow(0px 1px 2px rgba(0, 0, 0, 0.3));\n",
              "      fill: #FFFFFF;\n",
              "    }\n",
              "  </style>\n",
              "\n",
              "      <script>\n",
              "        const buttonEl =\n",
              "          document.querySelector('#df-a2e39f98-d6dd-430f-9b9a-6733c33858a4 button.colab-df-convert');\n",
              "        buttonEl.style.display =\n",
              "          google.colab.kernel.accessAllowed ? 'block' : 'none';\n",
              "\n",
              "        async function convertToInteractive(key) {\n",
              "          const element = document.querySelector('#df-a2e39f98-d6dd-430f-9b9a-6733c33858a4');\n",
              "          const dataTable =\n",
              "            await google.colab.kernel.invokeFunction('convertToInteractive',\n",
              "                                                     [key], {});\n",
              "          if (!dataTable) return;\n",
              "\n",
              "          const docLinkHtml = 'Like what you see? Visit the ' +\n",
              "            '<a target=\"_blank\" href=https://colab.research.google.com/notebooks/data_table.ipynb>data table notebook</a>'\n",
              "            + ' to learn more about interactive tables.';\n",
              "          element.innerHTML = '';\n",
              "          dataTable['output_type'] = 'display_data';\n",
              "          await google.colab.output.renderOutput(dataTable, element);\n",
              "          const docLink = document.createElement('div');\n",
              "          docLink.innerHTML = docLinkHtml;\n",
              "          element.appendChild(docLink);\n",
              "        }\n",
              "      </script>\n",
              "    </div>\n",
              "  </div>\n",
              "  "
            ]
          },
          "metadata": {},
          "execution_count": 30
        }
      ]
    },
    {
      "cell_type": "code",
      "source": [
        "from sklearn.feature_extraction import DictVectorizer\n",
        "from sklearn.metrics.pairwise import cosine_similarity\n",
        "from sklearn.feature_extraction.text import TfidfVectorizer"
      ],
      "metadata": {
        "id": "hJEXFno-AVNG"
      },
      "execution_count": 31,
      "outputs": []
    },
    {
      "cell_type": "markdown",
      "source": [
        "**Collaborative Filtering (User-Item Filtering)**"
      ],
      "metadata": {
        "id": "iijFSBBn9p1G"
      }
    },
    {
      "cell_type": "code",
      "source": [
        "df = pd.DataFrame(book_new['title'].value_counts())\n",
        "\n",
        "df['title'] = df.index\n",
        "df.reset_index(level=0, inplace=True)\n",
        "df = df.drop('index',axis=1)\n",
        "\n",
        "df = book_new.merge(df, left_on = 'title', right_on = 'title', how = 'left')\n",
        "\n",
        "popularity_threshold = 4\n",
        "popular_book = df[df['average_rating'] >= popularity_threshold]\n",
        "popular_book = popular_book.reset_index(drop = True)"
      ],
      "metadata": {
        "id": "n5HUxHCy9c2m"
      },
      "execution_count": 32,
      "outputs": []
    },
    {
      "cell_type": "code",
      "source": [
        "testdf = pd.DataFrame()\n",
        "testdf['isbn'] = popular_book['isbn']\n",
        "testdf['average_rating'] = popular_book['average_rating']\n",
        "testdf['bookID'] = popular_book['bookID']\n",
        "testdf = testdf[['bookID','average_rating']].groupby(testdf['isbn'])"
      ],
      "metadata": {
        "id": "v7gPtwpz_qWF"
      },
      "execution_count": 33,
      "outputs": []
    },
    {
      "cell_type": "code",
      "source": [
        "listOfDictonaries=[]\n",
        "indexMap = {}\n",
        "reverseIndexMap = {}\n",
        "ptr=0\n",
        "\n",
        "for groupKey in testdf.groups.keys():\n",
        "    tempDict={}\n",
        "    groupDF = testdf.get_group(groupKey)\n",
        "    for i in range(0,len(groupDF)):\n",
        "        tempDict[groupDF.iloc[i,0]] = groupDF.iloc[i,1]\n",
        "    indexMap[ptr]=groupKey\n",
        "    reverseIndexMap[groupKey] = ptr\n",
        "    ptr=ptr+1\n",
        "    listOfDictonaries.append(tempDict)\n",
        "\n",
        "dictVectorizer = DictVectorizer(sparse=True)\n",
        "vector = dictVectorizer.fit_transform(listOfDictonaries)\n",
        "pairwiseSimilarity = cosine_similarity(vector)"
      ],
      "metadata": {
        "id": "1omEF7nTAM6M"
      },
      "execution_count": 34,
      "outputs": []
    },
    {
      "cell_type": "code",
      "source": [
        "def printBookDetails(ID):\n",
        "    print(book_new[book_new['isbn']==ID]['title'].values[0])\n",
        "\n",
        "def getTopRecommandations(ID):\n",
        "    collaborative = []\n",
        "    row = reverseIndexMap[ID]\n",
        "    print(\"Input Book:\")\n",
        "    printBookDetails(ID)\n",
        "    \n",
        "    print(\"\\nRECOMMENDATIONS:\\n\")\n",
        "    \n",
        "    mn = 0\n",
        "    similar = []\n",
        "    for i in np.argsort(pairwiseSimilarity[row])[:-2][::-1]:\n",
        "          if book_new[book_new['isbn']==indexMap[i]]['title'].values[0] not in similar:\n",
        "                if mn >= number:\n",
        "                      break\n",
        "                mn+=1\n",
        "                similar.append(book_new[book_new['isbn']==indexMap[i]]['title'].values[0])\n",
        "                printBookDetails(indexMap[i])\n",
        "                collaborative.append(book_new[book_new['isbn']==indexMap[i]]['title'].values[0])\n",
        "    return collaborative\n"
      ],
      "metadata": {
        "id": "thSHqoQJAfmW"
      },
      "execution_count": 35,
      "outputs": []
    },
    {
      "cell_type": "code",
      "source": [
        "bookName1 = input(\"Enter a book name: \")\n",
        "#Harry Potter and the Prisoner of Azkaban (Harry Potter  #3)\n",
        "#Coming Into the Country\n",
        "#Break In (Kit Fielding  #1)"
      ],
      "metadata": {
        "colab": {
          "base_uri": "https://localhost:8080/"
        },
        "id": "fDiEP0gtDE0e",
        "outputId": "756ad42b-1220-44f4-9fac-34db5da3aea1"
      },
      "execution_count": 40,
      "outputs": [
        {
          "name": "stdout",
          "output_type": "stream",
          "text": [
            "Enter a book name: Break In (Kit Fielding  #1)\n"
          ]
        }
      ]
    },
    {
      "cell_type": "code",
      "source": [
        "k = list(book_new['title'])\n",
        "m = list(book_new['isbn'])\n",
        "\n",
        "collaborative = getTopRecommandations(m[k.index(bookName1)])"
      ],
      "metadata": {
        "colab": {
          "base_uri": "https://localhost:8080/"
        },
        "id": "61oCmkRUCNNN",
        "outputId": "db36564d-594e-4d0b-8853-87c4a60be419"
      },
      "execution_count": 41,
      "outputs": [
        {
          "output_type": "stream",
          "name": "stdout",
          "text": [
            "Input Book:\n",
            "Break In (Kit Fielding  #1)\n",
            "\n",
            "RECOMMENDATIONS:\n",
            "\n",
            "Tales of a Fourth Grade Nothing (Fudge  #1)\n",
            "Fudge-a-Mania (Fudge  #4)\n",
            "For Kicks\n",
            "Goddess of Spring (Goddess Summoning  #2)\n",
            "Guilty Pleasures (Anita Blake  Vampire Hunter  #1)\n",
            "Odds Against (Sid Halley  #1)\n",
            "Death's Acre: Inside the Legendary Forensic Lab the Body Farm Where the Dead Do Tell Tales\n"
          ]
        }
      ]
    },
    {
      "cell_type": "markdown",
      "source": [
        "**Content Based**"
      ],
      "metadata": {
        "id": "oyfdJzEOHSIi"
      }
    },
    {
      "cell_type": "code",
      "source": [
        "popularity_threshold = 4\n",
        "popular_book = df[df['average_rating'] >= popularity_threshold]\n",
        "popular_book = popular_book.reset_index(drop = True)\n",
        "popular_book.shape"
      ],
      "metadata": {
        "colab": {
          "base_uri": "https://localhost:8080/"
        },
        "id": "jf1QLoGKHSaC",
        "outputId": "7c6cf867-11d4-4fd7-fa06-57fbc2db775a"
      },
      "execution_count": 42,
      "outputs": [
        {
          "output_type": "execute_result",
          "data": {
            "text/plain": [
              "(4954, 12)"
            ]
          },
          "metadata": {},
          "execution_count": 42
        }
      ]
    },
    {
      "cell_type": "code",
      "source": [
        "tf = TfidfVectorizer(ngram_range=(1, 2), min_df = 1, stop_words='english')\n",
        "tfidf_matrix = tf.fit_transform(popular_book['title'])\n",
        "tfidf_matrix.shape"
      ],
      "metadata": {
        "colab": {
          "base_uri": "https://localhost:8080/"
        },
        "id": "QYlhELzAH8r_",
        "outputId": "453af42e-0ba0-4ca5-e304-286f53100e5c"
      },
      "execution_count": 43,
      "outputs": [
        {
          "output_type": "execute_result",
          "data": {
            "text/plain": [
              "(4954, 19132)"
            ]
          },
          "metadata": {},
          "execution_count": 43
        }
      ]
    },
    {
      "cell_type": "code",
      "source": [
        "normalized_df = tfidf_matrix.astype(np.float32)\n",
        "cosine_similarities = cosine_similarity(normalized_df, normalized_df)\n",
        "cosine_similarities.shape"
      ],
      "metadata": {
        "colab": {
          "base_uri": "https://localhost:8080/"
        },
        "id": "2cKlTOfaH81J",
        "outputId": "08a4f574-69e1-4a55-a05e-c5fbba1c4d1d"
      },
      "execution_count": 44,
      "outputs": [
        {
          "output_type": "execute_result",
          "data": {
            "text/plain": [
              "(4954, 4954)"
            ]
          },
          "metadata": {},
          "execution_count": 44
        }
      ]
    },
    {
      "cell_type": "code",
      "source": [
        "print(\"Recommended Books:\\n\")\n",
        "isbn = book_new.loc[book_new['title'] == bookName1].reset_index(drop = True).iloc[0]['isbn']\n",
        "content = []\n",
        "\n",
        "idx = popular_book.index[popular_book['isbn'] == isbn].tolist()[0]\n",
        "similar_indices = cosine_similarities[idx].argsort()[::-1]\n",
        "similar_items = []\n",
        "for i in similar_indices:\n",
        "    if popular_book['title'][i] != bookName1 and popular_book['title'][i] not in similar_items and len(similar_items) < number :\n",
        "        similar_items.append(popular_book['title'][i])\n",
        "        content.append(popular_book['title'][i])\n",
        "\n",
        "for book in similar_items:\n",
        "    print(book)"
      ],
      "metadata": {
        "colab": {
          "base_uri": "https://localhost:8080/"
        },
        "id": "qqPz2wM0H5CI",
        "outputId": "715f5278-c481-49ff-992a-ac498b007af2"
      },
      "execution_count": 45,
      "outputs": [
        {
          "output_type": "stream",
          "name": "stdout",
          "text": [
            "Recommended Books:\n",
            "\n",
            "Bolt (Kit Fielding  #2)\n",
            "A Higher Justice (The Trials of Kit Shannon #5)\n",
            "It's Called a Breakup Because It's Broken: The Smart Girl's Break-Up Buddy\n",
            "The War of Art: Break Through the Blocks & Win Your Inner Creative Battles\n",
            "Sabriel (Abhorsen  #1)\n",
            "Many Luscious Lollipops: A Book About Adjectives\n",
            "Poetics of Music in the Form of Six Lessons\n"
          ]
        }
      ]
    },
    {
      "cell_type": "code",
      "source": [
        "number1 = int(input(\"Enter number of books to recommend: \"))"
      ],
      "metadata": {
        "id": "555iQ2W9Ku7y",
        "colab": {
          "base_uri": "https://localhost:8080/"
        },
        "outputId": "88444789-e6fe-4117-8039-4411e2d61dfd"
      },
      "execution_count": 49,
      "outputs": [
        {
          "name": "stdout",
          "output_type": "stream",
          "text": [
            "Enter number of books to recommend: 7\n"
          ]
        }
      ]
    },
    {
      "cell_type": "markdown",
      "source": [
        "**Hybrid Recommender**"
      ],
      "metadata": {
        "id": "1F5V0nICJbZ4"
      }
    },
    {
      "cell_type": "code",
      "source": [
        "from numpy import *\n",
        "import operator"
      ],
      "metadata": {
        "id": "FIrt8cTAJ6vg"
      },
      "execution_count": 47,
      "outputs": []
    },
    {
      "cell_type": "code",
      "source": [
        "z = list()\n",
        "num = 1/number1\n",
        "k = float(num)\n",
        "for x in range(number1 ):\n",
        "      z.append(1-k*x)\n",
        "\n",
        "dictISBN = {}\n",
        "for x in collaborative:\n",
        "      dictISBN[x] = z[collaborative.index(x)]\n",
        "\n",
        "for x in content:\n",
        "    if x not in dictISBN:\n",
        "        dictISBN[x] = z[content.index(x)]\n",
        "    else:\n",
        "        dictISBN[x] += z[content.index(x)]\n",
        "\n",
        "ISBN = dict(sorted(dictISBN.items(),key=operator.itemgetter(1),reverse=True))\n",
        "w = 0\n",
        "print(\"Input Book:\\n\")\n",
        "print(bookName1)\n",
        "print(\"\\nRecommended Books:\\n\")\n",
        "for x in ISBN.keys():\n",
        "    if w >= number1:\n",
        "        break\n",
        "    w+=1\n",
        "    print(x)"
      ],
      "metadata": {
        "colab": {
          "base_uri": "https://localhost:8080/"
        },
        "id": "f5NS1S5PJVrK",
        "outputId": "3b86583a-0dc8-4bb7-8e72-b0d6ffba80dc"
      },
      "execution_count": 50,
      "outputs": [
        {
          "output_type": "stream",
          "name": "stdout",
          "text": [
            "Input Book:\n",
            "\n",
            "Break In (Kit Fielding  #1)\n",
            "\n",
            "Recommended Books:\n",
            "\n",
            "Tales of a Fourth Grade Nothing (Fudge  #1)\n",
            "Bolt (Kit Fielding  #2)\n",
            "Fudge-a-Mania (Fudge  #4)\n",
            "A Higher Justice (The Trials of Kit Shannon #5)\n",
            "For Kicks\n",
            "It's Called a Breakup Because It's Broken: The Smart Girl's Break-Up Buddy\n",
            "Goddess of Spring (Goddess Summoning  #2)\n"
          ]
        }
      ]
    },
    {
      "cell_type": "code",
      "source": [],
      "metadata": {
        "id": "UXrCUpVUW3p1"
      },
      "execution_count": null,
      "outputs": []
    }
  ]
}