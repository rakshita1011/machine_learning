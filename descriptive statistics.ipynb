{
 "cells": [
  {
   "cell_type": "code",
   "execution_count": 2,
   "id": "96d72be5",
   "metadata": {},
   "outputs": [
    {
     "name": "stdout",
     "output_type": "stream",
     "text": [
      "[4, 5, 6, 10, 10, 12, 12, 14, 15, 15, 17, 18, 19, 20, 21, 24, 27, 32, 61, 66]\n"
     ]
    }
   ],
   "source": [
    "a=[4,5,6,10,10,12,12,14,15,15,17,18,19,20,21,24,27,32,61,66]\n",
    "print(a)"
   ]
  },
  {
   "cell_type": "code",
   "execution_count": 6,
   "id": "3f4b58e8",
   "metadata": {},
   "outputs": [],
   "source": [
    "import pandas as pd"
   ]
  },
  {
   "cell_type": "code",
   "execution_count": 8,
   "id": "03b1b64c",
   "metadata": {},
   "outputs": [
    {
     "data": {
      "text/html": [
       "<div>\n",
       "<style scoped>\n",
       "    .dataframe tbody tr th:only-of-type {\n",
       "        vertical-align: middle;\n",
       "    }\n",
       "\n",
       "    .dataframe tbody tr th {\n",
       "        vertical-align: top;\n",
       "    }\n",
       "\n",
       "    .dataframe thead th {\n",
       "        text-align: right;\n",
       "    }\n",
       "</style>\n",
       "<table border=\"1\" class=\"dataframe\">\n",
       "  <thead>\n",
       "    <tr style=\"text-align: right;\">\n",
       "      <th></th>\n",
       "      <th>x</th>\n",
       "    </tr>\n",
       "  </thead>\n",
       "  <tbody>\n",
       "    <tr>\n",
       "      <th>0</th>\n",
       "      <td>4</td>\n",
       "    </tr>\n",
       "    <tr>\n",
       "      <th>1</th>\n",
       "      <td>5</td>\n",
       "    </tr>\n",
       "    <tr>\n",
       "      <th>2</th>\n",
       "      <td>6</td>\n",
       "    </tr>\n",
       "    <tr>\n",
       "      <th>3</th>\n",
       "      <td>10</td>\n",
       "    </tr>\n",
       "    <tr>\n",
       "      <th>4</th>\n",
       "      <td>10</td>\n",
       "    </tr>\n",
       "  </tbody>\n",
       "</table>\n",
       "</div>"
      ],
      "text/plain": [
       "    x\n",
       "0   4\n",
       "1   5\n",
       "2   6\n",
       "3  10\n",
       "4  10"
      ]
     },
     "execution_count": 8,
     "metadata": {},
     "output_type": "execute_result"
    }
   ],
   "source": [
    "##CREATING DATAFRAME\n",
    "df=pd.DataFrame(a,columns=['x'])\n",
    "df.head()"
   ]
  },
  {
   "cell_type": "code",
   "execution_count": 10,
   "id": "145ba9c6",
   "metadata": {},
   "outputs": [
    {
     "data": {
      "text/plain": [
       "0      4\n",
       "1      5\n",
       "2      6\n",
       "3     10\n",
       "4     10\n",
       "5     12\n",
       "6     12\n",
       "7     14\n",
       "8     15\n",
       "9     15\n",
       "10    17\n",
       "11    18\n",
       "12    19\n",
       "13    20\n",
       "14    21\n",
       "15    24\n",
       "16    27\n",
       "17    32\n",
       "18    61\n",
       "19    66\n",
       "Name: x, dtype: int64"
      ]
     },
     "execution_count": 10,
     "metadata": {},
     "output_type": "execute_result"
    }
   ],
   "source": [
    "df.x"
   ]
  },
  {
   "cell_type": "markdown",
   "id": "72350378",
   "metadata": {},
   "source": [
    "# Plot"
   ]
  },
  {
   "cell_type": "code",
   "execution_count": 12,
   "id": "528e6001",
   "metadata": {},
   "outputs": [
    {
     "name": "stderr",
     "output_type": "stream",
     "text": [
      "Matplotlib is building the font cache; this may take a moment.\n"
     ]
    }
   ],
   "source": [
    "import matplotlib.pyplot as plt"
   ]
  },
  {
   "cell_type": "code",
   "execution_count": 14,
   "id": "d327816d",
   "metadata": {},
   "outputs": [
    {
     "data": {
      "text/plain": [
       "<AxesSubplot:>"
      ]
     },
     "execution_count": 14,
     "metadata": {},
     "output_type": "execute_result"
    },
    {
     "data": {
      "image/png": "[encoded data removed]",
      "text/plain": [
       "<Figure size 432x288 with 1 Axes>"
      ]
     },
     "metadata": {
      "needs_background": "light"
     },
     "output_type": "display_data"
    }
   ],
   "source": [
    "df.x.plot()"
   ]
  },
  {
   "cell_type": "code",
   "execution_count": 15,
   "id": "27b65b12",
   "metadata": {},
   "outputs": [
    {
     "data": {
      "text/plain": [
       "<AxesSubplot:>"
      ]
     },
     "execution_count": 15,
     "metadata": {},
     "output_type": "execute_result"
    },
    {
     "data": {
      "image/png": "[encoded data removed]",
      "text/plain": [
       "<Figure size 432x288 with 1 Axes>"
      ]
     },
     "metadata": {
      "needs_background": "light"
     },
     "output_type": "display_data"
    }
   ],
   "source": [
    "df.x.hist()"
   ]
  },
  {
   "cell_type": "code",
   "execution_count": 17,
   "id": "86f39a5c",
   "metadata": {},
   "outputs": [
    {
     "data": {
      "text/plain": [
       "<AxesSubplot:ylabel='Density'>"
      ]
     },
     "execution_count": 17,
     "metadata": {},
     "output_type": "execute_result"
    },
    {
     "data": {
      "image/png": "[encoded data removed]",
      "text/plain": [
       "<Figure size 432x288 with 1 Axes>"
      ]
     },
     "metadata": {
      "needs_background": "light"
     },
     "output_type": "display_data"
    }
   ],
   "source": [
    "df.x.plot.density()"
   ]
  },
  {
   "cell_type": "code",
   "execution_count": 27,
   "id": "ab8ceb2d",
   "metadata": {},
   "outputs": [],
   "source": [
    "## SKEWED PLOT above"
   ]
  },
  {
   "cell_type": "markdown",
   "id": "265611b2",
   "metadata": {},
   "source": [
    "# Statistics"
   ]
  },
  {
   "cell_type": "code",
   "execution_count": 28,
   "id": "422bfb6b",
   "metadata": {},
   "outputs": [
    {
     "name": "stdout",
     "output_type": "stream",
     "text": [
      "4\n",
      "66\n"
     ]
    }
   ],
   "source": [
    "# MIN AND MAX\n",
    "\n",
    "print(df.x.min())\n",
    "\n",
    "print(df.x.max())"
   ]
  },
  {
   "cell_type": "code",
   "execution_count": 30,
   "id": "ebf2e5ae",
   "metadata": {},
   "outputs": [
    {
     "name": "stdout",
     "output_type": "stream",
     "text": [
      "20.4\n",
      "16.0\n",
      "0    10\n",
      "1    12\n",
      "2    15\n",
      "dtype: int64\n",
      "16.397689182513364\n",
      "268.8842105263158\n"
     ]
    }
   ],
   "source": [
    "#MEAN, MEDIAN, MODE, SD AND VARINCE\n",
    "print(df.x.mean())\n",
    "print(df.x.median())\n",
    "print(df.x.mode())\n",
    "print(df.x.std())\n",
    "print(df.x.var())"
   ]
  },
  {
   "cell_type": "code",
   "execution_count": 31,
   "id": "7dd20468",
   "metadata": {},
   "outputs": [
    {
     "name": "stdout",
     "output_type": "stream",
     "text": [
      "1.9698871520517598\n",
      "3.7243089485439107\n"
     ]
    }
   ],
   "source": [
    "#SKEWNESS AND KURT\n",
    "print(df.x.skew())\n",
    "print(df.x.kurt())"
   ]
  },
  {
   "cell_type": "code",
   "execution_count": 32,
   "id": "4d977899",
   "metadata": {},
   "outputs": [],
   "source": [
    "# Since kurtosis is 3.7243089485439107 which is greater than 3, we can say it is leptokurtosis"
   ]
  },
  {
   "cell_type": "code",
   "execution_count": null,
   "id": "160269c4",
   "metadata": {},
   "outputs": [],
   "source": []
  }
 ],
 "metadata": {
  "kernelspec": {
   "display_name": "Python 3",
   "language": "python",
   "name": "python3"
  },
  "language_info": {
   "codemirror_mode": {
    "name": "ipython",
    "version": 3
   },
   "file_extension": ".py",
   "mimetype": "text/x-python",
   "name": "python",
   "nbconvert_exporter": "python",
   "pygments_lexer": "ipython3",
   "version": "3.8.8"
  }
 },
 "nbformat": 4,
 "nbformat_minor": 5
}
